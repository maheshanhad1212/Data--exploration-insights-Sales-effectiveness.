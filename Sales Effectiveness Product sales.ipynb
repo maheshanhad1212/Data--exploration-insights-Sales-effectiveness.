{
 "cells": [
  {
   "cell_type": "markdown",
   "id": "73c1125d",
   "metadata": {},
   "source": [
    "# PROJECT SUMMARY"
   ]
  },
  {
   "cell_type": "markdown",
   "id": "c42081e0",
   "metadata": {},
   "source": [
    "### FicZon Inc is an IT solution provider with products ranging from on-premises products to SAS based solutions. FicZon major leads generation channel is digital and through their website\n",
    "\n",
    "### FicZon business is majorly dependent on the sales force effectiveness. As the market is maturing and more new competitors entering the market, FicZon is experiencing the dip in sales. Effective sales is dependent on lead quality and as of now, this is based on manual categorization and highly depended on sales staff. Though there is a quality process, which continuously updates the lead categorization, it’s value is in for post analysis, rather than conversation."
   ]
  },
  {
   "cell_type": "markdown",
   "id": "01734279",
   "metadata": {},
   "source": [
    "# PROBLEM DEFINATION"
   ]
  },
  {
   "cell_type": "markdown",
   "id": "38945e9c",
   "metadata": {},
   "source": [
    "FicZon wants exploare to Machine Learning to pre-categorize the lead quality and as result,expecting significant increase in sales effectiveness"
   ]
  },
  {
   "cell_type": "markdown",
   "id": "1a132fa1",
   "metadata": {},
   "source": [
    "### PROJECT GOAL"
   ]
  },
  {
   "cell_type": "markdown",
   "id": "9de1f1b7",
   "metadata": {},
   "source": [
    "Data exploration insights-sales effectiveness.\n",
    "\n",
    "ML model to predict the Lead Category."
   ]
  },
  {
   "cell_type": "markdown",
   "id": "3202bdac",
   "metadata": {},
   "source": [
    "# Business Case: Predicting the lead category whether it is Good or bad from the given sales dataset."
   ]
  },
  {
   "cell_type": "markdown",
   "id": "bbc173d9",
   "metadata": {},
   "source": [
    "# Connecting to the server"
   ]
  },
  {
   "cell_type": "code",
   "execution_count": 3,
   "id": "ebc4a346",
   "metadata": {},
   "outputs": [
    {
     "name": "stdout",
     "output_type": "stream",
     "text": [
      "Requirement already satisfied: mysql-connector in c:\\users\\hp\\anaconda3\\lib\\site-packages (2.2.9)\n",
      "Note: you may need to restart the kernel to use updated packages.\n"
     ]
    }
   ],
   "source": [
    "pip install mysql-connector"
   ]
  },
  {
   "cell_type": "code",
   "execution_count": 4,
   "id": "f6ae68b8",
   "metadata": {},
   "outputs": [],
   "source": [
    "import os \n",
    "import mysql.connector\n",
    "import pandas as pd\n",
    "import numpy as np"
   ]
  },
  {
   "cell_type": "code",
   "execution_count": 5,
   "id": "b6e59e04",
   "metadata": {},
   "outputs": [
    {
     "name": "stdout",
     "output_type": "stream",
     "text": [
      "<mysql.connector.connection.MySQLConnection object at 0x00000279BCAF3040>\n"
     ]
    }
   ],
   "source": [
    "## making connections\n",
    "connection=mysql.connector.connect(host = '18.136.157.135',\n",
    "                                  user='dm_team2',\n",
    "                                  password='DM!$Team&27@9!20!')\n",
    "print(connection)"
   ]
  },
  {
   "cell_type": "code",
   "execution_count": 6,
   "id": "83ff9b51",
   "metadata": {},
   "outputs": [
    {
     "name": "stdout",
     "output_type": "stream",
     "text": [
      "('information_schema',)\n",
      "('project_sales',)\n"
     ]
    }
   ],
   "source": [
    "# getting the databse name\n",
    "cursor=connection.cursor()\n",
    "cursor.execute('show databases')\n",
    "for i in cursor:\n",
    "    print(i)\n",
    "\n"
   ]
  },
  {
   "cell_type": "code",
   "execution_count": 7,
   "id": "bda92341",
   "metadata": {},
   "outputs": [],
   "source": [
    "## connecting the database\n",
    "connection=mysql.connector.connect(host='18.136.157.135',\n",
    "                                  user='dm_team2',\n",
    "                                  password='DM!$Team&27@9!20!',\n",
    "                                  database='project_sales')"
   ]
  },
  {
   "cell_type": "code",
   "execution_count": 8,
   "id": "42569b01",
   "metadata": {},
   "outputs": [
    {
     "name": "stderr",
     "output_type": "stream",
     "text": [
      "C:\\Users\\hp\\anaconda3\\lib\\site-packages\\pandas\\io\\sql.py:761: UserWarning: pandas only support SQLAlchemy connectable(engine/connection) ordatabase string URI or sqlite3 DBAPI2 connectionother DBAPI2 objects are not tested, please consider using SQLAlchemy\n",
      "  warnings.warn(\n"
     ]
    },
    {
     "name": "stdout",
     "output_type": "stream",
     "text": [
      "  Tables_in_project_sales\n",
      "0                    data\n"
     ]
    }
   ],
   "source": [
    "db_tables=pd.read_sql_query('show tables',connection)\n",
    "print(db_tables)"
   ]
  },
  {
   "cell_type": "code",
   "execution_count": 11,
   "id": "6e2f8e2f",
   "metadata": {},
   "outputs": [],
   "source": [
    "query = \"select * from data\""
   ]
  },
  {
   "cell_type": "code",
   "execution_count": 12,
   "id": "6c26eaa2",
   "metadata": {},
   "outputs": [],
   "source": [
    "Sales_Data = pd.read_sql(query,connection)"
   ]
  },
  {
   "cell_type": "code",
   "execution_count": 13,
   "id": "3eaeb70f",
   "metadata": {},
   "outputs": [
    {
     "data": {
      "text/html": [
       "<div>\n",
       "<style scoped>\n",
       "    .dataframe tbody tr th:only-of-type {\n",
       "        vertical-align: middle;\n",
       "    }\n",
       "\n",
       "    .dataframe tbody tr th {\n",
       "        vertical-align: top;\n",
       "    }\n",
       "\n",
       "    .dataframe thead th {\n",
       "        text-align: right;\n",
       "    }\n",
       "</style>\n",
       "<table border=\"1\" class=\"dataframe\">\n",
       "  <thead>\n",
       "    <tr style=\"text-align: right;\">\n",
       "      <th></th>\n",
       "      <th>Created</th>\n",
       "      <th>Product_ID</th>\n",
       "      <th>Source</th>\n",
       "      <th>Mobile</th>\n",
       "      <th>EMAIL</th>\n",
       "      <th>Sales_Agent</th>\n",
       "      <th>Location</th>\n",
       "      <th>Delivery_Mode</th>\n",
       "      <th>Status</th>\n",
       "    </tr>\n",
       "  </thead>\n",
       "  <tbody>\n",
       "    <tr>\n",
       "      <th>0</th>\n",
       "      <td>14-11-2018 10:05</td>\n",
       "      <td></td>\n",
       "      <td>Website</td>\n",
       "      <td>984XXXXXXX</td>\n",
       "      <td>aXXXXXXX@gmail.com</td>\n",
       "      <td>Sales-Agent-11</td>\n",
       "      <td></td>\n",
       "      <td>Mode-5</td>\n",
       "      <td>Open</td>\n",
       "    </tr>\n",
       "    <tr>\n",
       "      <th>1</th>\n",
       "      <td>14-11-2018 09:22</td>\n",
       "      <td></td>\n",
       "      <td>Website</td>\n",
       "      <td>XXXXXXX</td>\n",
       "      <td>#VALUE!</td>\n",
       "      <td>Sales-Agent-10</td>\n",
       "      <td></td>\n",
       "      <td>Mode-5</td>\n",
       "      <td>Open</td>\n",
       "    </tr>\n",
       "    <tr>\n",
       "      <th>2</th>\n",
       "      <td>14-11-2018 09:21</td>\n",
       "      <td></td>\n",
       "      <td>Website</td>\n",
       "      <td>XXXXXXX</td>\n",
       "      <td>dXXXXXXX@yahoo.com</td>\n",
       "      <td>Sales-Agent-10</td>\n",
       "      <td></td>\n",
       "      <td>Mode-5</td>\n",
       "      <td>Open</td>\n",
       "    </tr>\n",
       "    <tr>\n",
       "      <th>3</th>\n",
       "      <td>14-11-2018 08:46</td>\n",
       "      <td></td>\n",
       "      <td>Website</td>\n",
       "      <td>XXXXXXX</td>\n",
       "      <td>wXXXXXXX@gmail.com</td>\n",
       "      <td>Sales-Agent-10</td>\n",
       "      <td></td>\n",
       "      <td>Mode-5</td>\n",
       "      <td>Open</td>\n",
       "    </tr>\n",
       "    <tr>\n",
       "      <th>4</th>\n",
       "      <td>14-11-2018 07:34</td>\n",
       "      <td></td>\n",
       "      <td>Website</td>\n",
       "      <td>XXXXXXX</td>\n",
       "      <td>cXXXXXXX@gmail.com</td>\n",
       "      <td>Sales-Agent-10</td>\n",
       "      <td></td>\n",
       "      <td>Mode-5</td>\n",
       "      <td>Open</td>\n",
       "    </tr>\n",
       "    <tr>\n",
       "      <th>...</th>\n",
       "      <td>...</td>\n",
       "      <td>...</td>\n",
       "      <td>...</td>\n",
       "      <td>...</td>\n",
       "      <td>...</td>\n",
       "      <td>...</td>\n",
       "      <td>...</td>\n",
       "      <td>...</td>\n",
       "      <td>...</td>\n",
       "    </tr>\n",
       "    <tr>\n",
       "      <th>7417</th>\n",
       "      <td>28-04-2018 09:45</td>\n",
       "      <td>9</td>\n",
       "      <td>Call</td>\n",
       "      <td></td>\n",
       "      <td>aXXXXXXX@gmail.com</td>\n",
       "      <td>Sales-Agent-6</td>\n",
       "      <td>Mumbai</td>\n",
       "      <td>Mode-4</td>\n",
       "      <td>LOST</td>\n",
       "    </tr>\n",
       "    <tr>\n",
       "      <th>7418</th>\n",
       "      <td>28-04-2018 09:43</td>\n",
       "      <td>15</td>\n",
       "      <td>Call</td>\n",
       "      <td></td>\n",
       "      <td>#VALUE!</td>\n",
       "      <td>Sales-Agent-12</td>\n",
       "      <td>Other Locations</td>\n",
       "      <td>Mode-5</td>\n",
       "      <td>LOST</td>\n",
       "    </tr>\n",
       "    <tr>\n",
       "      <th>7419</th>\n",
       "      <td>28-04-2018 09:20</td>\n",
       "      <td>5</td>\n",
       "      <td>Live Chat-Direct</td>\n",
       "      <td></td>\n",
       "      <td>sXXXXXXX@gmail.com</td>\n",
       "      <td>Sales-Agent-11</td>\n",
       "      <td>Bangalore</td>\n",
       "      <td>Mode-1</td>\n",
       "      <td>Not Responding</td>\n",
       "    </tr>\n",
       "    <tr>\n",
       "      <th>7420</th>\n",
       "      <td>28-04-2018 08:04</td>\n",
       "      <td>21</td>\n",
       "      <td>CRM form</td>\n",
       "      <td></td>\n",
       "      <td>YXXXXXXX@gmail.com</td>\n",
       "      <td>Sales-Agent-4</td>\n",
       "      <td>Other Locations</td>\n",
       "      <td>Mode-1</td>\n",
       "      <td>Just Enquiry</td>\n",
       "    </tr>\n",
       "    <tr>\n",
       "      <th>7421</th>\n",
       "      <td>28-04-2018 07:54</td>\n",
       "      <td>25</td>\n",
       "      <td>Website</td>\n",
       "      <td></td>\n",
       "      <td>cXXXXXXX@gmail.com</td>\n",
       "      <td>Sales-Agent-3</td>\n",
       "      <td>Chennai</td>\n",
       "      <td>Mode-1</td>\n",
       "      <td>CONVERTED</td>\n",
       "    </tr>\n",
       "  </tbody>\n",
       "</table>\n",
       "<p>7422 rows × 9 columns</p>\n",
       "</div>"
      ],
      "text/plain": [
       "               Created Product_ID            Source      Mobile  \\\n",
       "0     14-11-2018 10:05                      Website  984XXXXXXX   \n",
       "1     14-11-2018 09:22                      Website     XXXXXXX   \n",
       "2     14-11-2018 09:21                      Website     XXXXXXX   \n",
       "3     14-11-2018 08:46                      Website     XXXXXXX   \n",
       "4     14-11-2018 07:34                      Website     XXXXXXX   \n",
       "...                ...        ...               ...         ...   \n",
       "7417  28-04-2018 09:45          9              Call               \n",
       "7418  28-04-2018 09:43         15              Call               \n",
       "7419  28-04-2018 09:20          5  Live Chat-Direct               \n",
       "7420  28-04-2018 08:04         21          CRM form               \n",
       "7421  28-04-2018 07:54         25           Website               \n",
       "\n",
       "                   EMAIL     Sales_Agent         Location Delivery_Mode  \\\n",
       "0     aXXXXXXX@gmail.com  Sales-Agent-11                         Mode-5   \n",
       "1                #VALUE!  Sales-Agent-10                         Mode-5   \n",
       "2     dXXXXXXX@yahoo.com  Sales-Agent-10                         Mode-5   \n",
       "3     wXXXXXXX@gmail.com  Sales-Agent-10                         Mode-5   \n",
       "4     cXXXXXXX@gmail.com  Sales-Agent-10                         Mode-5   \n",
       "...                  ...             ...              ...           ...   \n",
       "7417  aXXXXXXX@gmail.com   Sales-Agent-6           Mumbai        Mode-4   \n",
       "7418             #VALUE!  Sales-Agent-12  Other Locations        Mode-5   \n",
       "7419  sXXXXXXX@gmail.com  Sales-Agent-11        Bangalore        Mode-1   \n",
       "7420  YXXXXXXX@gmail.com   Sales-Agent-4  Other Locations        Mode-1   \n",
       "7421  cXXXXXXX@gmail.com   Sales-Agent-3          Chennai        Mode-1   \n",
       "\n",
       "              Status  \n",
       "0               Open  \n",
       "1               Open  \n",
       "2               Open  \n",
       "3               Open  \n",
       "4               Open  \n",
       "...              ...  \n",
       "7417            LOST  \n",
       "7418            LOST  \n",
       "7419  Not Responding  \n",
       "7420    Just Enquiry  \n",
       "7421       CONVERTED  \n",
       "\n",
       "[7422 rows x 9 columns]"
      ]
     },
     "execution_count": 13,
     "metadata": {},
     "output_type": "execute_result"
    }
   ],
   "source": [
    "Sales_Data"
   ]
  },
  {
   "cell_type": "markdown",
   "id": "ca23bda9",
   "metadata": {},
   "source": [
    "# DOMAIN ANALYSIS"
   ]
  },
  {
   "cell_type": "markdown",
   "id": "bb9d2848",
   "metadata": {},
   "source": [
    "Created - date and time of lead generrated\n",
    "\n",
    "Product_ID - Product id of the each products\n",
    "\n",
    "Source - The channel through which a lead initially discovers the company\n",
    "\n",
    "Sales Agent - A person or a company that acts as a sales agent on behalf of the company, introducing its products to the leads.\n",
    "\n",
    "Location - locations of the leads\n",
    "\n",
    "Delivery_Mode - mode of the delivery according to the location\n",
    "\n",
    "Status - (the target variable) The field is typically used to communicate the status of a record to both the reporting users and the sales rep who is working the lead. The reporting user wants to see explicit detail while the sales rep wants to update the record in a natural and efficient manner."
   ]
  },
  {
   "cell_type": "markdown",
   "id": "b070e247",
   "metadata": {},
   "source": [
    "# Basic Checks"
   ]
  },
  {
   "cell_type": "code",
   "execution_count": 14,
   "id": "a2a2aabd",
   "metadata": {},
   "outputs": [
    {
     "data": {
      "text/html": [
       "<div>\n",
       "<style scoped>\n",
       "    .dataframe tbody tr th:only-of-type {\n",
       "        vertical-align: middle;\n",
       "    }\n",
       "\n",
       "    .dataframe tbody tr th {\n",
       "        vertical-align: top;\n",
       "    }\n",
       "\n",
       "    .dataframe thead th {\n",
       "        text-align: right;\n",
       "    }\n",
       "</style>\n",
       "<table border=\"1\" class=\"dataframe\">\n",
       "  <thead>\n",
       "    <tr style=\"text-align: right;\">\n",
       "      <th></th>\n",
       "      <th>Created</th>\n",
       "      <th>Product_ID</th>\n",
       "      <th>Source</th>\n",
       "      <th>Mobile</th>\n",
       "      <th>EMAIL</th>\n",
       "      <th>Sales_Agent</th>\n",
       "      <th>Location</th>\n",
       "      <th>Delivery_Mode</th>\n",
       "      <th>Status</th>\n",
       "    </tr>\n",
       "  </thead>\n",
       "  <tbody>\n",
       "    <tr>\n",
       "      <th>0</th>\n",
       "      <td>14-11-2018 10:05</td>\n",
       "      <td></td>\n",
       "      <td>Website</td>\n",
       "      <td>984XXXXXXX</td>\n",
       "      <td>aXXXXXXX@gmail.com</td>\n",
       "      <td>Sales-Agent-11</td>\n",
       "      <td></td>\n",
       "      <td>Mode-5</td>\n",
       "      <td>Open</td>\n",
       "    </tr>\n",
       "    <tr>\n",
       "      <th>1</th>\n",
       "      <td>14-11-2018 09:22</td>\n",
       "      <td></td>\n",
       "      <td>Website</td>\n",
       "      <td>XXXXXXX</td>\n",
       "      <td>#VALUE!</td>\n",
       "      <td>Sales-Agent-10</td>\n",
       "      <td></td>\n",
       "      <td>Mode-5</td>\n",
       "      <td>Open</td>\n",
       "    </tr>\n",
       "    <tr>\n",
       "      <th>2</th>\n",
       "      <td>14-11-2018 09:21</td>\n",
       "      <td></td>\n",
       "      <td>Website</td>\n",
       "      <td>XXXXXXX</td>\n",
       "      <td>dXXXXXXX@yahoo.com</td>\n",
       "      <td>Sales-Agent-10</td>\n",
       "      <td></td>\n",
       "      <td>Mode-5</td>\n",
       "      <td>Open</td>\n",
       "    </tr>\n",
       "    <tr>\n",
       "      <th>3</th>\n",
       "      <td>14-11-2018 08:46</td>\n",
       "      <td></td>\n",
       "      <td>Website</td>\n",
       "      <td>XXXXXXX</td>\n",
       "      <td>wXXXXXXX@gmail.com</td>\n",
       "      <td>Sales-Agent-10</td>\n",
       "      <td></td>\n",
       "      <td>Mode-5</td>\n",
       "      <td>Open</td>\n",
       "    </tr>\n",
       "    <tr>\n",
       "      <th>4</th>\n",
       "      <td>14-11-2018 07:34</td>\n",
       "      <td></td>\n",
       "      <td>Website</td>\n",
       "      <td>XXXXXXX</td>\n",
       "      <td>cXXXXXXX@gmail.com</td>\n",
       "      <td>Sales-Agent-10</td>\n",
       "      <td></td>\n",
       "      <td>Mode-5</td>\n",
       "      <td>Open</td>\n",
       "    </tr>\n",
       "  </tbody>\n",
       "</table>\n",
       "</div>"
      ],
      "text/plain": [
       "            Created Product_ID   Source      Mobile               EMAIL  \\\n",
       "0  14-11-2018 10:05             Website  984XXXXXXX  aXXXXXXX@gmail.com   \n",
       "1  14-11-2018 09:22             Website     XXXXXXX             #VALUE!   \n",
       "2  14-11-2018 09:21             Website     XXXXXXX  dXXXXXXX@yahoo.com   \n",
       "3  14-11-2018 08:46             Website     XXXXXXX  wXXXXXXX@gmail.com   \n",
       "4  14-11-2018 07:34             Website     XXXXXXX  cXXXXXXX@gmail.com   \n",
       "\n",
       "      Sales_Agent Location Delivery_Mode Status  \n",
       "0  Sales-Agent-11                 Mode-5   Open  \n",
       "1  Sales-Agent-10                 Mode-5   Open  \n",
       "2  Sales-Agent-10                 Mode-5   Open  \n",
       "3  Sales-Agent-10                 Mode-5   Open  \n",
       "4  Sales-Agent-10                 Mode-5   Open  "
      ]
     },
     "execution_count": 14,
     "metadata": {},
     "output_type": "execute_result"
    }
   ],
   "source": [
    "Sales_Data.head()"
   ]
  },
  {
   "cell_type": "code",
   "execution_count": 15,
   "id": "e2813d9d",
   "metadata": {},
   "outputs": [
    {
     "data": {
      "text/html": [
       "<div>\n",
       "<style scoped>\n",
       "    .dataframe tbody tr th:only-of-type {\n",
       "        vertical-align: middle;\n",
       "    }\n",
       "\n",
       "    .dataframe tbody tr th {\n",
       "        vertical-align: top;\n",
       "    }\n",
       "\n",
       "    .dataframe thead th {\n",
       "        text-align: right;\n",
       "    }\n",
       "</style>\n",
       "<table border=\"1\" class=\"dataframe\">\n",
       "  <thead>\n",
       "    <tr style=\"text-align: right;\">\n",
       "      <th></th>\n",
       "      <th>Created</th>\n",
       "      <th>Product_ID</th>\n",
       "      <th>Source</th>\n",
       "      <th>Mobile</th>\n",
       "      <th>EMAIL</th>\n",
       "      <th>Sales_Agent</th>\n",
       "      <th>Location</th>\n",
       "      <th>Delivery_Mode</th>\n",
       "      <th>Status</th>\n",
       "    </tr>\n",
       "  </thead>\n",
       "  <tbody>\n",
       "    <tr>\n",
       "      <th>7417</th>\n",
       "      <td>28-04-2018 09:45</td>\n",
       "      <td>9</td>\n",
       "      <td>Call</td>\n",
       "      <td></td>\n",
       "      <td>aXXXXXXX@gmail.com</td>\n",
       "      <td>Sales-Agent-6</td>\n",
       "      <td>Mumbai</td>\n",
       "      <td>Mode-4</td>\n",
       "      <td>LOST</td>\n",
       "    </tr>\n",
       "    <tr>\n",
       "      <th>7418</th>\n",
       "      <td>28-04-2018 09:43</td>\n",
       "      <td>15</td>\n",
       "      <td>Call</td>\n",
       "      <td></td>\n",
       "      <td>#VALUE!</td>\n",
       "      <td>Sales-Agent-12</td>\n",
       "      <td>Other Locations</td>\n",
       "      <td>Mode-5</td>\n",
       "      <td>LOST</td>\n",
       "    </tr>\n",
       "    <tr>\n",
       "      <th>7419</th>\n",
       "      <td>28-04-2018 09:20</td>\n",
       "      <td>5</td>\n",
       "      <td>Live Chat-Direct</td>\n",
       "      <td></td>\n",
       "      <td>sXXXXXXX@gmail.com</td>\n",
       "      <td>Sales-Agent-11</td>\n",
       "      <td>Bangalore</td>\n",
       "      <td>Mode-1</td>\n",
       "      <td>Not Responding</td>\n",
       "    </tr>\n",
       "    <tr>\n",
       "      <th>7420</th>\n",
       "      <td>28-04-2018 08:04</td>\n",
       "      <td>21</td>\n",
       "      <td>CRM form</td>\n",
       "      <td></td>\n",
       "      <td>YXXXXXXX@gmail.com</td>\n",
       "      <td>Sales-Agent-4</td>\n",
       "      <td>Other Locations</td>\n",
       "      <td>Mode-1</td>\n",
       "      <td>Just Enquiry</td>\n",
       "    </tr>\n",
       "    <tr>\n",
       "      <th>7421</th>\n",
       "      <td>28-04-2018 07:54</td>\n",
       "      <td>25</td>\n",
       "      <td>Website</td>\n",
       "      <td></td>\n",
       "      <td>cXXXXXXX@gmail.com</td>\n",
       "      <td>Sales-Agent-3</td>\n",
       "      <td>Chennai</td>\n",
       "      <td>Mode-1</td>\n",
       "      <td>CONVERTED</td>\n",
       "    </tr>\n",
       "  </tbody>\n",
       "</table>\n",
       "</div>"
      ],
      "text/plain": [
       "               Created Product_ID            Source Mobile  \\\n",
       "7417  28-04-2018 09:45          9              Call          \n",
       "7418  28-04-2018 09:43         15              Call          \n",
       "7419  28-04-2018 09:20          5  Live Chat-Direct          \n",
       "7420  28-04-2018 08:04         21          CRM form          \n",
       "7421  28-04-2018 07:54         25           Website          \n",
       "\n",
       "                   EMAIL     Sales_Agent         Location Delivery_Mode  \\\n",
       "7417  aXXXXXXX@gmail.com   Sales-Agent-6           Mumbai        Mode-4   \n",
       "7418             #VALUE!  Sales-Agent-12  Other Locations        Mode-5   \n",
       "7419  sXXXXXXX@gmail.com  Sales-Agent-11        Bangalore        Mode-1   \n",
       "7420  YXXXXXXX@gmail.com   Sales-Agent-4  Other Locations        Mode-1   \n",
       "7421  cXXXXXXX@gmail.com   Sales-Agent-3          Chennai        Mode-1   \n",
       "\n",
       "              Status  \n",
       "7417            LOST  \n",
       "7418            LOST  \n",
       "7419  Not Responding  \n",
       "7420    Just Enquiry  \n",
       "7421       CONVERTED  "
      ]
     },
     "execution_count": 15,
     "metadata": {},
     "output_type": "execute_result"
    }
   ],
   "source": [
    "Sales_Data.tail()"
   ]
  },
  {
   "cell_type": "code",
   "execution_count": 17,
   "id": "79803ae6",
   "metadata": {},
   "outputs": [
    {
     "data": {
      "text/plain": [
       "0                Website\n",
       "1                Website\n",
       "2                Website\n",
       "3                Website\n",
       "4                Website\n",
       "              ...       \n",
       "7417                Call\n",
       "7418                Call\n",
       "7419    Live Chat-Direct\n",
       "7420            CRM form\n",
       "7421             Website\n",
       "Name: Source, Length: 7422, dtype: object"
      ]
     },
     "execution_count": 17,
     "metadata": {},
     "output_type": "execute_result"
    }
   ],
   "source": [
    "Sales_Data.Source"
   ]
  },
  {
   "cell_type": "code",
   "execution_count": 18,
   "id": "14509e8f",
   "metadata": {},
   "outputs": [
    {
     "data": {
      "text/html": [
       "<div>\n",
       "<style scoped>\n",
       "    .dataframe tbody tr th:only-of-type {\n",
       "        vertical-align: middle;\n",
       "    }\n",
       "\n",
       "    .dataframe tbody tr th {\n",
       "        vertical-align: top;\n",
       "    }\n",
       "\n",
       "    .dataframe thead th {\n",
       "        text-align: right;\n",
       "    }\n",
       "</style>\n",
       "<table border=\"1\" class=\"dataframe\">\n",
       "  <thead>\n",
       "    <tr style=\"text-align: right;\">\n",
       "      <th></th>\n",
       "      <th>Created</th>\n",
       "      <th>Product_ID</th>\n",
       "      <th>Source</th>\n",
       "      <th>Mobile</th>\n",
       "      <th>EMAIL</th>\n",
       "      <th>Sales_Agent</th>\n",
       "      <th>Location</th>\n",
       "      <th>Delivery_Mode</th>\n",
       "      <th>Status</th>\n",
       "    </tr>\n",
       "  </thead>\n",
       "  <tbody>\n",
       "    <tr>\n",
       "      <th>count</th>\n",
       "      <td>7422</td>\n",
       "      <td>7422</td>\n",
       "      <td>7422</td>\n",
       "      <td>7422</td>\n",
       "      <td>7422</td>\n",
       "      <td>7422</td>\n",
       "      <td>7422</td>\n",
       "      <td>7422</td>\n",
       "      <td>7422</td>\n",
       "    </tr>\n",
       "    <tr>\n",
       "      <th>unique</th>\n",
       "      <td>6752</td>\n",
       "      <td>30</td>\n",
       "      <td>26</td>\n",
       "      <td>487</td>\n",
       "      <td>883</td>\n",
       "      <td>13</td>\n",
       "      <td>18</td>\n",
       "      <td>5</td>\n",
       "      <td>11</td>\n",
       "    </tr>\n",
       "    <tr>\n",
       "      <th>top</th>\n",
       "      <td>26-09-2018 11:30</td>\n",
       "      <td>18</td>\n",
       "      <td>Call</td>\n",
       "      <td></td>\n",
       "      <td>#VALUE!</td>\n",
       "      <td>Sales-Agent-4</td>\n",
       "      <td>Other Locations</td>\n",
       "      <td>Mode-5</td>\n",
       "      <td>Junk Lead</td>\n",
       "    </tr>\n",
       "    <tr>\n",
       "      <th>freq</th>\n",
       "      <td>4</td>\n",
       "      <td>1711</td>\n",
       "      <td>2547</td>\n",
       "      <td>1810</td>\n",
       "      <td>1701</td>\n",
       "      <td>1500</td>\n",
       "      <td>2500</td>\n",
       "      <td>2975</td>\n",
       "      <td>1536</td>\n",
       "    </tr>\n",
       "  </tbody>\n",
       "</table>\n",
       "</div>"
      ],
      "text/plain": [
       "                 Created Product_ID Source Mobile    EMAIL    Sales_Agent  \\\n",
       "count               7422       7422   7422   7422     7422           7422   \n",
       "unique              6752         30     26    487      883             13   \n",
       "top     26-09-2018 11:30         18   Call         #VALUE!  Sales-Agent-4   \n",
       "freq                   4       1711   2547   1810     1701           1500   \n",
       "\n",
       "               Location Delivery_Mode     Status  \n",
       "count              7422          7422       7422  \n",
       "unique               18             5         11  \n",
       "top     Other Locations        Mode-5  Junk Lead  \n",
       "freq               2500          2975       1536  "
      ]
     },
     "execution_count": 18,
     "metadata": {},
     "output_type": "execute_result"
    }
   ],
   "source": [
    "Sales_Data.describe()"
   ]
  },
  {
   "cell_type": "code",
   "execution_count": 19,
   "id": "562b87db",
   "metadata": {},
   "outputs": [
    {
     "name": "stdout",
     "output_type": "stream",
     "text": [
      "<class 'pandas.core.frame.DataFrame'>\n",
      "RangeIndex: 7422 entries, 0 to 7421\n",
      "Data columns (total 9 columns):\n",
      " #   Column         Non-Null Count  Dtype \n",
      "---  ------         --------------  ----- \n",
      " 0   Created        7422 non-null   object\n",
      " 1   Product_ID     7422 non-null   object\n",
      " 2   Source         7422 non-null   object\n",
      " 3   Mobile         7422 non-null   object\n",
      " 4   EMAIL          7422 non-null   object\n",
      " 5   Sales_Agent    7422 non-null   object\n",
      " 6   Location       7422 non-null   object\n",
      " 7   Delivery_Mode  7422 non-null   object\n",
      " 8   Status         7422 non-null   object\n",
      "dtypes: object(9)\n",
      "memory usage: 522.0+ KB\n"
     ]
    }
   ],
   "source": [
    "Sales_Data.info()"
   ]
  },
  {
   "cell_type": "code",
   "execution_count": 21,
   "id": "b159e14e",
   "metadata": {},
   "outputs": [
    {
     "data": {
      "text/plain": [
       "Junk Lead               1536\n",
       "Not Responding          1129\n",
       "CONVERTED                834\n",
       "Just Enquiry             760\n",
       "Potential                708\n",
       "Long Term                646\n",
       "In Progress Positive     643\n",
       "In Progress Negative     626\n",
       "LOST                     440\n",
       "Open                      82\n",
       "converted                 18\n",
       "Name: Status, dtype: int64"
      ]
     },
     "execution_count": 21,
     "metadata": {},
     "output_type": "execute_result"
    }
   ],
   "source": [
    "# Target Class Counts\n",
    "Sales_Data['Status'].value_counts()"
   ]
  },
  {
   "cell_type": "code",
   "execution_count": 22,
   "id": "de2e0af7",
   "metadata": {},
   "outputs": [
    {
     "data": {
      "text/plain": [
       "Call                             2547\n",
       "Live Chat-Direct                 1834\n",
       "Website                          1594\n",
       "Live Chat-Google Organic          274\n",
       "Live Chat -PPC                    249\n",
       "Live Chat-Blog                    237\n",
       "Customer Referral                 180\n",
       "US Website                        137\n",
       "Just Dial                          56\n",
       "Existing Client                    51\n",
       "Personal Contact                   50\n",
       "Live Chat-CPC                      50\n",
       "By Recommendation                  32\n",
       "CRM form                           23\n",
       "Existing Customer                  22\n",
       "Live Chat-Google Ads               21\n",
       "Campaign                           19\n",
       "                                   17\n",
       "E-mail Campaign                    12\n",
       "Live Chat-Adwords Remarketing       7\n",
       "Live Chat-Quora                     2\n",
       "Other                               2\n",
       "SMS Campaign                        2\n",
       "Live Chat-Youtube                   2\n",
       "E-Mail Message                      1\n",
       "Live Chat-Justdial                  1\n",
       "Name: Source, dtype: int64"
      ]
     },
     "execution_count": 22,
     "metadata": {},
     "output_type": "execute_result"
    }
   ],
   "source": [
    "Sales_Data['Source'].value_counts()"
   ]
  },
  {
   "cell_type": "markdown",
   "id": "b8ec226e",
   "metadata": {},
   "source": [
    "# Exploratory Data Analysis"
   ]
  },
  {
   "cell_type": "code",
   "execution_count": 23,
   "id": "2b0238e6",
   "metadata": {},
   "outputs": [
    {
     "data": {
      "text/html": [
       "<div>\n",
       "<style scoped>\n",
       "    .dataframe tbody tr th:only-of-type {\n",
       "        vertical-align: middle;\n",
       "    }\n",
       "\n",
       "    .dataframe tbody tr th {\n",
       "        vertical-align: top;\n",
       "    }\n",
       "\n",
       "    .dataframe thead th {\n",
       "        text-align: right;\n",
       "    }\n",
       "</style>\n",
       "<table border=\"1\" class=\"dataframe\">\n",
       "  <thead>\n",
       "    <tr style=\"text-align: right;\">\n",
       "      <th></th>\n",
       "      <th>Created</th>\n",
       "      <th>Product_ID</th>\n",
       "      <th>Source</th>\n",
       "      <th>Mobile</th>\n",
       "      <th>EMAIL</th>\n",
       "      <th>Sales_Agent</th>\n",
       "      <th>Location</th>\n",
       "      <th>Delivery_Mode</th>\n",
       "      <th>Status</th>\n",
       "    </tr>\n",
       "  </thead>\n",
       "  <tbody>\n",
       "    <tr>\n",
       "      <th>0</th>\n",
       "      <td>14-11-2018 10:05</td>\n",
       "      <td></td>\n",
       "      <td>Website</td>\n",
       "      <td>984XXXXXXX</td>\n",
       "      <td>aXXXXXXX@gmail.com</td>\n",
       "      <td>Sales-Agent-11</td>\n",
       "      <td></td>\n",
       "      <td>Mode-5</td>\n",
       "      <td>Open</td>\n",
       "    </tr>\n",
       "    <tr>\n",
       "      <th>1</th>\n",
       "      <td>14-11-2018 09:22</td>\n",
       "      <td></td>\n",
       "      <td>Website</td>\n",
       "      <td>XXXXXXX</td>\n",
       "      <td>#VALUE!</td>\n",
       "      <td>Sales-Agent-10</td>\n",
       "      <td></td>\n",
       "      <td>Mode-5</td>\n",
       "      <td>Open</td>\n",
       "    </tr>\n",
       "    <tr>\n",
       "      <th>2</th>\n",
       "      <td>14-11-2018 09:21</td>\n",
       "      <td></td>\n",
       "      <td>Website</td>\n",
       "      <td>XXXXXXX</td>\n",
       "      <td>dXXXXXXX@yahoo.com</td>\n",
       "      <td>Sales-Agent-10</td>\n",
       "      <td></td>\n",
       "      <td>Mode-5</td>\n",
       "      <td>Open</td>\n",
       "    </tr>\n",
       "    <tr>\n",
       "      <th>3</th>\n",
       "      <td>14-11-2018 08:46</td>\n",
       "      <td></td>\n",
       "      <td>Website</td>\n",
       "      <td>XXXXXXX</td>\n",
       "      <td>wXXXXXXX@gmail.com</td>\n",
       "      <td>Sales-Agent-10</td>\n",
       "      <td></td>\n",
       "      <td>Mode-5</td>\n",
       "      <td>Open</td>\n",
       "    </tr>\n",
       "    <tr>\n",
       "      <th>4</th>\n",
       "      <td>14-11-2018 07:34</td>\n",
       "      <td></td>\n",
       "      <td>Website</td>\n",
       "      <td>XXXXXXX</td>\n",
       "      <td>cXXXXXXX@gmail.com</td>\n",
       "      <td>Sales-Agent-10</td>\n",
       "      <td></td>\n",
       "      <td>Mode-5</td>\n",
       "      <td>Open</td>\n",
       "    </tr>\n",
       "  </tbody>\n",
       "</table>\n",
       "</div>"
      ],
      "text/plain": [
       "            Created Product_ID   Source      Mobile               EMAIL  \\\n",
       "0  14-11-2018 10:05             Website  984XXXXXXX  aXXXXXXX@gmail.com   \n",
       "1  14-11-2018 09:22             Website     XXXXXXX             #VALUE!   \n",
       "2  14-11-2018 09:21             Website     XXXXXXX  dXXXXXXX@yahoo.com   \n",
       "3  14-11-2018 08:46             Website     XXXXXXX  wXXXXXXX@gmail.com   \n",
       "4  14-11-2018 07:34             Website     XXXXXXX  cXXXXXXX@gmail.com   \n",
       "\n",
       "      Sales_Agent Location Delivery_Mode Status  \n",
       "0  Sales-Agent-11                 Mode-5   Open  \n",
       "1  Sales-Agent-10                 Mode-5   Open  \n",
       "2  Sales-Agent-10                 Mode-5   Open  \n",
       "3  Sales-Agent-10                 Mode-5   Open  \n",
       "4  Sales-Agent-10                 Mode-5   Open  "
      ]
     },
     "execution_count": 23,
     "metadata": {},
     "output_type": "execute_result"
    }
   ],
   "source": [
    "Sales_Data.head()"
   ]
  },
  {
   "cell_type": "code",
   "execution_count": 25,
   "id": "5e7b4ca8",
   "metadata": {},
   "outputs": [
    {
     "data": {
      "text/plain": [
       "array(['Open', 'Potential', 'In Progress Positive', 'Not Responding',\n",
       "       'Just Enquiry', 'Junk Lead', 'CONVERTED', 'In Progress Negative',\n",
       "       'LOST', 'Long Term', 'converted'], dtype=object)"
      ]
     },
     "execution_count": 25,
     "metadata": {},
     "output_type": "execute_result"
    }
   ],
   "source": [
    "Sales_Data.Status.unique()"
   ]
  },
  {
   "cell_type": "code",
   "execution_count": 26,
   "id": "8a87a40f",
   "metadata": {},
   "outputs": [
    {
     "data": {
      "text/plain": [
       "Created          0\n",
       "Product_ID       0\n",
       "Source           0\n",
       "Mobile           0\n",
       "EMAIL            0\n",
       "Sales_Agent      0\n",
       "Location         0\n",
       "Delivery_Mode    0\n",
       "Status           0\n",
       "dtype: int64"
      ]
     },
     "execution_count": 26,
     "metadata": {},
     "output_type": "execute_result"
    }
   ],
   "source": [
    "Sales_Data.isnull().sum()"
   ]
  },
  {
   "cell_type": "code",
   "execution_count": 27,
   "id": "364447c1",
   "metadata": {},
   "outputs": [
    {
     "data": {
      "text/html": [
       "<div>\n",
       "<style scoped>\n",
       "    .dataframe tbody tr th:only-of-type {\n",
       "        vertical-align: middle;\n",
       "    }\n",
       "\n",
       "    .dataframe tbody tr th {\n",
       "        vertical-align: top;\n",
       "    }\n",
       "\n",
       "    .dataframe thead th {\n",
       "        text-align: right;\n",
       "    }\n",
       "</style>\n",
       "<table border=\"1\" class=\"dataframe\">\n",
       "  <thead>\n",
       "    <tr style=\"text-align: right;\">\n",
       "      <th></th>\n",
       "      <th>Created</th>\n",
       "      <th>Product_ID</th>\n",
       "      <th>Source</th>\n",
       "      <th>Mobile</th>\n",
       "      <th>EMAIL</th>\n",
       "      <th>Sales_Agent</th>\n",
       "      <th>Location</th>\n",
       "      <th>Delivery_Mode</th>\n",
       "      <th>Status</th>\n",
       "      <th>Created_date</th>\n",
       "      <th>Created_time</th>\n",
       "    </tr>\n",
       "  </thead>\n",
       "  <tbody>\n",
       "    <tr>\n",
       "      <th>0</th>\n",
       "      <td>14-11-2018 10:05</td>\n",
       "      <td></td>\n",
       "      <td>Website</td>\n",
       "      <td>984XXXXXXX</td>\n",
       "      <td>aXXXXXXX@gmail.com</td>\n",
       "      <td>Sales-Agent-11</td>\n",
       "      <td></td>\n",
       "      <td>Mode-5</td>\n",
       "      <td>Open</td>\n",
       "      <td>14-11-2018</td>\n",
       "      <td>10:05</td>\n",
       "    </tr>\n",
       "    <tr>\n",
       "      <th>1</th>\n",
       "      <td>14-11-2018 09:22</td>\n",
       "      <td></td>\n",
       "      <td>Website</td>\n",
       "      <td>XXXXXXX</td>\n",
       "      <td>#VALUE!</td>\n",
       "      <td>Sales-Agent-10</td>\n",
       "      <td></td>\n",
       "      <td>Mode-5</td>\n",
       "      <td>Open</td>\n",
       "      <td>14-11-2018</td>\n",
       "      <td>09:22</td>\n",
       "    </tr>\n",
       "    <tr>\n",
       "      <th>2</th>\n",
       "      <td>14-11-2018 09:21</td>\n",
       "      <td></td>\n",
       "      <td>Website</td>\n",
       "      <td>XXXXXXX</td>\n",
       "      <td>dXXXXXXX@yahoo.com</td>\n",
       "      <td>Sales-Agent-10</td>\n",
       "      <td></td>\n",
       "      <td>Mode-5</td>\n",
       "      <td>Open</td>\n",
       "      <td>14-11-2018</td>\n",
       "      <td>09:21</td>\n",
       "    </tr>\n",
       "    <tr>\n",
       "      <th>3</th>\n",
       "      <td>14-11-2018 08:46</td>\n",
       "      <td></td>\n",
       "      <td>Website</td>\n",
       "      <td>XXXXXXX</td>\n",
       "      <td>wXXXXXXX@gmail.com</td>\n",
       "      <td>Sales-Agent-10</td>\n",
       "      <td></td>\n",
       "      <td>Mode-5</td>\n",
       "      <td>Open</td>\n",
       "      <td>14-11-2018</td>\n",
       "      <td>08:46</td>\n",
       "    </tr>\n",
       "    <tr>\n",
       "      <th>4</th>\n",
       "      <td>14-11-2018 07:34</td>\n",
       "      <td></td>\n",
       "      <td>Website</td>\n",
       "      <td>XXXXXXX</td>\n",
       "      <td>cXXXXXXX@gmail.com</td>\n",
       "      <td>Sales-Agent-10</td>\n",
       "      <td></td>\n",
       "      <td>Mode-5</td>\n",
       "      <td>Open</td>\n",
       "      <td>14-11-2018</td>\n",
       "      <td>07:34</td>\n",
       "    </tr>\n",
       "    <tr>\n",
       "      <th>...</th>\n",
       "      <td>...</td>\n",
       "      <td>...</td>\n",
       "      <td>...</td>\n",
       "      <td>...</td>\n",
       "      <td>...</td>\n",
       "      <td>...</td>\n",
       "      <td>...</td>\n",
       "      <td>...</td>\n",
       "      <td>...</td>\n",
       "      <td>...</td>\n",
       "      <td>...</td>\n",
       "    </tr>\n",
       "    <tr>\n",
       "      <th>7417</th>\n",
       "      <td>28-04-2018 09:45</td>\n",
       "      <td>9</td>\n",
       "      <td>Call</td>\n",
       "      <td></td>\n",
       "      <td>aXXXXXXX@gmail.com</td>\n",
       "      <td>Sales-Agent-6</td>\n",
       "      <td>Mumbai</td>\n",
       "      <td>Mode-4</td>\n",
       "      <td>LOST</td>\n",
       "      <td>28-04-2018</td>\n",
       "      <td>09:45</td>\n",
       "    </tr>\n",
       "    <tr>\n",
       "      <th>7418</th>\n",
       "      <td>28-04-2018 09:43</td>\n",
       "      <td>15</td>\n",
       "      <td>Call</td>\n",
       "      <td></td>\n",
       "      <td>#VALUE!</td>\n",
       "      <td>Sales-Agent-12</td>\n",
       "      <td>Other Locations</td>\n",
       "      <td>Mode-5</td>\n",
       "      <td>LOST</td>\n",
       "      <td>28-04-2018</td>\n",
       "      <td>09:43</td>\n",
       "    </tr>\n",
       "    <tr>\n",
       "      <th>7419</th>\n",
       "      <td>28-04-2018 09:20</td>\n",
       "      <td>5</td>\n",
       "      <td>Live Chat-Direct</td>\n",
       "      <td></td>\n",
       "      <td>sXXXXXXX@gmail.com</td>\n",
       "      <td>Sales-Agent-11</td>\n",
       "      <td>Bangalore</td>\n",
       "      <td>Mode-1</td>\n",
       "      <td>Not Responding</td>\n",
       "      <td>28-04-2018</td>\n",
       "      <td>09:20</td>\n",
       "    </tr>\n",
       "    <tr>\n",
       "      <th>7420</th>\n",
       "      <td>28-04-2018 08:04</td>\n",
       "      <td>21</td>\n",
       "      <td>CRM form</td>\n",
       "      <td></td>\n",
       "      <td>YXXXXXXX@gmail.com</td>\n",
       "      <td>Sales-Agent-4</td>\n",
       "      <td>Other Locations</td>\n",
       "      <td>Mode-1</td>\n",
       "      <td>Just Enquiry</td>\n",
       "      <td>28-04-2018</td>\n",
       "      <td>08:04</td>\n",
       "    </tr>\n",
       "    <tr>\n",
       "      <th>7421</th>\n",
       "      <td>28-04-2018 07:54</td>\n",
       "      <td>25</td>\n",
       "      <td>Website</td>\n",
       "      <td></td>\n",
       "      <td>cXXXXXXX@gmail.com</td>\n",
       "      <td>Sales-Agent-3</td>\n",
       "      <td>Chennai</td>\n",
       "      <td>Mode-1</td>\n",
       "      <td>CONVERTED</td>\n",
       "      <td>28-04-2018</td>\n",
       "      <td>07:54</td>\n",
       "    </tr>\n",
       "  </tbody>\n",
       "</table>\n",
       "<p>7422 rows × 11 columns</p>\n",
       "</div>"
      ],
      "text/plain": [
       "               Created Product_ID            Source      Mobile  \\\n",
       "0     14-11-2018 10:05                      Website  984XXXXXXX   \n",
       "1     14-11-2018 09:22                      Website     XXXXXXX   \n",
       "2     14-11-2018 09:21                      Website     XXXXXXX   \n",
       "3     14-11-2018 08:46                      Website     XXXXXXX   \n",
       "4     14-11-2018 07:34                      Website     XXXXXXX   \n",
       "...                ...        ...               ...         ...   \n",
       "7417  28-04-2018 09:45          9              Call               \n",
       "7418  28-04-2018 09:43         15              Call               \n",
       "7419  28-04-2018 09:20          5  Live Chat-Direct               \n",
       "7420  28-04-2018 08:04         21          CRM form               \n",
       "7421  28-04-2018 07:54         25           Website               \n",
       "\n",
       "                   EMAIL     Sales_Agent         Location Delivery_Mode  \\\n",
       "0     aXXXXXXX@gmail.com  Sales-Agent-11                         Mode-5   \n",
       "1                #VALUE!  Sales-Agent-10                         Mode-5   \n",
       "2     dXXXXXXX@yahoo.com  Sales-Agent-10                         Mode-5   \n",
       "3     wXXXXXXX@gmail.com  Sales-Agent-10                         Mode-5   \n",
       "4     cXXXXXXX@gmail.com  Sales-Agent-10                         Mode-5   \n",
       "...                  ...             ...              ...           ...   \n",
       "7417  aXXXXXXX@gmail.com   Sales-Agent-6           Mumbai        Mode-4   \n",
       "7418             #VALUE!  Sales-Agent-12  Other Locations        Mode-5   \n",
       "7419  sXXXXXXX@gmail.com  Sales-Agent-11        Bangalore        Mode-1   \n",
       "7420  YXXXXXXX@gmail.com   Sales-Agent-4  Other Locations        Mode-1   \n",
       "7421  cXXXXXXX@gmail.com   Sales-Agent-3          Chennai        Mode-1   \n",
       "\n",
       "              Status Created_date Created_time  \n",
       "0               Open   14-11-2018        10:05  \n",
       "1               Open   14-11-2018        09:22  \n",
       "2               Open   14-11-2018        09:21  \n",
       "3               Open   14-11-2018        08:46  \n",
       "4               Open   14-11-2018        07:34  \n",
       "...              ...          ...          ...  \n",
       "7417            LOST   28-04-2018        09:45  \n",
       "7418            LOST   28-04-2018        09:43  \n",
       "7419  Not Responding   28-04-2018        09:20  \n",
       "7420    Just Enquiry   28-04-2018        08:04  \n",
       "7421       CONVERTED   28-04-2018        07:54  \n",
       "\n",
       "[7422 rows x 11 columns]"
      ]
     },
     "execution_count": 27,
     "metadata": {},
     "output_type": "execute_result"
    }
   ],
   "source": [
    "# Splitting Created Column to to convert date and time, so that our model will work efficiently.\n",
    "Sales_Data[['Created_date','Created_time']] = Sales_Data['Created'].str.split(' ', n=1, expand=True)\n",
    "Sales_Data"
   ]
  },
  {
   "cell_type": "code",
   "execution_count": 28,
   "id": "68763f7b",
   "metadata": {},
   "outputs": [],
   "source": [
    "# Extracting Hours\n",
    "Sales_Data[\"Created_hour\"] = pd.to_datetime(Sales_Data[\"Created_time\"]).dt.hour\n",
    "\n",
    "# Extracting Minuts\n",
    "Sales_Data[\"Creating_min\"] = pd.to_datetime(Sales_Data[\"Created_time\"]).dt.minute"
   ]
  },
  {
   "cell_type": "code",
   "execution_count": 29,
   "id": "cb9ceef6",
   "metadata": {},
   "outputs": [],
   "source": [
    "Sales_Data[\"Created_day\"] = pd.to_datetime(Sales_Data.Created_date, format=\"%d-%m-%Y\").dt.day\n",
    "Sales_Data[\"Created_month\"] = pd.to_datetime(Sales_Data[\"Created_date\"], format = \"%d-%m-%Y\").dt.month\n",
    "Sales_Data[\"Created_year\"] = pd.to_datetime(Sales_Data.Created_date, format=\"%d-%m-%Y\").dt.year"
   ]
  },
  {
   "cell_type": "code",
   "execution_count": 30,
   "id": "d38a9ae2",
   "metadata": {},
   "outputs": [
    {
     "data": {
      "text/plain": [
       "Index(['Created', 'Product_ID', 'Source', 'Mobile', 'EMAIL', 'Sales_Agent',\n",
       "       'Location', 'Delivery_Mode', 'Status', 'Created_date', 'Created_time',\n",
       "       'Created_hour', 'Creating_min', 'Created_day', 'Created_month',\n",
       "       'Created_year'],\n",
       "      dtype='object')"
      ]
     },
     "execution_count": 30,
     "metadata": {},
     "output_type": "execute_result"
    }
   ],
   "source": [
    "Sales_Data.columns"
   ]
  },
  {
   "cell_type": "code",
   "execution_count": 31,
   "id": "ecf6761f",
   "metadata": {},
   "outputs": [],
   "source": [
    "# Droping columns after conversion\n",
    "Sales_Data.drop(['Created','Created_date','Created_time'],axis=1,inplace=True)"
   ]
  },
  {
   "cell_type": "code",
   "execution_count": 32,
   "id": "64097ffe",
   "metadata": {},
   "outputs": [
    {
     "data": {
      "text/html": [
       "<div>\n",
       "<style scoped>\n",
       "    .dataframe tbody tr th:only-of-type {\n",
       "        vertical-align: middle;\n",
       "    }\n",
       "\n",
       "    .dataframe tbody tr th {\n",
       "        vertical-align: top;\n",
       "    }\n",
       "\n",
       "    .dataframe thead th {\n",
       "        text-align: right;\n",
       "    }\n",
       "</style>\n",
       "<table border=\"1\" class=\"dataframe\">\n",
       "  <thead>\n",
       "    <tr style=\"text-align: right;\">\n",
       "      <th></th>\n",
       "      <th>Product_ID</th>\n",
       "      <th>Source</th>\n",
       "      <th>Mobile</th>\n",
       "      <th>EMAIL</th>\n",
       "      <th>Sales_Agent</th>\n",
       "      <th>Location</th>\n",
       "      <th>Delivery_Mode</th>\n",
       "      <th>Status</th>\n",
       "      <th>Created_hour</th>\n",
       "      <th>Creating_min</th>\n",
       "      <th>Created_day</th>\n",
       "      <th>Created_month</th>\n",
       "      <th>Created_year</th>\n",
       "    </tr>\n",
       "  </thead>\n",
       "  <tbody>\n",
       "    <tr>\n",
       "      <th>0</th>\n",
       "      <td></td>\n",
       "      <td>Website</td>\n",
       "      <td>984XXXXXXX</td>\n",
       "      <td>aXXXXXXX@gmail.com</td>\n",
       "      <td>Sales-Agent-11</td>\n",
       "      <td></td>\n",
       "      <td>Mode-5</td>\n",
       "      <td>Open</td>\n",
       "      <td>10</td>\n",
       "      <td>5</td>\n",
       "      <td>14</td>\n",
       "      <td>11</td>\n",
       "      <td>2018</td>\n",
       "    </tr>\n",
       "    <tr>\n",
       "      <th>1</th>\n",
       "      <td></td>\n",
       "      <td>Website</td>\n",
       "      <td>XXXXXXX</td>\n",
       "      <td>#VALUE!</td>\n",
       "      <td>Sales-Agent-10</td>\n",
       "      <td></td>\n",
       "      <td>Mode-5</td>\n",
       "      <td>Open</td>\n",
       "      <td>9</td>\n",
       "      <td>22</td>\n",
       "      <td>14</td>\n",
       "      <td>11</td>\n",
       "      <td>2018</td>\n",
       "    </tr>\n",
       "    <tr>\n",
       "      <th>2</th>\n",
       "      <td></td>\n",
       "      <td>Website</td>\n",
       "      <td>XXXXXXX</td>\n",
       "      <td>dXXXXXXX@yahoo.com</td>\n",
       "      <td>Sales-Agent-10</td>\n",
       "      <td></td>\n",
       "      <td>Mode-5</td>\n",
       "      <td>Open</td>\n",
       "      <td>9</td>\n",
       "      <td>21</td>\n",
       "      <td>14</td>\n",
       "      <td>11</td>\n",
       "      <td>2018</td>\n",
       "    </tr>\n",
       "    <tr>\n",
       "      <th>3</th>\n",
       "      <td></td>\n",
       "      <td>Website</td>\n",
       "      <td>XXXXXXX</td>\n",
       "      <td>wXXXXXXX@gmail.com</td>\n",
       "      <td>Sales-Agent-10</td>\n",
       "      <td></td>\n",
       "      <td>Mode-5</td>\n",
       "      <td>Open</td>\n",
       "      <td>8</td>\n",
       "      <td>46</td>\n",
       "      <td>14</td>\n",
       "      <td>11</td>\n",
       "      <td>2018</td>\n",
       "    </tr>\n",
       "    <tr>\n",
       "      <th>4</th>\n",
       "      <td></td>\n",
       "      <td>Website</td>\n",
       "      <td>XXXXXXX</td>\n",
       "      <td>cXXXXXXX@gmail.com</td>\n",
       "      <td>Sales-Agent-10</td>\n",
       "      <td></td>\n",
       "      <td>Mode-5</td>\n",
       "      <td>Open</td>\n",
       "      <td>7</td>\n",
       "      <td>34</td>\n",
       "      <td>14</td>\n",
       "      <td>11</td>\n",
       "      <td>2018</td>\n",
       "    </tr>\n",
       "  </tbody>\n",
       "</table>\n",
       "</div>"
      ],
      "text/plain": [
       "  Product_ID   Source      Mobile               EMAIL     Sales_Agent  \\\n",
       "0             Website  984XXXXXXX  aXXXXXXX@gmail.com  Sales-Agent-11   \n",
       "1             Website     XXXXXXX             #VALUE!  Sales-Agent-10   \n",
       "2             Website     XXXXXXX  dXXXXXXX@yahoo.com  Sales-Agent-10   \n",
       "3             Website     XXXXXXX  wXXXXXXX@gmail.com  Sales-Agent-10   \n",
       "4             Website     XXXXXXX  cXXXXXXX@gmail.com  Sales-Agent-10   \n",
       "\n",
       "  Location Delivery_Mode Status  Created_hour  Creating_min  Created_day  \\\n",
       "0                 Mode-5   Open            10             5           14   \n",
       "1                 Mode-5   Open             9            22           14   \n",
       "2                 Mode-5   Open             9            21           14   \n",
       "3                 Mode-5   Open             8            46           14   \n",
       "4                 Mode-5   Open             7            34           14   \n",
       "\n",
       "   Created_month  Created_year  \n",
       "0             11          2018  \n",
       "1             11          2018  \n",
       "2             11          2018  \n",
       "3             11          2018  \n",
       "4             11          2018  "
      ]
     },
     "execution_count": 32,
     "metadata": {},
     "output_type": "execute_result"
    }
   ],
   "source": [
    "Sales_Data.head()"
   ]
  },
  {
   "cell_type": "code",
   "execution_count": 33,
   "id": "5f2d932e",
   "metadata": {},
   "outputs": [],
   "source": [
    "# Dropping Mobile and Email because it contains all unique & unspecified values and dropping Created_year also because its all 2018.\n",
    "Sales_Data.drop(['Mobile','EMAIL','Created_year'], axis=1, inplace=True)"
   ]
  },
  {
   "cell_type": "code",
   "execution_count": 34,
   "id": "86ffe113",
   "metadata": {},
   "outputs": [
    {
     "data": {
      "text/html": [
       "<div>\n",
       "<style scoped>\n",
       "    .dataframe tbody tr th:only-of-type {\n",
       "        vertical-align: middle;\n",
       "    }\n",
       "\n",
       "    .dataframe tbody tr th {\n",
       "        vertical-align: top;\n",
       "    }\n",
       "\n",
       "    .dataframe thead th {\n",
       "        text-align: right;\n",
       "    }\n",
       "</style>\n",
       "<table border=\"1\" class=\"dataframe\">\n",
       "  <thead>\n",
       "    <tr style=\"text-align: right;\">\n",
       "      <th></th>\n",
       "      <th>Product_ID</th>\n",
       "      <th>Source</th>\n",
       "      <th>Sales_Agent</th>\n",
       "      <th>Location</th>\n",
       "      <th>Delivery_Mode</th>\n",
       "      <th>Status</th>\n",
       "      <th>Created_hour</th>\n",
       "      <th>Creating_min</th>\n",
       "      <th>Created_day</th>\n",
       "      <th>Created_month</th>\n",
       "    </tr>\n",
       "  </thead>\n",
       "  <tbody>\n",
       "    <tr>\n",
       "      <th>0</th>\n",
       "      <td></td>\n",
       "      <td>Website</td>\n",
       "      <td>Sales-Agent-11</td>\n",
       "      <td></td>\n",
       "      <td>Mode-5</td>\n",
       "      <td>Open</td>\n",
       "      <td>10</td>\n",
       "      <td>5</td>\n",
       "      <td>14</td>\n",
       "      <td>11</td>\n",
       "    </tr>\n",
       "    <tr>\n",
       "      <th>1</th>\n",
       "      <td></td>\n",
       "      <td>Website</td>\n",
       "      <td>Sales-Agent-10</td>\n",
       "      <td></td>\n",
       "      <td>Mode-5</td>\n",
       "      <td>Open</td>\n",
       "      <td>9</td>\n",
       "      <td>22</td>\n",
       "      <td>14</td>\n",
       "      <td>11</td>\n",
       "    </tr>\n",
       "    <tr>\n",
       "      <th>2</th>\n",
       "      <td></td>\n",
       "      <td>Website</td>\n",
       "      <td>Sales-Agent-10</td>\n",
       "      <td></td>\n",
       "      <td>Mode-5</td>\n",
       "      <td>Open</td>\n",
       "      <td>9</td>\n",
       "      <td>21</td>\n",
       "      <td>14</td>\n",
       "      <td>11</td>\n",
       "    </tr>\n",
       "    <tr>\n",
       "      <th>3</th>\n",
       "      <td></td>\n",
       "      <td>Website</td>\n",
       "      <td>Sales-Agent-10</td>\n",
       "      <td></td>\n",
       "      <td>Mode-5</td>\n",
       "      <td>Open</td>\n",
       "      <td>8</td>\n",
       "      <td>46</td>\n",
       "      <td>14</td>\n",
       "      <td>11</td>\n",
       "    </tr>\n",
       "    <tr>\n",
       "      <th>4</th>\n",
       "      <td></td>\n",
       "      <td>Website</td>\n",
       "      <td>Sales-Agent-10</td>\n",
       "      <td></td>\n",
       "      <td>Mode-5</td>\n",
       "      <td>Open</td>\n",
       "      <td>7</td>\n",
       "      <td>34</td>\n",
       "      <td>14</td>\n",
       "      <td>11</td>\n",
       "    </tr>\n",
       "  </tbody>\n",
       "</table>\n",
       "</div>"
      ],
      "text/plain": [
       "  Product_ID   Source     Sales_Agent Location Delivery_Mode Status  \\\n",
       "0             Website  Sales-Agent-11                 Mode-5   Open   \n",
       "1             Website  Sales-Agent-10                 Mode-5   Open   \n",
       "2             Website  Sales-Agent-10                 Mode-5   Open   \n",
       "3             Website  Sales-Agent-10                 Mode-5   Open   \n",
       "4             Website  Sales-Agent-10                 Mode-5   Open   \n",
       "\n",
       "   Created_hour  Creating_min  Created_day  Created_month  \n",
       "0            10             5           14             11  \n",
       "1             9            22           14             11  \n",
       "2             9            21           14             11  \n",
       "3             8            46           14             11  \n",
       "4             7            34           14             11  "
      ]
     },
     "execution_count": 34,
     "metadata": {},
     "output_type": "execute_result"
    }
   ],
   "source": [
    "Sales_Data.head()"
   ]
  },
  {
   "cell_type": "markdown",
   "id": "eb27c6eb",
   "metadata": {},
   "source": [
    "## Univariate Analysis"
   ]
  },
  {
   "cell_type": "code",
   "execution_count": 36,
   "id": "1958bdf7",
   "metadata": {},
   "outputs": [
    {
     "data": {
      "application/vnd.jupyter.widget-view+json": {
       "model_id": "40f2eba101b54681bbadb266dc178386",
       "version_major": 2,
       "version_minor": 0
      },
      "text/plain": [
       "                                             |                                             | [  0%]   00:00 ->…"
      ]
     },
     "metadata": {},
     "output_type": "display_data"
    },
    {
     "name": "stdout",
     "output_type": "stream",
     "text": [
      "Report SWEETVIZ_REPORT.html was generated! NOTEBOOK/COLAB USERS: the web browser MAY not pop up, regardless, the report IS saved in your notebook/colab files.\n"
     ]
    }
   ],
   "source": [
    "import sweetviz as sv\n",
    "my_report = sv.analyze(Sales_Data)\n",
    "my_report.show_html()"
   ]
  },
  {
   "cell_type": "code",
   "execution_count": 37,
   "id": "ea2e233f",
   "metadata": {},
   "outputs": [],
   "source": [
    "# Defining 'Status' as 'Good' or 'Bad'\n",
    "Sales_Data.Status.replace(['CONVERTED','converted','In Progress Positive','Potential','Long Term','Open'],'Good',inplace=True)\n",
    "Sales_Data.Status.replace(['LOST','In Progress Negative','Not Responding','Junk Lead','Just Enquiry'],'Bad',inplace=True)"
   ]
  },
  {
   "cell_type": "code",
   "execution_count": 38,
   "id": "21c31152",
   "metadata": {},
   "outputs": [
    {
     "data": {
      "text/html": [
       "<div>\n",
       "<style scoped>\n",
       "    .dataframe tbody tr th:only-of-type {\n",
       "        vertical-align: middle;\n",
       "    }\n",
       "\n",
       "    .dataframe tbody tr th {\n",
       "        vertical-align: top;\n",
       "    }\n",
       "\n",
       "    .dataframe thead th {\n",
       "        text-align: right;\n",
       "    }\n",
       "</style>\n",
       "<table border=\"1\" class=\"dataframe\">\n",
       "  <thead>\n",
       "    <tr style=\"text-align: right;\">\n",
       "      <th></th>\n",
       "      <th>Product_ID</th>\n",
       "      <th>Source</th>\n",
       "      <th>Sales_Agent</th>\n",
       "      <th>Location</th>\n",
       "      <th>Delivery_Mode</th>\n",
       "      <th>Status</th>\n",
       "      <th>Created_hour</th>\n",
       "      <th>Creating_min</th>\n",
       "      <th>Created_day</th>\n",
       "      <th>Created_month</th>\n",
       "    </tr>\n",
       "  </thead>\n",
       "  <tbody>\n",
       "    <tr>\n",
       "      <th>0</th>\n",
       "      <td></td>\n",
       "      <td>Website</td>\n",
       "      <td>Sales-Agent-11</td>\n",
       "      <td></td>\n",
       "      <td>Mode-5</td>\n",
       "      <td>Good</td>\n",
       "      <td>10</td>\n",
       "      <td>5</td>\n",
       "      <td>14</td>\n",
       "      <td>11</td>\n",
       "    </tr>\n",
       "    <tr>\n",
       "      <th>1</th>\n",
       "      <td></td>\n",
       "      <td>Website</td>\n",
       "      <td>Sales-Agent-10</td>\n",
       "      <td></td>\n",
       "      <td>Mode-5</td>\n",
       "      <td>Good</td>\n",
       "      <td>9</td>\n",
       "      <td>22</td>\n",
       "      <td>14</td>\n",
       "      <td>11</td>\n",
       "    </tr>\n",
       "    <tr>\n",
       "      <th>2</th>\n",
       "      <td></td>\n",
       "      <td>Website</td>\n",
       "      <td>Sales-Agent-10</td>\n",
       "      <td></td>\n",
       "      <td>Mode-5</td>\n",
       "      <td>Good</td>\n",
       "      <td>9</td>\n",
       "      <td>21</td>\n",
       "      <td>14</td>\n",
       "      <td>11</td>\n",
       "    </tr>\n",
       "    <tr>\n",
       "      <th>3</th>\n",
       "      <td></td>\n",
       "      <td>Website</td>\n",
       "      <td>Sales-Agent-10</td>\n",
       "      <td></td>\n",
       "      <td>Mode-5</td>\n",
       "      <td>Good</td>\n",
       "      <td>8</td>\n",
       "      <td>46</td>\n",
       "      <td>14</td>\n",
       "      <td>11</td>\n",
       "    </tr>\n",
       "    <tr>\n",
       "      <th>4</th>\n",
       "      <td></td>\n",
       "      <td>Website</td>\n",
       "      <td>Sales-Agent-10</td>\n",
       "      <td></td>\n",
       "      <td>Mode-5</td>\n",
       "      <td>Good</td>\n",
       "      <td>7</td>\n",
       "      <td>34</td>\n",
       "      <td>14</td>\n",
       "      <td>11</td>\n",
       "    </tr>\n",
       "    <tr>\n",
       "      <th>...</th>\n",
       "      <td>...</td>\n",
       "      <td>...</td>\n",
       "      <td>...</td>\n",
       "      <td>...</td>\n",
       "      <td>...</td>\n",
       "      <td>...</td>\n",
       "      <td>...</td>\n",
       "      <td>...</td>\n",
       "      <td>...</td>\n",
       "      <td>...</td>\n",
       "    </tr>\n",
       "    <tr>\n",
       "      <th>7417</th>\n",
       "      <td>9</td>\n",
       "      <td>Call</td>\n",
       "      <td>Sales-Agent-6</td>\n",
       "      <td>Mumbai</td>\n",
       "      <td>Mode-4</td>\n",
       "      <td>Bad</td>\n",
       "      <td>9</td>\n",
       "      <td>45</td>\n",
       "      <td>28</td>\n",
       "      <td>4</td>\n",
       "    </tr>\n",
       "    <tr>\n",
       "      <th>7418</th>\n",
       "      <td>15</td>\n",
       "      <td>Call</td>\n",
       "      <td>Sales-Agent-12</td>\n",
       "      <td>Other Locations</td>\n",
       "      <td>Mode-5</td>\n",
       "      <td>Bad</td>\n",
       "      <td>9</td>\n",
       "      <td>43</td>\n",
       "      <td>28</td>\n",
       "      <td>4</td>\n",
       "    </tr>\n",
       "    <tr>\n",
       "      <th>7419</th>\n",
       "      <td>5</td>\n",
       "      <td>Live Chat-Direct</td>\n",
       "      <td>Sales-Agent-11</td>\n",
       "      <td>Bangalore</td>\n",
       "      <td>Mode-1</td>\n",
       "      <td>Bad</td>\n",
       "      <td>9</td>\n",
       "      <td>20</td>\n",
       "      <td>28</td>\n",
       "      <td>4</td>\n",
       "    </tr>\n",
       "    <tr>\n",
       "      <th>7420</th>\n",
       "      <td>21</td>\n",
       "      <td>CRM form</td>\n",
       "      <td>Sales-Agent-4</td>\n",
       "      <td>Other Locations</td>\n",
       "      <td>Mode-1</td>\n",
       "      <td>Bad</td>\n",
       "      <td>8</td>\n",
       "      <td>4</td>\n",
       "      <td>28</td>\n",
       "      <td>4</td>\n",
       "    </tr>\n",
       "    <tr>\n",
       "      <th>7421</th>\n",
       "      <td>25</td>\n",
       "      <td>Website</td>\n",
       "      <td>Sales-Agent-3</td>\n",
       "      <td>Chennai</td>\n",
       "      <td>Mode-1</td>\n",
       "      <td>Good</td>\n",
       "      <td>7</td>\n",
       "      <td>54</td>\n",
       "      <td>28</td>\n",
       "      <td>4</td>\n",
       "    </tr>\n",
       "  </tbody>\n",
       "</table>\n",
       "<p>7422 rows × 10 columns</p>\n",
       "</div>"
      ],
      "text/plain": [
       "     Product_ID            Source     Sales_Agent         Location  \\\n",
       "0                         Website  Sales-Agent-11                    \n",
       "1                         Website  Sales-Agent-10                    \n",
       "2                         Website  Sales-Agent-10                    \n",
       "3                         Website  Sales-Agent-10                    \n",
       "4                         Website  Sales-Agent-10                    \n",
       "...         ...               ...             ...              ...   \n",
       "7417          9              Call   Sales-Agent-6           Mumbai   \n",
       "7418         15              Call  Sales-Agent-12  Other Locations   \n",
       "7419          5  Live Chat-Direct  Sales-Agent-11        Bangalore   \n",
       "7420         21          CRM form   Sales-Agent-4  Other Locations   \n",
       "7421         25           Website   Sales-Agent-3          Chennai   \n",
       "\n",
       "     Delivery_Mode Status  Created_hour  Creating_min  Created_day  \\\n",
       "0           Mode-5   Good            10             5           14   \n",
       "1           Mode-5   Good             9            22           14   \n",
       "2           Mode-5   Good             9            21           14   \n",
       "3           Mode-5   Good             8            46           14   \n",
       "4           Mode-5   Good             7            34           14   \n",
       "...            ...    ...           ...           ...          ...   \n",
       "7417        Mode-4    Bad             9            45           28   \n",
       "7418        Mode-5    Bad             9            43           28   \n",
       "7419        Mode-1    Bad             9            20           28   \n",
       "7420        Mode-1    Bad             8             4           28   \n",
       "7421        Mode-1   Good             7            54           28   \n",
       "\n",
       "      Created_month  \n",
       "0                11  \n",
       "1                11  \n",
       "2                11  \n",
       "3                11  \n",
       "4                11  \n",
       "...             ...  \n",
       "7417              4  \n",
       "7418              4  \n",
       "7419              4  \n",
       "7420              4  \n",
       "7421              4  \n",
       "\n",
       "[7422 rows x 10 columns]"
      ]
     },
     "execution_count": 38,
     "metadata": {},
     "output_type": "execute_result"
    }
   ],
   "source": [
    "Sales_Data"
   ]
  },
  {
   "cell_type": "code",
   "execution_count": 39,
   "id": "3b0129bf",
   "metadata": {},
   "outputs": [
    {
     "data": {
      "text/plain": [
       "Other Locations    2500\n",
       "Bangalore          2084\n",
       "Chennai             909\n",
       "Hyderabad           528\n",
       "Delhi               471\n",
       "Mumbai              402\n",
       "Pune                142\n",
       "UAE                  79\n",
       "                     58\n",
       "Trivandrum           58\n",
       "Kolkata              55\n",
       "USA                  45\n",
       "UK                   41\n",
       "AUSTRALIA            25\n",
       "Singapore            17\n",
       "Malaysia              4\n",
       "EUROPE                3\n",
       "Howrah                1\n",
       "Name: Location, dtype: int64"
      ]
     },
     "execution_count": 39,
     "metadata": {},
     "output_type": "execute_result"
    }
   ],
   "source": [
    "Sales_Data['Location'].value_counts()"
   ]
  },
  {
   "cell_type": "code",
   "execution_count": 40,
   "id": "25655ffd",
   "metadata": {},
   "outputs": [],
   "source": [
    "Sales_Data.Location.replace(['UAE','USA','UK','AUSTRALIA','Singapore','Malaysia','EUROPE'],'Foreign',inplace=True)\n",
    "Sales_Data.Location.replace(['Howrah','Kolkata','Trivandrum'],'Other Locations',inplace=True)"
   ]
  },
  {
   "cell_type": "code",
   "execution_count": 41,
   "id": "96e1ef7c",
   "metadata": {},
   "outputs": [
    {
     "data": {
      "text/html": [
       "<div>\n",
       "<style scoped>\n",
       "    .dataframe tbody tr th:only-of-type {\n",
       "        vertical-align: middle;\n",
       "    }\n",
       "\n",
       "    .dataframe tbody tr th {\n",
       "        vertical-align: top;\n",
       "    }\n",
       "\n",
       "    .dataframe thead th {\n",
       "        text-align: right;\n",
       "    }\n",
       "</style>\n",
       "<table border=\"1\" class=\"dataframe\">\n",
       "  <thead>\n",
       "    <tr style=\"text-align: right;\">\n",
       "      <th></th>\n",
       "      <th>Product_ID</th>\n",
       "      <th>Source</th>\n",
       "      <th>Sales_Agent</th>\n",
       "      <th>Location</th>\n",
       "      <th>Delivery_Mode</th>\n",
       "      <th>Status</th>\n",
       "      <th>Created_hour</th>\n",
       "      <th>Creating_min</th>\n",
       "      <th>Created_day</th>\n",
       "      <th>Created_month</th>\n",
       "    </tr>\n",
       "  </thead>\n",
       "  <tbody>\n",
       "    <tr>\n",
       "      <th>0</th>\n",
       "      <td></td>\n",
       "      <td>Website</td>\n",
       "      <td>Sales-Agent-11</td>\n",
       "      <td></td>\n",
       "      <td>Mode-5</td>\n",
       "      <td>Good</td>\n",
       "      <td>10</td>\n",
       "      <td>5</td>\n",
       "      <td>14</td>\n",
       "      <td>11</td>\n",
       "    </tr>\n",
       "    <tr>\n",
       "      <th>1</th>\n",
       "      <td></td>\n",
       "      <td>Website</td>\n",
       "      <td>Sales-Agent-10</td>\n",
       "      <td></td>\n",
       "      <td>Mode-5</td>\n",
       "      <td>Good</td>\n",
       "      <td>9</td>\n",
       "      <td>22</td>\n",
       "      <td>14</td>\n",
       "      <td>11</td>\n",
       "    </tr>\n",
       "    <tr>\n",
       "      <th>2</th>\n",
       "      <td></td>\n",
       "      <td>Website</td>\n",
       "      <td>Sales-Agent-10</td>\n",
       "      <td></td>\n",
       "      <td>Mode-5</td>\n",
       "      <td>Good</td>\n",
       "      <td>9</td>\n",
       "      <td>21</td>\n",
       "      <td>14</td>\n",
       "      <td>11</td>\n",
       "    </tr>\n",
       "    <tr>\n",
       "      <th>3</th>\n",
       "      <td></td>\n",
       "      <td>Website</td>\n",
       "      <td>Sales-Agent-10</td>\n",
       "      <td></td>\n",
       "      <td>Mode-5</td>\n",
       "      <td>Good</td>\n",
       "      <td>8</td>\n",
       "      <td>46</td>\n",
       "      <td>14</td>\n",
       "      <td>11</td>\n",
       "    </tr>\n",
       "    <tr>\n",
       "      <th>4</th>\n",
       "      <td></td>\n",
       "      <td>Website</td>\n",
       "      <td>Sales-Agent-10</td>\n",
       "      <td></td>\n",
       "      <td>Mode-5</td>\n",
       "      <td>Good</td>\n",
       "      <td>7</td>\n",
       "      <td>34</td>\n",
       "      <td>14</td>\n",
       "      <td>11</td>\n",
       "    </tr>\n",
       "    <tr>\n",
       "      <th>...</th>\n",
       "      <td>...</td>\n",
       "      <td>...</td>\n",
       "      <td>...</td>\n",
       "      <td>...</td>\n",
       "      <td>...</td>\n",
       "      <td>...</td>\n",
       "      <td>...</td>\n",
       "      <td>...</td>\n",
       "      <td>...</td>\n",
       "      <td>...</td>\n",
       "    </tr>\n",
       "    <tr>\n",
       "      <th>7417</th>\n",
       "      <td>9</td>\n",
       "      <td>Call</td>\n",
       "      <td>Sales-Agent-6</td>\n",
       "      <td>Mumbai</td>\n",
       "      <td>Mode-4</td>\n",
       "      <td>Bad</td>\n",
       "      <td>9</td>\n",
       "      <td>45</td>\n",
       "      <td>28</td>\n",
       "      <td>4</td>\n",
       "    </tr>\n",
       "    <tr>\n",
       "      <th>7418</th>\n",
       "      <td>15</td>\n",
       "      <td>Call</td>\n",
       "      <td>Sales-Agent-12</td>\n",
       "      <td>Other Locations</td>\n",
       "      <td>Mode-5</td>\n",
       "      <td>Bad</td>\n",
       "      <td>9</td>\n",
       "      <td>43</td>\n",
       "      <td>28</td>\n",
       "      <td>4</td>\n",
       "    </tr>\n",
       "    <tr>\n",
       "      <th>7419</th>\n",
       "      <td>5</td>\n",
       "      <td>Live Chat-Direct</td>\n",
       "      <td>Sales-Agent-11</td>\n",
       "      <td>Bangalore</td>\n",
       "      <td>Mode-1</td>\n",
       "      <td>Bad</td>\n",
       "      <td>9</td>\n",
       "      <td>20</td>\n",
       "      <td>28</td>\n",
       "      <td>4</td>\n",
       "    </tr>\n",
       "    <tr>\n",
       "      <th>7420</th>\n",
       "      <td>21</td>\n",
       "      <td>CRM form</td>\n",
       "      <td>Sales-Agent-4</td>\n",
       "      <td>Other Locations</td>\n",
       "      <td>Mode-1</td>\n",
       "      <td>Bad</td>\n",
       "      <td>8</td>\n",
       "      <td>4</td>\n",
       "      <td>28</td>\n",
       "      <td>4</td>\n",
       "    </tr>\n",
       "    <tr>\n",
       "      <th>7421</th>\n",
       "      <td>25</td>\n",
       "      <td>Website</td>\n",
       "      <td>Sales-Agent-3</td>\n",
       "      <td>Chennai</td>\n",
       "      <td>Mode-1</td>\n",
       "      <td>Good</td>\n",
       "      <td>7</td>\n",
       "      <td>54</td>\n",
       "      <td>28</td>\n",
       "      <td>4</td>\n",
       "    </tr>\n",
       "  </tbody>\n",
       "</table>\n",
       "<p>7422 rows × 10 columns</p>\n",
       "</div>"
      ],
      "text/plain": [
       "     Product_ID            Source     Sales_Agent         Location  \\\n",
       "0                         Website  Sales-Agent-11                    \n",
       "1                         Website  Sales-Agent-10                    \n",
       "2                         Website  Sales-Agent-10                    \n",
       "3                         Website  Sales-Agent-10                    \n",
       "4                         Website  Sales-Agent-10                    \n",
       "...         ...               ...             ...              ...   \n",
       "7417          9              Call   Sales-Agent-6           Mumbai   \n",
       "7418         15              Call  Sales-Agent-12  Other Locations   \n",
       "7419          5  Live Chat-Direct  Sales-Agent-11        Bangalore   \n",
       "7420         21          CRM form   Sales-Agent-4  Other Locations   \n",
       "7421         25           Website   Sales-Agent-3          Chennai   \n",
       "\n",
       "     Delivery_Mode Status  Created_hour  Creating_min  Created_day  \\\n",
       "0           Mode-5   Good            10             5           14   \n",
       "1           Mode-5   Good             9            22           14   \n",
       "2           Mode-5   Good             9            21           14   \n",
       "3           Mode-5   Good             8            46           14   \n",
       "4           Mode-5   Good             7            34           14   \n",
       "...            ...    ...           ...           ...          ...   \n",
       "7417        Mode-4    Bad             9            45           28   \n",
       "7418        Mode-5    Bad             9            43           28   \n",
       "7419        Mode-1    Bad             9            20           28   \n",
       "7420        Mode-1    Bad             8             4           28   \n",
       "7421        Mode-1   Good             7            54           28   \n",
       "\n",
       "      Created_month  \n",
       "0                11  \n",
       "1                11  \n",
       "2                11  \n",
       "3                11  \n",
       "4                11  \n",
       "...             ...  \n",
       "7417              4  \n",
       "7418              4  \n",
       "7419              4  \n",
       "7420              4  \n",
       "7421              4  \n",
       "\n",
       "[7422 rows x 10 columns]"
      ]
     },
     "execution_count": 41,
     "metadata": {},
     "output_type": "execute_result"
    }
   ],
   "source": [
    "Sales_Data"
   ]
  },
  {
   "cell_type": "code",
   "execution_count": 42,
   "id": "5e46f403",
   "metadata": {},
   "outputs": [
    {
     "data": {
      "text/plain": [
       "array(['Website', '', 'Live Chat-Google Organic', 'Call',\n",
       "       'Live Chat-Direct', 'By Recommendation', 'Customer Referral',\n",
       "       'Live Chat-Blog', 'Live Chat -PPC', 'Live Chat-Google Ads',\n",
       "       'Live Chat-Adwords Remarketing', 'E-Mail Message',\n",
       "       'Existing Client', 'Live Chat-CPC', 'Existing Customer',\n",
       "       'Live Chat-Quora', 'US Website', 'Just Dial', 'Campaign', 'Other',\n",
       "       'E-mail Campaign', 'CRM form', 'SMS Campaign', 'Personal Contact',\n",
       "       'Live Chat-Youtube', 'Live Chat-Justdial'], dtype=object)"
      ]
     },
     "execution_count": 42,
     "metadata": {},
     "output_type": "execute_result"
    }
   ],
   "source": [
    "Sales_Data.Source.unique()"
   ]
  },
  {
   "cell_type": "code",
   "execution_count": 43,
   "id": "8e66515c",
   "metadata": {},
   "outputs": [],
   "source": [
    "Sales_Data.Source.replace(['Live Chat-Direct','Live Chat-Google Organic','Live Chat -PPC','Live Chat-Blog','Live Chat-Quora',\n",
    "                    'Live Chat-CPC','Live Chat-Google Ads','Live Chat-Adwords Remarketing','Live Chat-Youtube',\n",
    "                    'Live Chat-Justdial'],'Live Chat',inplace=True)\n",
    "Sales_Data.Source.replace(['Existing Client','CRM form','Personal Contact'],'Existing Customer',inplace=True)\n",
    "Sales_Data.replace('By Recommendation','Customer Referral',inplace=True)\n",
    "Sales_Data.replace(['US Website','Just Dial'],'Website',inplace=True)\n",
    "Sales_Data.replace(['E-mail Campaign','SMS Campaign','E-Mail Message','Other'],'Campaign',inplace=True)"
   ]
  },
  {
   "cell_type": "code",
   "execution_count": 44,
   "id": "4f833b3a",
   "metadata": {},
   "outputs": [
    {
     "data": {
      "text/html": [
       "<div>\n",
       "<style scoped>\n",
       "    .dataframe tbody tr th:only-of-type {\n",
       "        vertical-align: middle;\n",
       "    }\n",
       "\n",
       "    .dataframe tbody tr th {\n",
       "        vertical-align: top;\n",
       "    }\n",
       "\n",
       "    .dataframe thead th {\n",
       "        text-align: right;\n",
       "    }\n",
       "</style>\n",
       "<table border=\"1\" class=\"dataframe\">\n",
       "  <thead>\n",
       "    <tr style=\"text-align: right;\">\n",
       "      <th></th>\n",
       "      <th>Product_ID</th>\n",
       "      <th>Source</th>\n",
       "      <th>Sales_Agent</th>\n",
       "      <th>Location</th>\n",
       "      <th>Delivery_Mode</th>\n",
       "      <th>Status</th>\n",
       "      <th>Created_hour</th>\n",
       "      <th>Creating_min</th>\n",
       "      <th>Created_day</th>\n",
       "      <th>Created_month</th>\n",
       "    </tr>\n",
       "  </thead>\n",
       "  <tbody>\n",
       "    <tr>\n",
       "      <th>0</th>\n",
       "      <td></td>\n",
       "      <td>Website</td>\n",
       "      <td>Sales-Agent-11</td>\n",
       "      <td></td>\n",
       "      <td>Mode-5</td>\n",
       "      <td>Good</td>\n",
       "      <td>10</td>\n",
       "      <td>5</td>\n",
       "      <td>14</td>\n",
       "      <td>11</td>\n",
       "    </tr>\n",
       "    <tr>\n",
       "      <th>1</th>\n",
       "      <td></td>\n",
       "      <td>Website</td>\n",
       "      <td>Sales-Agent-10</td>\n",
       "      <td></td>\n",
       "      <td>Mode-5</td>\n",
       "      <td>Good</td>\n",
       "      <td>9</td>\n",
       "      <td>22</td>\n",
       "      <td>14</td>\n",
       "      <td>11</td>\n",
       "    </tr>\n",
       "    <tr>\n",
       "      <th>2</th>\n",
       "      <td></td>\n",
       "      <td>Website</td>\n",
       "      <td>Sales-Agent-10</td>\n",
       "      <td></td>\n",
       "      <td>Mode-5</td>\n",
       "      <td>Good</td>\n",
       "      <td>9</td>\n",
       "      <td>21</td>\n",
       "      <td>14</td>\n",
       "      <td>11</td>\n",
       "    </tr>\n",
       "    <tr>\n",
       "      <th>3</th>\n",
       "      <td></td>\n",
       "      <td>Website</td>\n",
       "      <td>Sales-Agent-10</td>\n",
       "      <td></td>\n",
       "      <td>Mode-5</td>\n",
       "      <td>Good</td>\n",
       "      <td>8</td>\n",
       "      <td>46</td>\n",
       "      <td>14</td>\n",
       "      <td>11</td>\n",
       "    </tr>\n",
       "    <tr>\n",
       "      <th>4</th>\n",
       "      <td></td>\n",
       "      <td>Website</td>\n",
       "      <td>Sales-Agent-10</td>\n",
       "      <td></td>\n",
       "      <td>Mode-5</td>\n",
       "      <td>Good</td>\n",
       "      <td>7</td>\n",
       "      <td>34</td>\n",
       "      <td>14</td>\n",
       "      <td>11</td>\n",
       "    </tr>\n",
       "  </tbody>\n",
       "</table>\n",
       "</div>"
      ],
      "text/plain": [
       "  Product_ID   Source     Sales_Agent Location Delivery_Mode Status  \\\n",
       "0             Website  Sales-Agent-11                 Mode-5   Good   \n",
       "1             Website  Sales-Agent-10                 Mode-5   Good   \n",
       "2             Website  Sales-Agent-10                 Mode-5   Good   \n",
       "3             Website  Sales-Agent-10                 Mode-5   Good   \n",
       "4             Website  Sales-Agent-10                 Mode-5   Good   \n",
       "\n",
       "   Created_hour  Creating_min  Created_day  Created_month  \n",
       "0            10             5           14             11  \n",
       "1             9            22           14             11  \n",
       "2             9            21           14             11  \n",
       "3             8            46           14             11  \n",
       "4             7            34           14             11  "
      ]
     },
     "execution_count": 44,
     "metadata": {},
     "output_type": "execute_result"
    }
   ],
   "source": [
    "Sales_Data.head()"
   ]
  },
  {
   "cell_type": "code",
   "execution_count": 46,
   "id": "25d985a2",
   "metadata": {},
   "outputs": [],
   "source": [
    "#From the graph we can say that these are the product id's of less sold product so we replace with less sold product\n",
    "Sales_Data.Product_ID.replace(['8','6','3','17','22','11','7','28','0','23','24','16','13','4','14','26','12','2','21','25'],\n",
    "                        'Less Sold Product',inplace=True)"
   ]
  },
  {
   "cell_type": "code",
   "execution_count": 47,
   "id": "7b1f54f5",
   "metadata": {},
   "outputs": [
    {
     "data": {
      "text/plain": [
       "(7328, 10)"
      ]
     },
     "execution_count": 47,
     "metadata": {},
     "output_type": "execute_result"
    }
   ],
   "source": [
    "# Dropping rows with missing data because they are few\n",
    "Sales_Data.replace('',np.nan,inplace=True)\n",
    "Sales_Data.dropna(inplace=True)\n",
    "Sales_Data.reset_index(inplace=True,drop=True)\n",
    "Sales_Data.shape"
   ]
  },
  {
   "cell_type": "code",
   "execution_count": 48,
   "id": "0dfb91c4",
   "metadata": {},
   "outputs": [
    {
     "data": {
      "text/html": [
       "<div>\n",
       "<style scoped>\n",
       "    .dataframe tbody tr th:only-of-type {\n",
       "        vertical-align: middle;\n",
       "    }\n",
       "\n",
       "    .dataframe tbody tr th {\n",
       "        vertical-align: top;\n",
       "    }\n",
       "\n",
       "    .dataframe thead th {\n",
       "        text-align: right;\n",
       "    }\n",
       "</style>\n",
       "<table border=\"1\" class=\"dataframe\">\n",
       "  <thead>\n",
       "    <tr style=\"text-align: right;\">\n",
       "      <th></th>\n",
       "      <th>Product_ID</th>\n",
       "      <th>Source</th>\n",
       "      <th>Sales_Agent</th>\n",
       "      <th>Location</th>\n",
       "      <th>Delivery_Mode</th>\n",
       "      <th>Status</th>\n",
       "      <th>Created_hour</th>\n",
       "      <th>Creating_min</th>\n",
       "      <th>Created_day</th>\n",
       "      <th>Created_month</th>\n",
       "    </tr>\n",
       "  </thead>\n",
       "  <tbody>\n",
       "    <tr>\n",
       "      <th>0</th>\n",
       "      <td>9</td>\n",
       "      <td>Live Chat</td>\n",
       "      <td>Sales-Agent-3</td>\n",
       "      <td>Bangalore</td>\n",
       "      <td>Mode-1</td>\n",
       "      <td>Good</td>\n",
       "      <td>18</td>\n",
       "      <td>51</td>\n",
       "      <td>13</td>\n",
       "      <td>11</td>\n",
       "    </tr>\n",
       "    <tr>\n",
       "      <th>1</th>\n",
       "      <td>19</td>\n",
       "      <td>Call</td>\n",
       "      <td>Sales-Agent-4</td>\n",
       "      <td>Other Locations</td>\n",
       "      <td>Mode-5</td>\n",
       "      <td>Good</td>\n",
       "      <td>18</td>\n",
       "      <td>48</td>\n",
       "      <td>13</td>\n",
       "      <td>11</td>\n",
       "    </tr>\n",
       "    <tr>\n",
       "      <th>2</th>\n",
       "      <td>18</td>\n",
       "      <td>Website</td>\n",
       "      <td>Sales-Agent-11</td>\n",
       "      <td>Other Locations</td>\n",
       "      <td>Mode-1</td>\n",
       "      <td>Good</td>\n",
       "      <td>17</td>\n",
       "      <td>9</td>\n",
       "      <td>13</td>\n",
       "      <td>11</td>\n",
       "    </tr>\n",
       "    <tr>\n",
       "      <th>3</th>\n",
       "      <td>15</td>\n",
       "      <td>Website</td>\n",
       "      <td>Sales-Agent-7</td>\n",
       "      <td>Hyderabad</td>\n",
       "      <td>Mode-1</td>\n",
       "      <td>Bad</td>\n",
       "      <td>16</td>\n",
       "      <td>49</td>\n",
       "      <td>13</td>\n",
       "      <td>11</td>\n",
       "    </tr>\n",
       "    <tr>\n",
       "      <th>4</th>\n",
       "      <td>18</td>\n",
       "      <td>Call</td>\n",
       "      <td>Sales-Agent-7</td>\n",
       "      <td>Bangalore</td>\n",
       "      <td>Mode-1</td>\n",
       "      <td>Good</td>\n",
       "      <td>16</td>\n",
       "      <td>37</td>\n",
       "      <td>13</td>\n",
       "      <td>11</td>\n",
       "    </tr>\n",
       "    <tr>\n",
       "      <th>...</th>\n",
       "      <td>...</td>\n",
       "      <td>...</td>\n",
       "      <td>...</td>\n",
       "      <td>...</td>\n",
       "      <td>...</td>\n",
       "      <td>...</td>\n",
       "      <td>...</td>\n",
       "      <td>...</td>\n",
       "      <td>...</td>\n",
       "      <td>...</td>\n",
       "    </tr>\n",
       "    <tr>\n",
       "      <th>7323</th>\n",
       "      <td>9</td>\n",
       "      <td>Call</td>\n",
       "      <td>Sales-Agent-6</td>\n",
       "      <td>Mumbai</td>\n",
       "      <td>Mode-4</td>\n",
       "      <td>Bad</td>\n",
       "      <td>9</td>\n",
       "      <td>45</td>\n",
       "      <td>28</td>\n",
       "      <td>4</td>\n",
       "    </tr>\n",
       "    <tr>\n",
       "      <th>7324</th>\n",
       "      <td>15</td>\n",
       "      <td>Call</td>\n",
       "      <td>Sales-Agent-12</td>\n",
       "      <td>Other Locations</td>\n",
       "      <td>Mode-5</td>\n",
       "      <td>Bad</td>\n",
       "      <td>9</td>\n",
       "      <td>43</td>\n",
       "      <td>28</td>\n",
       "      <td>4</td>\n",
       "    </tr>\n",
       "    <tr>\n",
       "      <th>7325</th>\n",
       "      <td>5</td>\n",
       "      <td>Live Chat</td>\n",
       "      <td>Sales-Agent-11</td>\n",
       "      <td>Bangalore</td>\n",
       "      <td>Mode-1</td>\n",
       "      <td>Bad</td>\n",
       "      <td>9</td>\n",
       "      <td>20</td>\n",
       "      <td>28</td>\n",
       "      <td>4</td>\n",
       "    </tr>\n",
       "    <tr>\n",
       "      <th>7326</th>\n",
       "      <td>Less Sold Product</td>\n",
       "      <td>Existing Customer</td>\n",
       "      <td>Sales-Agent-4</td>\n",
       "      <td>Other Locations</td>\n",
       "      <td>Mode-1</td>\n",
       "      <td>Bad</td>\n",
       "      <td>8</td>\n",
       "      <td>4</td>\n",
       "      <td>28</td>\n",
       "      <td>4</td>\n",
       "    </tr>\n",
       "    <tr>\n",
       "      <th>7327</th>\n",
       "      <td>Less Sold Product</td>\n",
       "      <td>Website</td>\n",
       "      <td>Sales-Agent-3</td>\n",
       "      <td>Chennai</td>\n",
       "      <td>Mode-1</td>\n",
       "      <td>Good</td>\n",
       "      <td>7</td>\n",
       "      <td>54</td>\n",
       "      <td>28</td>\n",
       "      <td>4</td>\n",
       "    </tr>\n",
       "  </tbody>\n",
       "</table>\n",
       "<p>7328 rows × 10 columns</p>\n",
       "</div>"
      ],
      "text/plain": [
       "             Product_ID             Source     Sales_Agent         Location  \\\n",
       "0                     9          Live Chat   Sales-Agent-3        Bangalore   \n",
       "1                    19               Call   Sales-Agent-4  Other Locations   \n",
       "2                    18            Website  Sales-Agent-11  Other Locations   \n",
       "3                    15            Website   Sales-Agent-7        Hyderabad   \n",
       "4                    18               Call   Sales-Agent-7        Bangalore   \n",
       "...                 ...                ...             ...              ...   \n",
       "7323                  9               Call   Sales-Agent-6           Mumbai   \n",
       "7324                 15               Call  Sales-Agent-12  Other Locations   \n",
       "7325                  5          Live Chat  Sales-Agent-11        Bangalore   \n",
       "7326  Less Sold Product  Existing Customer   Sales-Agent-4  Other Locations   \n",
       "7327  Less Sold Product            Website   Sales-Agent-3          Chennai   \n",
       "\n",
       "     Delivery_Mode Status  Created_hour  Creating_min  Created_day  \\\n",
       "0           Mode-1   Good            18            51           13   \n",
       "1           Mode-5   Good            18            48           13   \n",
       "2           Mode-1   Good            17             9           13   \n",
       "3           Mode-1    Bad            16            49           13   \n",
       "4           Mode-1   Good            16            37           13   \n",
       "...            ...    ...           ...           ...          ...   \n",
       "7323        Mode-4    Bad             9            45           28   \n",
       "7324        Mode-5    Bad             9            43           28   \n",
       "7325        Mode-1    Bad             9            20           28   \n",
       "7326        Mode-1    Bad             8             4           28   \n",
       "7327        Mode-1   Good             7            54           28   \n",
       "\n",
       "      Created_month  \n",
       "0                11  \n",
       "1                11  \n",
       "2                11  \n",
       "3                11  \n",
       "4                11  \n",
       "...             ...  \n",
       "7323              4  \n",
       "7324              4  \n",
       "7325              4  \n",
       "7326              4  \n",
       "7327              4  \n",
       "\n",
       "[7328 rows x 10 columns]"
      ]
     },
     "execution_count": 48,
     "metadata": {},
     "output_type": "execute_result"
    }
   ],
   "source": [
    "Sales_Data"
   ]
  },
  {
   "cell_type": "markdown",
   "id": "3d38de4f",
   "metadata": {},
   "source": [
    "### Univariate analysis of categorical variables"
   ]
  },
  {
   "cell_type": "code",
   "execution_count": 49,
   "id": "6eccb03f",
   "metadata": {},
   "outputs": [],
   "source": [
    "import matplotlib.pyplot as plt\n",
    "import seaborn as sns\n",
    "%matplotlib inline\n",
    "import warnings\n",
    "warnings.filterwarnings(\"ignore\")"
   ]
  },
  {
   "cell_type": "code",
   "execution_count": 50,
   "id": "f6913032",
   "metadata": {},
   "outputs": [
    {
     "data": {
      "image/png": "[encoded data removed]",
      "text/plain": [
       "<Figure size 1440x1800 with 10 Axes>"
      ]
     },
     "metadata": {},
     "output_type": "display_data"
    }
   ],
   "source": [
    "plt.figure(figsize=(20,25), facecolor='white')\n",
    "plotnumber = 1\n",
    "\n",
    "for column in Sales_Data:\n",
    "    if plotnumber<=10 : # as there are 10 columns in the dataset.\n",
    "        ax = plt.subplot(5,2,plotnumber)\n",
    "        sns.histplot(x=Sales_Data[column],hue=Sales_Data.Status)\n",
    "        plt.xlabel(column,fontsize=20)\n",
    "        plt.ylabel('Status',fontsize=20)\n",
    "    plotnumber+=1\n",
    "plt.show()"
   ]
  },
  {
   "cell_type": "markdown",
   "id": "5c244432",
   "metadata": {},
   "source": [
    "## From Above graphical representation and from sweetviz analysis we get insights:-"
   ]
  },
  {
   "cell_type": "markdown",
   "id": "3a5318d6",
   "metadata": {},
   "source": [
    "Product ID 15 has highest number of Nonpotential lead.\n",
    "\n",
    "Delivery_Mode Mode-1 has only Potential Lead and Mode-4 also but having really less amount of deliveries from Mode-4.\n",
    "\n",
    "There are most number of lead from Other Locations and having most number of Nonpotential Lead.\n",
    "\n",
    "Sales_Agent 4,5 and 11 provides maximum no. of lead but most of them are Nonpotential.\n",
    "\n",
    "From Source Call, Live Chat-Direct and Website we are getting highest no. of lead."
   ]
  },
  {
   "cell_type": "markdown",
   "id": "60cd5bab",
   "metadata": {},
   "source": [
    "## Handling Categorical Data:"
   ]
  },
  {
   "cell_type": "code",
   "execution_count": 51,
   "id": "5551d1a1",
   "metadata": {},
   "outputs": [],
   "source": [
    "# Converting Source using Frequency encoder\n",
    "# grouping by frequency\n",
    "fq = Sales_Data.groupby('Source').size()/len(Sales_Data)\n",
    "# mapping values to dataframe\n",
    "Sales_Data.loc[:, \"{}_freq_encode\".format('Source')] = Sales_Data['Source'].map(fq)\n",
    "# drop original column.\n",
    "Sales_Data = Sales_Data.drop(['Source'], axis = 1)"
   ]
  },
  {
   "cell_type": "code",
   "execution_count": 52,
   "id": "490c2f7b",
   "metadata": {},
   "outputs": [
    {
     "data": {
      "text/plain": [
       "array(['Sales-Agent-3', 'Sales-Agent-4', 'Sales-Agent-11',\n",
       "       'Sales-Agent-7', 'Sales-Agent-9', 'Sales-Agent-8', 'Sales-Agent-5',\n",
       "       'Sales-Agent-2', 'Sales-Agent-12', 'Sales-Agent-10',\n",
       "       'Sales-Agent-6'], dtype=object)"
      ]
     },
     "execution_count": 52,
     "metadata": {},
     "output_type": "execute_result"
    }
   ],
   "source": [
    "Sales_Data.Sales_Agent.unique()"
   ]
  },
  {
   "cell_type": "code",
   "execution_count": 53,
   "id": "622a6dcc",
   "metadata": {},
   "outputs": [],
   "source": [
    "# Handling Sales_Agent using Label Encoder.\n",
    "Sales_Data.replace({'Sales-Agent-1': 1, 'Sales-Agent-2': 2, 'Sales-Agent-3': 3, 'Sales-Agent-4': 4, 'Sales-Agent-5': 5, 'Sales-Agent-6': 6, 'Sales-Agent-7': 7,'Sales-Agent-8': 8,'Sales-Agent-9': 9,'Sales-Agent-10': 10,'Sales-Agent-11': 11,'Sales-Agent-12': 12},inplace=True) \n"
   ]
  },
  {
   "cell_type": "code",
   "execution_count": 54,
   "id": "b260eaa1",
   "metadata": {},
   "outputs": [],
   "source": [
    "# Converting Location using Frequency encoder\n",
    "# grouping by frequency\n",
    "fq1 = Sales_Data.groupby('Location').size()/len(Sales_Data)\n",
    "# mapping values to dataframe\n",
    "Sales_Data.loc[:, \"{}_freq_encode\".format('Location')] = Sales_Data['Location'].map(fq1)\n",
    "# drop original column.\n",
    "Sales_Data = Sales_Data.drop(['Location'], axis = 1)"
   ]
  },
  {
   "cell_type": "code",
   "execution_count": 55,
   "id": "fb2f9ae0",
   "metadata": {},
   "outputs": [],
   "source": [
    "# As Delivery_Mode is Nominal Categorical data we will perform OneHotEncoding\n",
    "\n",
    "Delivery_Mode = Sales_Data[[\"Delivery_Mode\"]]\n",
    "\n",
    "Delivery_Mode = pd.get_dummies(Delivery_Mode)\n",
    "\n",
    "Sales_Data = pd.concat([Sales_Data,Delivery_Mode],axis=1)"
   ]
  },
  {
   "cell_type": "code",
   "execution_count": 57,
   "id": "6b257c83",
   "metadata": {},
   "outputs": [],
   "source": [
    "Sales_Data.drop(['Delivery_Mode'],axis=1,inplace=True)"
   ]
  },
  {
   "cell_type": "code",
   "execution_count": 58,
   "id": "9de0fab5",
   "metadata": {},
   "outputs": [],
   "source": [
    "#Converting status\n",
    "Sales_Data.replace({'Bad': 0,'Good': 1},inplace=True)"
   ]
  },
  {
   "cell_type": "code",
   "execution_count": 59,
   "id": "4488dabe",
   "metadata": {},
   "outputs": [
    {
     "data": {
      "text/html": [
       "<div>\n",
       "<style scoped>\n",
       "    .dataframe tbody tr th:only-of-type {\n",
       "        vertical-align: middle;\n",
       "    }\n",
       "\n",
       "    .dataframe tbody tr th {\n",
       "        vertical-align: top;\n",
       "    }\n",
       "\n",
       "    .dataframe thead th {\n",
       "        text-align: right;\n",
       "    }\n",
       "</style>\n",
       "<table border=\"1\" class=\"dataframe\">\n",
       "  <thead>\n",
       "    <tr style=\"text-align: right;\">\n",
       "      <th></th>\n",
       "      <th>Product_ID</th>\n",
       "      <th>Sales_Agent</th>\n",
       "      <th>Status</th>\n",
       "      <th>Created_hour</th>\n",
       "      <th>Creating_min</th>\n",
       "      <th>Created_day</th>\n",
       "      <th>Created_month</th>\n",
       "      <th>Source_freq_encode</th>\n",
       "      <th>Location_freq_encode</th>\n",
       "      <th>Delivery_Mode_Mode-1</th>\n",
       "      <th>Delivery_Mode_Mode-2</th>\n",
       "      <th>Delivery_Mode_Mode-3</th>\n",
       "      <th>Delivery_Mode_Mode-4</th>\n",
       "      <th>Delivery_Mode_Mode-5</th>\n",
       "    </tr>\n",
       "  </thead>\n",
       "  <tbody>\n",
       "    <tr>\n",
       "      <th>0</th>\n",
       "      <td>9</td>\n",
       "      <td>3</td>\n",
       "      <td>1</td>\n",
       "      <td>18</td>\n",
       "      <td>51</td>\n",
       "      <td>13</td>\n",
       "      <td>11</td>\n",
       "      <td>0.363401</td>\n",
       "      <td>0.283706</td>\n",
       "      <td>1</td>\n",
       "      <td>0</td>\n",
       "      <td>0</td>\n",
       "      <td>0</td>\n",
       "      <td>0</td>\n",
       "    </tr>\n",
       "    <tr>\n",
       "      <th>1</th>\n",
       "      <td>19</td>\n",
       "      <td>4</td>\n",
       "      <td>1</td>\n",
       "      <td>18</td>\n",
       "      <td>48</td>\n",
       "      <td>13</td>\n",
       "      <td>11</td>\n",
       "      <td>0.346070</td>\n",
       "      <td>0.354121</td>\n",
       "      <td>0</td>\n",
       "      <td>0</td>\n",
       "      <td>0</td>\n",
       "      <td>0</td>\n",
       "      <td>1</td>\n",
       "    </tr>\n",
       "    <tr>\n",
       "      <th>2</th>\n",
       "      <td>18</td>\n",
       "      <td>11</td>\n",
       "      <td>1</td>\n",
       "      <td>17</td>\n",
       "      <td>9</td>\n",
       "      <td>13</td>\n",
       "      <td>11</td>\n",
       "      <td>0.236900</td>\n",
       "      <td>0.354121</td>\n",
       "      <td>1</td>\n",
       "      <td>0</td>\n",
       "      <td>0</td>\n",
       "      <td>0</td>\n",
       "      <td>0</td>\n",
       "    </tr>\n",
       "    <tr>\n",
       "      <th>3</th>\n",
       "      <td>15</td>\n",
       "      <td>7</td>\n",
       "      <td>0</td>\n",
       "      <td>16</td>\n",
       "      <td>49</td>\n",
       "      <td>13</td>\n",
       "      <td>11</td>\n",
       "      <td>0.236900</td>\n",
       "      <td>0.071916</td>\n",
       "      <td>1</td>\n",
       "      <td>0</td>\n",
       "      <td>0</td>\n",
       "      <td>0</td>\n",
       "      <td>0</td>\n",
       "    </tr>\n",
       "    <tr>\n",
       "      <th>4</th>\n",
       "      <td>18</td>\n",
       "      <td>7</td>\n",
       "      <td>1</td>\n",
       "      <td>16</td>\n",
       "      <td>37</td>\n",
       "      <td>13</td>\n",
       "      <td>11</td>\n",
       "      <td>0.346070</td>\n",
       "      <td>0.283706</td>\n",
       "      <td>1</td>\n",
       "      <td>0</td>\n",
       "      <td>0</td>\n",
       "      <td>0</td>\n",
       "      <td>0</td>\n",
       "    </tr>\n",
       "    <tr>\n",
       "      <th>...</th>\n",
       "      <td>...</td>\n",
       "      <td>...</td>\n",
       "      <td>...</td>\n",
       "      <td>...</td>\n",
       "      <td>...</td>\n",
       "      <td>...</td>\n",
       "      <td>...</td>\n",
       "      <td>...</td>\n",
       "      <td>...</td>\n",
       "      <td>...</td>\n",
       "      <td>...</td>\n",
       "      <td>...</td>\n",
       "      <td>...</td>\n",
       "      <td>...</td>\n",
       "    </tr>\n",
       "    <tr>\n",
       "      <th>7323</th>\n",
       "      <td>9</td>\n",
       "      <td>6</td>\n",
       "      <td>0</td>\n",
       "      <td>9</td>\n",
       "      <td>45</td>\n",
       "      <td>28</td>\n",
       "      <td>4</td>\n",
       "      <td>0.346070</td>\n",
       "      <td>0.054449</td>\n",
       "      <td>0</td>\n",
       "      <td>0</td>\n",
       "      <td>0</td>\n",
       "      <td>1</td>\n",
       "      <td>0</td>\n",
       "    </tr>\n",
       "    <tr>\n",
       "      <th>7324</th>\n",
       "      <td>15</td>\n",
       "      <td>12</td>\n",
       "      <td>0</td>\n",
       "      <td>9</td>\n",
       "      <td>43</td>\n",
       "      <td>28</td>\n",
       "      <td>4</td>\n",
       "      <td>0.346070</td>\n",
       "      <td>0.354121</td>\n",
       "      <td>0</td>\n",
       "      <td>0</td>\n",
       "      <td>0</td>\n",
       "      <td>0</td>\n",
       "      <td>1</td>\n",
       "    </tr>\n",
       "    <tr>\n",
       "      <th>7325</th>\n",
       "      <td>5</td>\n",
       "      <td>11</td>\n",
       "      <td>0</td>\n",
       "      <td>9</td>\n",
       "      <td>20</td>\n",
       "      <td>28</td>\n",
       "      <td>4</td>\n",
       "      <td>0.363401</td>\n",
       "      <td>0.283706</td>\n",
       "      <td>1</td>\n",
       "      <td>0</td>\n",
       "      <td>0</td>\n",
       "      <td>0</td>\n",
       "      <td>0</td>\n",
       "    </tr>\n",
       "    <tr>\n",
       "      <th>7326</th>\n",
       "      <td>Less Sold Product</td>\n",
       "      <td>4</td>\n",
       "      <td>0</td>\n",
       "      <td>8</td>\n",
       "      <td>4</td>\n",
       "      <td>28</td>\n",
       "      <td>4</td>\n",
       "      <td>0.019787</td>\n",
       "      <td>0.354121</td>\n",
       "      <td>1</td>\n",
       "      <td>0</td>\n",
       "      <td>0</td>\n",
       "      <td>0</td>\n",
       "      <td>0</td>\n",
       "    </tr>\n",
       "    <tr>\n",
       "      <th>7327</th>\n",
       "      <td>Less Sold Product</td>\n",
       "      <td>3</td>\n",
       "      <td>1</td>\n",
       "      <td>7</td>\n",
       "      <td>54</td>\n",
       "      <td>28</td>\n",
       "      <td>4</td>\n",
       "      <td>0.236900</td>\n",
       "      <td>0.123772</td>\n",
       "      <td>1</td>\n",
       "      <td>0</td>\n",
       "      <td>0</td>\n",
       "      <td>0</td>\n",
       "      <td>0</td>\n",
       "    </tr>\n",
       "  </tbody>\n",
       "</table>\n",
       "<p>7328 rows × 14 columns</p>\n",
       "</div>"
      ],
      "text/plain": [
       "             Product_ID  Sales_Agent  Status  Created_hour  Creating_min  \\\n",
       "0                     9            3       1            18            51   \n",
       "1                    19            4       1            18            48   \n",
       "2                    18           11       1            17             9   \n",
       "3                    15            7       0            16            49   \n",
       "4                    18            7       1            16            37   \n",
       "...                 ...          ...     ...           ...           ...   \n",
       "7323                  9            6       0             9            45   \n",
       "7324                 15           12       0             9            43   \n",
       "7325                  5           11       0             9            20   \n",
       "7326  Less Sold Product            4       0             8             4   \n",
       "7327  Less Sold Product            3       1             7            54   \n",
       "\n",
       "      Created_day  Created_month  Source_freq_encode  Location_freq_encode  \\\n",
       "0              13             11            0.363401              0.283706   \n",
       "1              13             11            0.346070              0.354121   \n",
       "2              13             11            0.236900              0.354121   \n",
       "3              13             11            0.236900              0.071916   \n",
       "4              13             11            0.346070              0.283706   \n",
       "...           ...            ...                 ...                   ...   \n",
       "7323           28              4            0.346070              0.054449   \n",
       "7324           28              4            0.346070              0.354121   \n",
       "7325           28              4            0.363401              0.283706   \n",
       "7326           28              4            0.019787              0.354121   \n",
       "7327           28              4            0.236900              0.123772   \n",
       "\n",
       "      Delivery_Mode_Mode-1  Delivery_Mode_Mode-2  Delivery_Mode_Mode-3  \\\n",
       "0                        1                     0                     0   \n",
       "1                        0                     0                     0   \n",
       "2                        1                     0                     0   \n",
       "3                        1                     0                     0   \n",
       "4                        1                     0                     0   \n",
       "...                    ...                   ...                   ...   \n",
       "7323                     0                     0                     0   \n",
       "7324                     0                     0                     0   \n",
       "7325                     1                     0                     0   \n",
       "7326                     1                     0                     0   \n",
       "7327                     1                     0                     0   \n",
       "\n",
       "      Delivery_Mode_Mode-4  Delivery_Mode_Mode-5  \n",
       "0                        0                     0  \n",
       "1                        0                     1  \n",
       "2                        0                     0  \n",
       "3                        0                     0  \n",
       "4                        0                     0  \n",
       "...                    ...                   ...  \n",
       "7323                     1                     0  \n",
       "7324                     0                     1  \n",
       "7325                     0                     0  \n",
       "7326                     0                     0  \n",
       "7327                     0                     0  \n",
       "\n",
       "[7328 rows x 14 columns]"
      ]
     },
     "execution_count": 59,
     "metadata": {},
     "output_type": "execute_result"
    }
   ],
   "source": [
    "Sales_Data"
   ]
  },
  {
   "cell_type": "code",
   "execution_count": 60,
   "id": "cb970cf2",
   "metadata": {},
   "outputs": [],
   "source": [
    "Sales_Data.replace({'Less Sold Product':1},inplace=True)"
   ]
  },
  {
   "cell_type": "markdown",
   "id": "eeb775a2",
   "metadata": {},
   "source": [
    "## Feature Selection"
   ]
  },
  {
   "cell_type": "code",
   "execution_count": 61,
   "id": "c9291b5d",
   "metadata": {},
   "outputs": [
    {
     "data": {
      "image/png": "[encoded data removed]",
      "text/plain": [
       "<Figure size 1296x1296 with 2 Axes>"
      ]
     },
     "metadata": {
      "needs_background": "light"
     },
     "output_type": "display_data"
    }
   ],
   "source": [
    "# Finds correlation between Independent and dependent attributes\n",
    "\n",
    "plt.figure(figsize = (18,18))\n",
    "sns.heatmap(Sales_Data.corr(), annot = True, cmap = \"RdYlGn\")\n",
    "\n",
    "plt.show()"
   ]
  },
  {
   "cell_type": "code",
   "execution_count": 62,
   "id": "2c90d6ec",
   "metadata": {},
   "outputs": [],
   "source": [
    "# Creating Dependent and independent variable\n",
    "x=Sales_Data.drop(columns = ['Status']) ## independent varable\n",
    "y=Sales_Data['Status'] ## dependent or target variable"
   ]
  },
  {
   "cell_type": "code",
   "execution_count": 63,
   "id": "08b4f8c7",
   "metadata": {},
   "outputs": [
    {
     "data": {
      "text/plain": [
       "ExtraTreesRegressor()"
      ]
     },
     "execution_count": 63,
     "metadata": {},
     "output_type": "execute_result"
    }
   ],
   "source": [
    "# Important feature using ExtraTreesRegressor\n",
    "\n",
    "from sklearn.ensemble import ExtraTreesRegressor\n",
    "selection = ExtraTreesRegressor()\n",
    "selection.fit(x, y)"
   ]
  },
  {
   "cell_type": "code",
   "execution_count": 64,
   "id": "e8589536",
   "metadata": {},
   "outputs": [
    {
     "data": {
      "image/png": "[encoded data removed]",
      "text/plain": [
       "<Figure size 864x576 with 1 Axes>"
      ]
     },
     "metadata": {
      "needs_background": "light"
     },
     "output_type": "display_data"
    }
   ],
   "source": [
    "#plot graph of feature importances for better visualization\n",
    "\n",
    "plt.figure(figsize = (12,8))\n",
    "feat_importances = pd.Series(selection.feature_importances_, index=x.columns)\n",
    "feat_importances.nlargest(20).plot(kind='barh')\n",
    "plt.show()"
   ]
  },
  {
   "cell_type": "markdown",
   "id": "1feadace",
   "metadata": {},
   "source": [
    "From Above Representation it is concluded that Creation Period, Product_ID, Location and Sales_Agent really effects the Status of lead."
   ]
  },
  {
   "cell_type": "markdown",
   "id": "4eba0520",
   "metadata": {},
   "source": [
    "## Checking the dataset"
   ]
  },
  {
   "cell_type": "code",
   "execution_count": 65,
   "id": "a236f5be",
   "metadata": {},
   "outputs": [
    {
     "data": {
      "text/plain": [
       "0    4466\n",
       "1    2862\n",
       "Name: Status, dtype: int64"
      ]
     },
     "execution_count": 65,
     "metadata": {},
     "output_type": "execute_result"
    }
   ],
   "source": [
    "# target class count\n",
    "Sales_Data['Status'].value_counts()"
   ]
  },
  {
   "cell_type": "code",
   "execution_count": 66,
   "id": "bee31e90",
   "metadata": {},
   "outputs": [
    {
     "data": {
      "text/plain": [
       "Text(0.5, 1.0, 'target variable')"
      ]
     },
     "execution_count": 66,
     "metadata": {},
     "output_type": "execute_result"
    },
    {
     "data": {
      "image/png": "[encoded data removed]",
      "text/plain": [
       "<Figure size 432x288 with 1 Axes>"
      ]
     },
     "metadata": {
      "needs_background": "light"
     },
     "output_type": "display_data"
    }
   ],
   "source": [
    "sns.countplot(Sales_Data[\"Status\"])\n",
    "plt.title('target variable')"
   ]
  },
  {
   "cell_type": "markdown",
   "id": "e33f233a",
   "metadata": {},
   "source": [
    "from the graph it is shown that dataset is imbalance"
   ]
  },
  {
   "cell_type": "markdown",
   "id": "aa297abf",
   "metadata": {},
   "source": [
    "## Handling Imbalanced Dataset"
   ]
  },
  {
   "cell_type": "code",
   "execution_count": 67,
   "id": "d8a91091",
   "metadata": {},
   "outputs": [
    {
     "name": "stdout",
     "output_type": "stream",
     "text": [
      "Requirement already satisfied: imblearn in c:\\users\\hp\\anaconda3\\lib\\site-packages (0.0)\n",
      "Requirement already satisfied: imbalanced-learn in c:\\users\\hp\\anaconda3\\lib\\site-packages (from imblearn) (0.7.0)\n",
      "Requirement already satisfied: numpy>=1.13.3 in c:\\users\\hp\\anaconda3\\lib\\site-packages (from imbalanced-learn->imblearn) (1.21.5)\n",
      "Requirement already satisfied: scikit-learn>=0.23 in c:\\users\\hp\\anaconda3\\lib\\site-packages (from imbalanced-learn->imblearn) (1.0.2)\n",
      "Requirement already satisfied: joblib>=0.11 in c:\\users\\hp\\anaconda3\\lib\\site-packages (from imbalanced-learn->imblearn) (1.1.0)\n",
      "Requirement already satisfied: scipy>=0.19.1 in c:\\users\\hp\\anaconda3\\lib\\site-packages (from imbalanced-learn->imblearn) (1.7.3)\n",
      "Requirement already satisfied: threadpoolctl>=2.0.0 in c:\\users\\hp\\anaconda3\\lib\\site-packages (from scikit-learn>=0.23->imbalanced-learn->imblearn) (2.2.0)\n"
     ]
    }
   ],
   "source": [
    "! pip install imblearn"
   ]
  },
  {
   "cell_type": "code",
   "execution_count": 68,
   "id": "1043a8a8",
   "metadata": {},
   "outputs": [
    {
     "name": "stdout",
     "output_type": "stream",
     "text": [
      "Counter({0: 4466, 1: 2862})\n",
      "Counter({1: 4466, 0: 4466})\n"
     ]
    }
   ],
   "source": [
    "## Balacing the data\n",
    "from collections import Counter# importing counter to check count of each label\n",
    "from imblearn.over_sampling import SMOTE #for balancing the data\n",
    "sm=SMOTE()#object creation\n",
    "print(Counter(y))# checking count for each class \n",
    "x_sm,y_sm=sm.fit_resample(x,y)#applying sampling on target variable \n",
    "print(Counter(y_sm))# checking count after sampling for  each class"
   ]
  },
  {
   "cell_type": "markdown",
   "id": "37155709",
   "metadata": {},
   "source": [
    "## Model Creation"
   ]
  },
  {
   "cell_type": "code",
   "execution_count": 70,
   "id": "bbcb015b",
   "metadata": {},
   "outputs": [],
   "source": [
    "## Creating training and testing data\n",
    "from sklearn.model_selection import train_test_split\n",
    "x_train,x_test,y_train,y_test=train_test_split(x,y,test_size=0.25,random_state=42)"
   ]
  },
  {
   "cell_type": "markdown",
   "id": "9e43d253",
   "metadata": {},
   "source": [
    "# Using Logistic Regression"
   ]
  },
  {
   "cell_type": "code",
   "execution_count": 71,
   "id": "2bfb1ad9",
   "metadata": {},
   "outputs": [
    {
     "data": {
      "text/plain": [
       "LogisticRegression()"
      ]
     },
     "execution_count": 71,
     "metadata": {},
     "output_type": "execute_result"
    }
   ],
   "source": [
    "## model creation\n",
    "from sklearn.linear_model import LogisticRegression\n",
    "log_reg = LogisticRegression()\n",
    "\n",
    "log_reg.fit(x_train,y_train)"
   ]
  },
  {
   "cell_type": "code",
   "execution_count": 72,
   "id": "0998d1ae",
   "metadata": {},
   "outputs": [],
   "source": [
    "y_pred = log_reg.predict(x_test)"
   ]
  },
  {
   "cell_type": "code",
   "execution_count": 73,
   "id": "9f24c5da",
   "metadata": {},
   "outputs": [
    {
     "name": "stdout",
     "output_type": "stream",
     "text": [
      "              precision    recall  f1-score   support\n",
      "\n",
      "           0       0.65      0.86      0.74      1081\n",
      "           1       0.62      0.34      0.44       751\n",
      "\n",
      "    accuracy                           0.65      1832\n",
      "   macro avg       0.64      0.60      0.59      1832\n",
      "weighted avg       0.64      0.65      0.62      1832\n",
      "\n"
     ]
    }
   ],
   "source": [
    "from sklearn.metrics import accuracy_score,classification_report,f1_score\n",
    "print(classification_report(y_test,y_pred))"
   ]
  },
  {
   "cell_type": "code",
   "execution_count": 74,
   "id": "14d27c3c",
   "metadata": {},
   "outputs": [
    {
     "data": {
      "text/plain": [
       "0.5985432928774584"
      ]
     },
     "execution_count": 74,
     "metadata": {},
     "output_type": "execute_result"
    }
   ],
   "source": [
    "from sklearn.metrics import roc_auc_score\n",
    "score=roc_auc_score(y_test,y_pred)\n",
    "score"
   ]
  },
  {
   "cell_type": "code",
   "execution_count": 75,
   "id": "abf9bae9",
   "metadata": {},
   "outputs": [
    {
     "name": "stdout",
     "output_type": "stream",
     "text": [
      "[0.72925351 0.74659021 0.69002167 0.67209023 0.61456824]\n",
      "Cross validation Score: 0.6905047726135258\n",
      "Std : 0.04637397319006\n"
     ]
    }
   ],
   "source": [
    "from sklearn.model_selection import cross_val_score\n",
    "scores = cross_val_score(log_reg,x,y,cv=5,scoring='roc_auc')\n",
    "print(scores)\n",
    "print(\"Cross validation Score:\",scores.mean())\n",
    "print(\"Std :\",scores.std())"
   ]
  },
  {
   "cell_type": "markdown",
   "id": "d03817b1",
   "metadata": {},
   "source": [
    "# Using Decision Tree Classifier"
   ]
  },
  {
   "cell_type": "code",
   "execution_count": 76,
   "id": "dd2d29ad",
   "metadata": {},
   "outputs": [
    {
     "data": {
      "text/plain": [
       "array([0, 0, 0, ..., 0, 0, 0], dtype=int64)"
      ]
     },
     "execution_count": 76,
     "metadata": {},
     "output_type": "execute_result"
    }
   ],
   "source": [
    "# Importing decision tree from sklearn.tree\n",
    "from sklearn.tree import DecisionTreeClassifier\n",
    "#object creation for decision tree  \n",
    "dt = DecisionTreeClassifier(criterion='entropy', max_depth=10, min_samples_leaf= 1, min_samples_split= 3, splitter= 'random')\n",
    "#traning the model\n",
    "dt.fit(x_train,y_train)\n",
    "# prediction\n",
    "y_hat = dt.predict(x_test)\n",
    "# predicted value\n",
    "y_hat"
   ]
  },
  {
   "cell_type": "code",
   "execution_count": 77,
   "id": "84b7371a",
   "metadata": {},
   "outputs": [
    {
     "data": {
      "text/plain": [
       "0.7698326055312955"
      ]
     },
     "execution_count": 77,
     "metadata": {},
     "output_type": "execute_result"
    }
   ],
   "source": [
    "## Evalauting the model\n",
    "from sklearn.metrics import accuracy_score,classification_report,f1_score    #importing mertics to check model performance\n",
    "##Training score\n",
    "y_train_predict=dt.predict(x_train)#passing X_train to predict Y_train\n",
    "acc_train=accuracy_score(y_train,y_train_predict)#checking accuracy\n",
    "acc_train"
   ]
  },
  {
   "cell_type": "code",
   "execution_count": 78,
   "id": "870f856e",
   "metadata": {},
   "outputs": [
    {
     "name": "stdout",
     "output_type": "stream",
     "text": [
      "              precision    recall  f1-score   support\n",
      "\n",
      "           0       0.79      0.85      0.82      3385\n",
      "           1       0.73      0.63      0.68      2111\n",
      "\n",
      "    accuracy                           0.77      5496\n",
      "   macro avg       0.76      0.74      0.75      5496\n",
      "weighted avg       0.77      0.77      0.77      5496\n",
      "\n"
     ]
    }
   ],
   "source": [
    "# It will give precision,recall,f1 score accure\n",
    "print(classification_report(y_train,y_train_predict))"
   ]
  },
  {
   "cell_type": "code",
   "execution_count": 79,
   "id": "2310e5d7",
   "metadata": {},
   "outputs": [
    {
     "data": {
      "text/html": [
       "<div>\n",
       "<style scoped>\n",
       "    .dataframe tbody tr th:only-of-type {\n",
       "        vertical-align: middle;\n",
       "    }\n",
       "\n",
       "    .dataframe tbody tr th {\n",
       "        vertical-align: top;\n",
       "    }\n",
       "\n",
       "    .dataframe thead th {\n",
       "        text-align: right;\n",
       "    }\n",
       "</style>\n",
       "<table border=\"1\" class=\"dataframe\">\n",
       "  <thead>\n",
       "    <tr style=\"text-align: right;\">\n",
       "      <th>col_0</th>\n",
       "      <th>0</th>\n",
       "      <th>1</th>\n",
       "    </tr>\n",
       "    <tr>\n",
       "      <th>Status</th>\n",
       "      <th></th>\n",
       "      <th></th>\n",
       "    </tr>\n",
       "  </thead>\n",
       "  <tbody>\n",
       "    <tr>\n",
       "      <th>0</th>\n",
       "      <td>2893</td>\n",
       "      <td>492</td>\n",
       "    </tr>\n",
       "    <tr>\n",
       "      <th>1</th>\n",
       "      <td>773</td>\n",
       "      <td>1338</td>\n",
       "    </tr>\n",
       "  </tbody>\n",
       "</table>\n",
       "</div>"
      ],
      "text/plain": [
       "col_0      0     1\n",
       "Status            \n",
       "0       2893   492\n",
       "1        773  1338"
      ]
     },
     "execution_count": 79,
     "metadata": {},
     "output_type": "execute_result"
    }
   ],
   "source": [
    "# It will show confusion matrix\n",
    "pd.crosstab(y_train,y_train_predict)"
   ]
  },
  {
   "cell_type": "code",
   "execution_count": 80,
   "id": "b095686a",
   "metadata": {},
   "outputs": [
    {
     "data": {
      "text/plain": [
       "0.6790154783049988"
      ]
     },
     "execution_count": 80,
     "metadata": {},
     "output_type": "execute_result"
    }
   ],
   "source": [
    "train_f1=f1_score(y_train,y_train_predict)\n",
    "train_f1"
   ]
  },
  {
   "cell_type": "code",
   "execution_count": 81,
   "id": "b93995c6",
   "metadata": {},
   "outputs": [
    {
     "data": {
      "text/plain": [
       "0.6763100436681223"
      ]
     },
     "execution_count": 81,
     "metadata": {},
     "output_type": "execute_result"
    }
   ],
   "source": [
    "## test acc\n",
    "test_acc=accuracy_score(y_test,y_hat)#testing accuracy \n",
    "test_acc"
   ]
  },
  {
   "cell_type": "code",
   "execution_count": 82,
   "id": "2f30e9e2",
   "metadata": {},
   "outputs": [
    {
     "data": {
      "text/plain": [
       "0.5730741540676745"
      ]
     },
     "execution_count": 82,
     "metadata": {},
     "output_type": "execute_result"
    }
   ],
   "source": [
    "## test score\n",
    "test_f1=f1_score(y_test,y_hat)#f1 score\n",
    "test_f1"
   ]
  },
  {
   "cell_type": "code",
   "execution_count": 83,
   "id": "9396ba1d",
   "metadata": {},
   "outputs": [
    {
     "name": "stdout",
     "output_type": "stream",
     "text": [
      "              precision    recall  f1-score   support\n",
      "\n",
      "           0       0.70      0.78      0.74      1081\n",
      "           1       0.62      0.53      0.57       751\n",
      "\n",
      "    accuracy                           0.68      1832\n",
      "   macro avg       0.66      0.65      0.66      1832\n",
      "weighted avg       0.67      0.68      0.67      1832\n",
      "\n"
     ]
    }
   ],
   "source": [
    "# for testing\n",
    "print(classification_report(y_test,y_hat))"
   ]
  },
  {
   "cell_type": "code",
   "execution_count": 84,
   "id": "a6139e4c",
   "metadata": {},
   "outputs": [
    {
     "data": {
      "text/html": [
       "<div>\n",
       "<style scoped>\n",
       "    .dataframe tbody tr th:only-of-type {\n",
       "        vertical-align: middle;\n",
       "    }\n",
       "\n",
       "    .dataframe tbody tr th {\n",
       "        vertical-align: top;\n",
       "    }\n",
       "\n",
       "    .dataframe thead th {\n",
       "        text-align: right;\n",
       "    }\n",
       "</style>\n",
       "<table border=\"1\" class=\"dataframe\">\n",
       "  <thead>\n",
       "    <tr style=\"text-align: right;\">\n",
       "      <th>col_0</th>\n",
       "      <th>0</th>\n",
       "      <th>1</th>\n",
       "    </tr>\n",
       "    <tr>\n",
       "      <th>Status</th>\n",
       "      <th></th>\n",
       "      <th></th>\n",
       "    </tr>\n",
       "  </thead>\n",
       "  <tbody>\n",
       "    <tr>\n",
       "      <th>0</th>\n",
       "      <td>841</td>\n",
       "      <td>240</td>\n",
       "    </tr>\n",
       "    <tr>\n",
       "      <th>1</th>\n",
       "      <td>353</td>\n",
       "      <td>398</td>\n",
       "    </tr>\n",
       "  </tbody>\n",
       "</table>\n",
       "</div>"
      ],
      "text/plain": [
       "col_0     0    1\n",
       "Status          \n",
       "0       841  240\n",
       "1       353  398"
      ]
     },
     "execution_count": 84,
     "metadata": {},
     "output_type": "execute_result"
    }
   ],
   "source": [
    "# confusion matrix\n",
    "pd.crosstab(y_test,y_hat)"
   ]
  },
  {
   "cell_type": "markdown",
   "id": "07ad08f1",
   "metadata": {},
   "source": [
    "## Hyperparameter Tuning For Dicision Tree"
   ]
  },
  {
   "cell_type": "code",
   "execution_count": 85,
   "id": "bda35c26",
   "metadata": {},
   "outputs": [],
   "source": [
    "from sklearn.model_selection import GridSearchCV\n",
    "#It helps to loop through predefined hyperparameters and fit your estimator (model) on your training set. \n",
    "#So,in the end, you can select the best parameters from the listed hyperparameters."
   ]
  },
  {
   "cell_type": "code",
   "execution_count": 86,
   "id": "127db5aa",
   "metadata": {},
   "outputs": [
    {
     "name": "stdout",
     "output_type": "stream",
     "text": [
      "Fitting 3 folds for each of 4332 candidates, totalling 12996 fits\n",
      "Best paramters: {'criterion': 'gini', 'max_depth': 6, 'min_samples_leaf': 11, 'min_samples_split': 2, 'splitter': 'best'})\n"
     ]
    }
   ],
   "source": [
    "#creating dictionary--> key value pair of hyperparameters having key as parameter and values as its values\n",
    "params = {\n",
    "    \"criterion\":(\"gini\", \"entropy\"), #quality of split\n",
    "    \"splitter\":(\"best\", \"random\"), # searches the features for a split\n",
    "    \"max_depth\":(list(range(1, 20))), #depth of tree range from 1 to 19\n",
    "    \"min_samples_split\":[2, 3, 4],    #the minimum number of samples required to split internal node\n",
    "    \"min_samples_leaf\":list(range(1, 20)),#minimum number of samples required to be at a leaf node,we are passing list which is range from 1 to 19 \n",
    "}\n",
    "\n",
    "\n",
    "tree_clf = DecisionTreeClassifier(random_state=3)#object creation for decision tree with random state 3\n",
    "tree_cv = GridSearchCV(tree_clf, params, scoring=\"f1\", n_jobs=-1, verbose=1, cv=3)\n",
    "#passing model to gridsearchCV ,\n",
    "#tree_clf-->model\n",
    "#params---->hyperparametes(dictionary we created)\n",
    "#scoring--->performance matrix to check performance\n",
    "#n_jobs---->Number of jobs to run in parallel,-1 means using all processors.\n",
    "#verbose=Controls the verbosity: the higher, the more messages.\n",
    "#>1 : the computation time for each fold and parameter candidate is displayed;\n",
    "#>2 : the score is also displayed;\n",
    "#>3 : the fold and candidate parameter indexes are also displayed together with the starting time of the computation.\n",
    "#cv------> number of folds\n",
    "\n",
    "\n",
    "\n",
    "\n",
    "tree_cv.fit(x_train,y_train)#training data on gridsearch cv\n",
    "best_params = tree_cv.best_params_#it will give you best parameters \n",
    "print(f\"Best paramters: {best_params})\")#printing  best parameters\n"
   ]
  },
  {
   "cell_type": "code",
   "execution_count": 88,
   "id": "42ea4742",
   "metadata": {},
   "outputs": [
    {
     "data": {
      "text/plain": [
       "{'criterion': 'gini',\n",
       " 'max_depth': 6,\n",
       " 'min_samples_leaf': 11,\n",
       " 'min_samples_split': 2,\n",
       " 'splitter': 'best'}"
      ]
     },
     "execution_count": 88,
     "metadata": {},
     "output_type": "execute_result"
    }
   ],
   "source": [
    "#getting best parameters from cv\n",
    "tree_cv.best_params_"
   ]
  },
  {
   "cell_type": "code",
   "execution_count": 89,
   "id": "0dc81424",
   "metadata": {},
   "outputs": [
    {
     "data": {
      "text/plain": [
       "0.5928134870924974"
      ]
     },
     "execution_count": 89,
     "metadata": {},
     "output_type": "execute_result"
    }
   ],
   "source": [
    "# getting best score from cv\n",
    "tree_cv.best_score_"
   ]
  },
  {
   "cell_type": "code",
   "execution_count": 90,
   "id": "949ec2fc",
   "metadata": {},
   "outputs": [
    {
     "data": {
      "text/plain": [
       "DecisionTreeClassifier(criterion='entropy', max_depth=10, min_samples_split=3,\n",
       "                       splitter='random')"
      ]
     },
     "execution_count": 90,
     "metadata": {},
     "output_type": "execute_result"
    }
   ],
   "source": [
    "#traing model with best parameter\n",
    "dt.fit(x_train,y_train)"
   ]
  },
  {
   "cell_type": "code",
   "execution_count": 91,
   "id": "06444749",
   "metadata": {},
   "outputs": [],
   "source": [
    "y_hat=dt.predict(x_test)#predicting\n",
    "#y_hat1"
   ]
  },
  {
   "cell_type": "code",
   "execution_count": 92,
   "id": "09f17796",
   "metadata": {},
   "outputs": [
    {
     "data": {
      "text/plain": [
       "0.6719432314410481"
      ]
     },
     "execution_count": 92,
     "metadata": {},
     "output_type": "execute_result"
    }
   ],
   "source": [
    "acc_test=accuracy_score(y_test,y_hat)#checking accuracy\n",
    "acc_test"
   ]
  },
  {
   "cell_type": "code",
   "execution_count": 93,
   "id": "e6155919",
   "metadata": {},
   "outputs": [
    {
     "data": {
      "text/plain": [
       "0.5531598513011152"
      ]
     },
     "execution_count": 93,
     "metadata": {},
     "output_type": "execute_result"
    }
   ],
   "source": [
    "test_f1=f1_score(y_test,y_hat)#f1_score\n",
    "test_f1"
   ]
  },
  {
   "cell_type": "code",
   "execution_count": 95,
   "id": "c7a7a1a6",
   "metadata": {
    "scrolled": true
   },
   "outputs": [
    {
     "name": "stdout",
     "output_type": "stream",
     "text": [
      "              precision    recall  f1-score   support\n",
      "\n",
      "           0       0.69      0.79      0.74      1081\n",
      "           1       0.63      0.50      0.55       751\n",
      "\n",
      "    accuracy                           0.67      1832\n",
      "   macro avg       0.66      0.64      0.65      1832\n",
      "weighted avg       0.67      0.67      0.66      1832\n",
      "\n"
     ]
    }
   ],
   "source": [
    "#it will give precision,recall,f1 scores and accuracy \n",
    "print(classification_report(y_test,y_hat))"
   ]
  },
  {
   "cell_type": "code",
   "execution_count": 96,
   "id": "1653b59f",
   "metadata": {
    "scrolled": false
   },
   "outputs": [
    {
     "data": {
      "text/plain": [
       "[Text(0.44768401015228426, 0.9545454545454546, 'X[0] <= 15.615\\nentropy = 0.961\\nsamples = 5496\\nvalue = [3385, 2111]'),\n",
       " Text(0.2495241116751269, 0.8636363636363636, 'X[12] <= 0.593\\nentropy = 0.842\\nsamples = 2712\\nvalue = [1978, 734]'),\n",
       " Text(0.1476522842639594, 0.7727272727272727, 'X[0] <= 13.122\\nentropy = 0.961\\nsamples = 1333\\nvalue = [821, 512]'),\n",
       " Text(0.07855329949238579, 0.6818181818181818, 'X[6] <= 0.212\\nentropy = 0.993\\nsamples = 1120\\nvalue = [616, 504]'),\n",
       " Text(0.01979695431472081, 0.5909090909090909, 'X[0] <= 2.797\\nentropy = 0.674\\nsamples = 124\\nvalue = [22, 102]'),\n",
       " Text(0.01015228426395939, 0.5, 'X[7] <= 0.05\\nentropy = 0.994\\nsamples = 33\\nvalue = [15, 18]'),\n",
       " Text(0.008121827411167513, 0.4090909090909091, 'entropy = 0.0\\nsamples = 2\\nvalue = [2, 0]'),\n",
       " Text(0.012182741116751269, 0.4090909090909091, 'X[7] <= 0.344\\nentropy = 0.981\\nsamples = 31\\nvalue = [13, 18]'),\n",
       " Text(0.01015228426395939, 0.3181818181818182, 'X[3] <= 21.092\\nentropy = 0.94\\nsamples = 28\\nvalue = [10, 18]'),\n",
       " Text(0.006091370558375634, 0.22727272727272727, 'X[3] <= 15.319\\nentropy = 0.837\\nsamples = 15\\nvalue = [4, 11]'),\n",
       " Text(0.0040609137055837565, 0.13636363636363635, 'X[6] <= 0.016\\nentropy = 0.75\\nsamples = 14\\nvalue = [3, 11]'),\n",
       " Text(0.0020304568527918783, 0.045454545454545456, 'entropy = 1.0\\nsamples = 6\\nvalue = [3, 3]'),\n",
       " Text(0.006091370558375634, 0.045454545454545456, 'entropy = 0.0\\nsamples = 8\\nvalue = [0, 8]'),\n",
       " Text(0.008121827411167513, 0.13636363636363635, 'entropy = 0.0\\nsamples = 1\\nvalue = [1, 0]'),\n",
       " Text(0.014213197969543147, 0.22727272727272727, 'X[7] <= 0.095\\nentropy = 0.996\\nsamples = 13\\nvalue = [6, 7]'),\n",
       " Text(0.012182741116751269, 0.13636363636363635, 'entropy = 0.0\\nsamples = 2\\nvalue = [2, 0]'),\n",
       " Text(0.016243654822335026, 0.13636363636363635, 'X[5] <= 6.102\\nentropy = 0.946\\nsamples = 11\\nvalue = [4, 7]'),\n",
       " Text(0.014213197969543147, 0.045454545454545456, 'entropy = 0.881\\nsamples = 10\\nvalue = [3, 7]'),\n",
       " Text(0.018274111675126905, 0.045454545454545456, 'entropy = 0.0\\nsamples = 1\\nvalue = [1, 0]'),\n",
       " Text(0.014213197969543147, 0.3181818181818182, 'entropy = 0.0\\nsamples = 3\\nvalue = [3, 0]'),\n",
       " Text(0.029441624365482234, 0.5, 'X[3] <= 12.976\\nentropy = 0.391\\nsamples = 91\\nvalue = [7, 84]'),\n",
       " Text(0.027411167512690356, 0.4090909090909091, 'entropy = 0.0\\nsamples = 18\\nvalue = [0, 18]'),\n",
       " Text(0.03147208121827411, 0.4090909090909091, 'X[1] <= 10.062\\nentropy = 0.456\\nsamples = 73\\nvalue = [7, 66]'),\n",
       " Text(0.026395939086294416, 0.3181818181818182, 'X[3] <= 24.479\\nentropy = 0.383\\nsamples = 67\\nvalue = [5, 62]'),\n",
       " Text(0.02233502538071066, 0.22727272727272727, 'X[6] <= 0.024\\nentropy = 0.61\\nsamples = 20\\nvalue = [3, 17]'),\n",
       " Text(0.02030456852791878, 0.13636363636363635, 'entropy = 0.0\\nsamples = 12\\nvalue = [0, 12]'),\n",
       " Text(0.024365482233502538, 0.13636363636363635, 'X[7] <= 0.277\\nentropy = 0.954\\nsamples = 8\\nvalue = [3, 5]'),\n",
       " Text(0.02233502538071066, 0.045454545454545456, 'entropy = 0.0\\nsamples = 2\\nvalue = [2, 0]'),\n",
       " Text(0.026395939086294416, 0.045454545454545456, 'entropy = 0.65\\nsamples = 6\\nvalue = [1, 5]'),\n",
       " Text(0.030456852791878174, 0.22727272727272727, 'X[8] <= 0.864\\nentropy = 0.254\\nsamples = 47\\nvalue = [2, 45]'),\n",
       " Text(0.028426395939086295, 0.13636363636363635, 'entropy = 0.0\\nsamples = 19\\nvalue = [0, 19]'),\n",
       " Text(0.03248730964467005, 0.13636363636363635, 'X[0] <= 6.804\\nentropy = 0.371\\nsamples = 28\\nvalue = [2, 26]'),\n",
       " Text(0.030456852791878174, 0.045454545454545456, 'entropy = 0.0\\nsamples = 7\\nvalue = [0, 7]'),\n",
       " Text(0.03451776649746193, 0.045454545454545456, 'entropy = 0.454\\nsamples = 21\\nvalue = [2, 19]'),\n",
       " Text(0.03654822335025381, 0.3181818181818182, 'X[1] <= 11.723\\nentropy = 0.918\\nsamples = 6\\nvalue = [2, 4]'),\n",
       " Text(0.03451776649746193, 0.22727272727272727, 'entropy = 0.0\\nsamples = 1\\nvalue = [1, 0]'),\n",
       " Text(0.03857868020304569, 0.22727272727272727, 'X[4] <= 17.452\\nentropy = 0.722\\nsamples = 5\\nvalue = [1, 4]'),\n",
       " Text(0.03654822335025381, 0.13636363636363635, 'entropy = 1.0\\nsamples = 2\\nvalue = [1, 1]'),\n",
       " Text(0.04060913705583756, 0.13636363636363635, 'entropy = 0.0\\nsamples = 3\\nvalue = [0, 3]'),\n",
       " Text(0.13730964467005077, 0.5909090909090909, 'X[1] <= 10.022\\nentropy = 0.973\\nsamples = 996\\nvalue = [594, 402]'),\n",
       " Text(0.09340101522842639, 0.5, 'X[7] <= 0.324\\nentropy = 0.986\\nsamples = 825\\nvalue = [469, 356]'),\n",
       " Text(0.06852791878172589, 0.4090909090909091, 'X[1] <= 8.832\\nentropy = 0.997\\nsamples = 667\\nvalue = [354, 313]'),\n",
       " Text(0.05583756345177665, 0.3181818181818182, 'X[1] <= 5.063\\nentropy = 0.982\\nsamples = 555\\nvalue = [321, 234]'),\n",
       " Text(0.048730964467005075, 0.22727272727272727, 'X[5] <= 6.289\\nentropy = 0.965\\nsamples = 367\\nvalue = [224, 143]'),\n",
       " Text(0.04467005076142132, 0.13636363636363635, 'X[0] <= 7.22\\nentropy = 0.879\\nsamples = 141\\nvalue = [99, 42]'),\n",
       " Text(0.04263959390862944, 0.045454545454545456, 'entropy = 0.781\\nsamples = 82\\nvalue = [63, 19]'),\n",
       " Text(0.046700507614213196, 0.045454545454545456, 'entropy = 0.965\\nsamples = 59\\nvalue = [36, 23]'),\n",
       " Text(0.05279187817258883, 0.13636363636363635, 'X[4] <= 19.935\\nentropy = 0.992\\nsamples = 226\\nvalue = [125, 101]'),\n",
       " Text(0.050761421319796954, 0.045454545454545456, 'entropy = 0.966\\nsamples = 143\\nvalue = [87, 56]'),\n",
       " Text(0.05482233502538071, 0.045454545454545456, 'entropy = 0.995\\nsamples = 83\\nvalue = [38, 45]'),\n",
       " Text(0.06294416243654823, 0.22727272727272727, 'X[9] <= 0.45\\nentropy = 0.999\\nsamples = 188\\nvalue = [97, 91]'),\n",
       " Text(0.06091370558375635, 0.13636363636363635, 'X[4] <= 22.764\\nentropy = 0.999\\nsamples = 187\\nvalue = [96, 91]'),\n",
       " Text(0.05888324873096447, 0.045454545454545456, 'entropy = 0.999\\nsamples = 135\\nvalue = [65, 70]'),\n",
       " Text(0.06294416243654823, 0.045454545454545456, 'entropy = 0.973\\nsamples = 52\\nvalue = [31, 21]'),\n",
       " Text(0.0649746192893401, 0.13636363636363635, 'entropy = 0.0\\nsamples = 1\\nvalue = [1, 0]'),\n",
       " Text(0.08121827411167512, 0.3181818181818182, 'X[6] <= 0.348\\nentropy = 0.875\\nsamples = 112\\nvalue = [33, 79]'),\n",
       " Text(0.07309644670050762, 0.22727272727272727, 'X[7] <= 0.199\\nentropy = 0.734\\nsamples = 68\\nvalue = [14, 54]'),\n",
       " Text(0.06903553299492386, 0.13636363636363635, 'X[4] <= 6.515\\nentropy = 0.894\\nsamples = 29\\nvalue = [9, 20]'),\n",
       " Text(0.06700507614213198, 0.045454545454545456, 'entropy = 0.503\\nsamples = 9\\nvalue = [1, 8]'),\n",
       " Text(0.07106598984771574, 0.045454545454545456, 'entropy = 0.971\\nsamples = 20\\nvalue = [8, 12]'),\n",
       " Text(0.07715736040609138, 0.13636363636363635, 'X[3] <= 41.141\\nentropy = 0.552\\nsamples = 39\\nvalue = [5, 34]'),\n",
       " Text(0.0751269035532995, 0.045454545454545456, 'entropy = 0.235\\nsamples = 26\\nvalue = [1, 25]'),\n",
       " Text(0.07918781725888324, 0.045454545454545456, 'entropy = 0.89\\nsamples = 13\\nvalue = [4, 9]'),\n",
       " Text(0.08934010152284264, 0.22727272727272727, 'X[7] <= 0.101\\nentropy = 0.987\\nsamples = 44\\nvalue = [19, 25]'),\n",
       " Text(0.08527918781725888, 0.13636363636363635, 'X[0] <= 3.376\\nentropy = 0.961\\nsamples = 13\\nvalue = [8, 5]'),\n",
       " Text(0.083248730964467, 0.045454545454545456, 'entropy = 0.0\\nsamples = 4\\nvalue = [4, 0]'),\n",
       " Text(0.08730964467005076, 0.045454545454545456, 'entropy = 0.991\\nsamples = 9\\nvalue = [4, 5]'),\n",
       " Text(0.09340101522842639, 0.13636363636363635, 'X[3] <= 42.015\\nentropy = 0.938\\nsamples = 31\\nvalue = [11, 20]'),\n",
       " Text(0.09137055837563451, 0.045454545454545456, 'entropy = 0.998\\nsamples = 19\\nvalue = [10, 9]'),\n",
       " Text(0.09543147208121827, 0.045454545454545456, 'entropy = 0.414\\nsamples = 12\\nvalue = [1, 11]'),\n",
       " Text(0.1182741116751269, 0.4090909090909091, 'X[8] <= 0.45\\nentropy = 0.845\\nsamples = 158\\nvalue = [115, 43]'),\n",
       " Text(0.1065989847715736, 0.3181818181818182, 'X[1] <= 3.564\\nentropy = 0.915\\nsamples = 100\\nvalue = [67, 33]'),\n",
       " Text(0.09949238578680203, 0.22727272727272727, 'X[0] <= 7.259\\nentropy = 0.592\\nsamples = 14\\nvalue = [12, 2]'),\n",
       " Text(0.09746192893401015, 0.13636363636363635, 'entropy = 0.0\\nsamples = 5\\nvalue = [5, 0]'),\n",
       " Text(0.10152284263959391, 0.13636363636363635, 'X[4] <= 22.746\\nentropy = 0.764\\nsamples = 9\\nvalue = [7, 2]'),\n",
       " Text(0.09949238578680203, 0.045454545454545456, 'entropy = 0.863\\nsamples = 7\\nvalue = [5, 2]'),\n",
       " Text(0.10355329949238579, 0.045454545454545456, 'entropy = 0.0\\nsamples = 2\\nvalue = [2, 0]'),\n",
       " Text(0.11370558375634518, 0.22727272727272727, 'X[2] <= 11.259\\nentropy = 0.943\\nsamples = 86\\nvalue = [55, 31]'),\n",
       " Text(0.10964467005076142, 0.13636363636363635, 'X[10] <= 0.101\\nentropy = 1.0\\nsamples = 24\\nvalue = [12, 12]'),\n",
       " Text(0.10761421319796954, 0.045454545454545456, 'entropy = 0.0\\nsamples = 4\\nvalue = [4, 0]'),\n",
       " Text(0.1116751269035533, 0.045454545454545456, 'entropy = 0.971\\nsamples = 20\\nvalue = [8, 12]'),\n",
       " Text(0.11776649746192894, 0.13636363636363635, 'X[11] <= 0.159\\nentropy = 0.889\\nsamples = 62\\nvalue = [43, 19]'),\n",
       " Text(0.11573604060913706, 0.045454545454545456, 'entropy = 0.86\\nsamples = 60\\nvalue = [43, 17]'),\n",
       " Text(0.11979695431472082, 0.045454545454545456, 'entropy = 0.0\\nsamples = 2\\nvalue = [0, 2]'),\n",
       " Text(0.1299492385786802, 0.3181818181818182, 'X[5] <= 6.407\\nentropy = 0.663\\nsamples = 58\\nvalue = [48, 10]'),\n",
       " Text(0.12385786802030457, 0.22727272727272727, 'X[2] <= 10.686\\nentropy = 0.503\\nsamples = 45\\nvalue = [40, 5]'),\n",
       " Text(0.1218274111675127, 0.13636363636363635, 'entropy = 0.0\\nsamples = 8\\nvalue = [8, 0]'),\n",
       " Text(0.12588832487309645, 0.13636363636363635, 'X[3] <= 36.236\\nentropy = 0.571\\nsamples = 37\\nvalue = [32, 5]'),\n",
       " Text(0.12385786802030457, 0.045454545454545456, 'entropy = 0.706\\nsamples = 26\\nvalue = [21, 5]'),\n",
       " Text(0.12791878172588833, 0.045454545454545456, 'entropy = 0.0\\nsamples = 11\\nvalue = [11, 0]'),\n",
       " Text(0.13604060913705585, 0.22727272727272727, 'X[6] <= 0.348\\nentropy = 0.961\\nsamples = 13\\nvalue = [8, 5]'),\n",
       " Text(0.13401015228426397, 0.13636363636363635, 'X[1] <= 8.086\\nentropy = 0.994\\nsamples = 11\\nvalue = [6, 5]'),\n",
       " Text(0.1319796954314721, 0.045454545454545456, 'entropy = 1.0\\nsamples = 10\\nvalue = [5, 5]'),\n",
       " Text(0.13604060913705585, 0.045454545454545456, 'entropy = 0.0\\nsamples = 1\\nvalue = [1, 0]'),\n",
       " Text(0.13807106598984772, 0.13636363636363635, 'entropy = 0.0\\nsamples = 2\\nvalue = [2, 0]'),\n",
       " Text(0.18121827411167513, 0.5, 'X[7] <= 0.319\\nentropy = 0.84\\nsamples = 171\\nvalue = [125, 46]'),\n",
       " Text(0.16751269035532995, 0.4090909090909091, 'X[2] <= 16.079\\nentropy = 0.901\\nsamples = 123\\nvalue = [84, 39]'),\n",
       " Text(0.15431472081218275, 0.3181818181818182, 'X[7] <= 0.137\\nentropy = 0.945\\nsamples = 91\\nvalue = [58, 33]'),\n",
       " Text(0.14619289340101524, 0.22727272727272727, 'X[6] <= 0.242\\nentropy = 0.867\\nsamples = 52\\nvalue = [37, 15]'),\n",
       " Text(0.14213197969543148, 0.13636363636363635, 'X[1] <= 11.93\\nentropy = 0.971\\nsamples = 10\\nvalue = [4, 6]'),\n",
       " Text(0.1401015228426396, 0.045454545454545456, 'entropy = 0.918\\nsamples = 9\\nvalue = [3, 6]'),\n",
       " Text(0.14416243654822336, 0.045454545454545456, 'entropy = 0.0\\nsamples = 1\\nvalue = [1, 0]'),\n",
       " Text(0.150253807106599, 0.13636363636363635, 'X[7] <= 0.027\\nentropy = 0.75\\nsamples = 42\\nvalue = [33, 9]'),\n",
       " Text(0.14822335025380712, 0.045454545454545456, 'entropy = 0.0\\nsamples = 2\\nvalue = [0, 2]'),\n",
       " Text(0.15228426395939088, 0.045454545454545456, 'entropy = 0.669\\nsamples = 40\\nvalue = [33, 7]'),\n",
       " Text(0.16243654822335024, 0.22727272727272727, 'X[0] <= 6.48\\nentropy = 0.996\\nsamples = 39\\nvalue = [21, 18]'),\n",
       " Text(0.15837563451776648, 0.13636363636363635, 'X[1] <= 11.895\\nentropy = 0.828\\nsamples = 23\\nvalue = [17, 6]'),\n",
       " Text(0.15634517766497463, 0.045454545454545456, 'entropy = 0.9\\nsamples = 19\\nvalue = [13, 6]'),\n",
       " Text(0.16040609137055836, 0.045454545454545456, 'entropy = 0.0\\nsamples = 4\\nvalue = [4, 0]'),\n",
       " Text(0.166497461928934, 0.13636363636363635, 'X[2] <= 13.623\\nentropy = 0.811\\nsamples = 16\\nvalue = [4, 12]'),\n",
       " Text(0.16446700507614212, 0.045454545454545456, 'entropy = 0.469\\nsamples = 10\\nvalue = [1, 9]'),\n",
       " Text(0.16852791878172588, 0.045454545454545456, 'entropy = 1.0\\nsamples = 6\\nvalue = [3, 3]'),\n",
       " Text(0.18071065989847715, 0.3181818181818182, 'X[3] <= 22.748\\nentropy = 0.696\\nsamples = 32\\nvalue = [26, 6]'),\n",
       " Text(0.1766497461928934, 0.22727272727272727, 'X[4] <= 3.213\\nentropy = 0.414\\nsamples = 12\\nvalue = [11, 1]'),\n",
       " Text(0.1746192893401015, 0.13636363636363635, 'X[5] <= 8.88\\nentropy = 0.918\\nsamples = 3\\nvalue = [2, 1]'),\n",
       " Text(0.17258883248730963, 0.045454545454545456, 'entropy = 0.0\\nsamples = 2\\nvalue = [2, 0]'),\n",
       " Text(0.1766497461928934, 0.045454545454545456, 'entropy = 0.0\\nsamples = 1\\nvalue = [0, 1]'),\n",
       " Text(0.17868020304568527, 0.13636363636363635, 'entropy = 0.0\\nsamples = 9\\nvalue = [9, 0]'),\n",
       " Text(0.1847715736040609, 0.22727272727272727, 'X[3] <= 50.16\\nentropy = 0.811\\nsamples = 20\\nvalue = [15, 5]'),\n",
       " Text(0.18274111675126903, 0.13636363636363635, 'X[5] <= 9.494\\nentropy = 0.918\\nsamples = 15\\nvalue = [10, 5]'),\n",
       " Text(0.18071065989847715, 0.045454545454545456, 'entropy = 0.863\\nsamples = 14\\nvalue = [10, 4]'),\n",
       " Text(0.1847715736040609, 0.045454545454545456, 'entropy = 0.0\\nsamples = 1\\nvalue = [0, 1]'),\n",
       " Text(0.18680203045685279, 0.13636363636363635, 'entropy = 0.0\\nsamples = 5\\nvalue = [5, 0]'),\n",
       " Text(0.1949238578680203, 0.4090909090909091, 'X[0] <= 4.393\\nentropy = 0.599\\nsamples = 48\\nvalue = [41, 7]'),\n",
       " Text(0.19086294416243654, 0.3181818181818182, 'X[5] <= 6.043\\nentropy = 0.286\\nsamples = 20\\nvalue = [19, 1]'),\n",
       " Text(0.18883248730964466, 0.22727272727272727, 'entropy = 0.0\\nsamples = 14\\nvalue = [14, 0]'),\n",
       " Text(0.19289340101522842, 0.22727272727272727, 'X[4] <= 8.009\\nentropy = 0.65\\nsamples = 6\\nvalue = [5, 1]'),\n",
       " Text(0.19086294416243654, 0.13636363636363635, 'entropy = 0.0\\nsamples = 4\\nvalue = [4, 0]'),\n",
       " Text(0.1949238578680203, 0.13636363636363635, 'entropy = 1.0\\nsamples = 2\\nvalue = [1, 1]'),\n",
       " Text(0.19898477157360406, 0.3181818181818182, 'X[4] <= 19.222\\nentropy = 0.75\\nsamples = 28\\nvalue = [22, 6]'),\n",
       " Text(0.19695431472081218, 0.22727272727272727, 'entropy = 0.0\\nsamples = 18\\nvalue = [18, 0]'),\n",
       " Text(0.20101522842639594, 0.22727272727272727, 'X[3] <= 45.853\\nentropy = 0.971\\nsamples = 10\\nvalue = [4, 6]'),\n",
       " Text(0.19898477157360406, 0.13636363636363635, 'X[2] <= 21.249\\nentropy = 1.0\\nsamples = 8\\nvalue = [4, 4]'),\n",
       " Text(0.19695431472081218, 0.045454545454545456, 'entropy = 0.985\\nsamples = 7\\nvalue = [4, 3]'),\n",
       " Text(0.20101522842639594, 0.045454545454545456, 'entropy = 0.0\\nsamples = 1\\nvalue = [0, 1]'),\n",
       " Text(0.20304568527918782, 0.13636363636363635, 'entropy = 0.0\\nsamples = 2\\nvalue = [0, 2]'),\n",
       " Text(0.216751269035533, 0.6818181818181818, 'X[10] <= 0.693\\nentropy = 0.231\\nsamples = 213\\nvalue = [205, 8]'),\n",
       " Text(0.20710659898477157, 0.5909090909090909, 'X[2] <= 12.866\\nentropy = 0.119\\nsamples = 124\\nvalue = [122, 2]'),\n",
       " Text(0.2050761421319797, 0.5, 'entropy = 0.0\\nsamples = 50\\nvalue = [50, 0]'),\n",
       " Text(0.20913705583756345, 0.5, 'X[7] <= 0.269\\nentropy = 0.179\\nsamples = 74\\nvalue = [72, 2]'),\n",
       " Text(0.2050761421319797, 0.4090909090909091, 'X[2] <= 21.824\\nentropy = 0.503\\nsamples = 9\\nvalue = [8, 1]'),\n",
       " Text(0.20304568527918782, 0.3181818181818182, 'entropy = 0.0\\nsamples = 8\\nvalue = [8, 0]'),\n",
       " Text(0.20710659898477157, 0.3181818181818182, 'entropy = 0.0\\nsamples = 1\\nvalue = [0, 1]'),\n",
       " Text(0.2131979695431472, 0.4090909090909091, 'X[4] <= 27.563\\nentropy = 0.115\\nsamples = 65\\nvalue = [64, 1]'),\n",
       " Text(0.21116751269035533, 0.3181818181818182, 'entropy = 0.0\\nsamples = 55\\nvalue = [55, 0]'),\n",
       " Text(0.2152284263959391, 0.3181818181818182, 'X[3] <= 32.649\\nentropy = 0.469\\nsamples = 10\\nvalue = [9, 1]'),\n",
       " Text(0.2131979695431472, 0.22727272727272727, 'X[7] <= 0.294\\nentropy = 0.811\\nsamples = 4\\nvalue = [3, 1]'),\n",
       " Text(0.21116751269035533, 0.13636363636363635, 'entropy = 0.0\\nsamples = 2\\nvalue = [2, 0]'),\n",
       " Text(0.2152284263959391, 0.13636363636363635, 'entropy = 1.0\\nsamples = 2\\nvalue = [1, 1]'),\n",
       " Text(0.21725888324873097, 0.22727272727272727, 'entropy = 0.0\\nsamples = 6\\nvalue = [6, 0]'),\n",
       " Text(0.2263959390862944, 0.5909090909090909, 'X[1] <= 4.101\\nentropy = 0.356\\nsamples = 89\\nvalue = [83, 6]'),\n",
       " Text(0.22436548223350253, 0.5, 'entropy = 0.0\\nsamples = 32\\nvalue = [32, 0]'),\n",
       " Text(0.22842639593908629, 0.5, 'X[7] <= 0.285\\nentropy = 0.485\\nsamples = 57\\nvalue = [51, 6]'),\n",
       " Text(0.22131979695431472, 0.4090909090909091, 'X[4] <= 15.027\\nentropy = 0.811\\nsamples = 12\\nvalue = [9, 3]'),\n",
       " Text(0.21928934010152284, 0.3181818181818182, 'entropy = 0.0\\nsamples = 6\\nvalue = [6, 0]'),\n",
       " Text(0.2233502538071066, 0.3181818181818182, 'X[1] <= 6.059\\nentropy = 1.0\\nsamples = 6\\nvalue = [3, 3]'),\n",
       " Text(0.22131979695431472, 0.22727272727272727, 'entropy = 0.0\\nsamples = 1\\nvalue = [1, 0]'),\n",
       " Text(0.22538071065989848, 0.22727272727272727, 'X[7] <= 0.093\\nentropy = 0.971\\nsamples = 5\\nvalue = [2, 3]'),\n",
       " Text(0.2233502538071066, 0.13636363636363635, 'X[3] <= 12.811\\nentropy = 0.918\\nsamples = 3\\nvalue = [2, 1]'),\n",
       " Text(0.22131979695431472, 0.045454545454545456, 'entropy = 0.0\\nsamples = 1\\nvalue = [0, 1]'),\n",
       " Text(0.22538071065989848, 0.045454545454545456, 'entropy = 0.0\\nsamples = 2\\nvalue = [2, 0]'),\n",
       " Text(0.22741116751269036, 0.13636363636363635, 'entropy = 0.0\\nsamples = 2\\nvalue = [0, 2]'),\n",
       " Text(0.23553299492385787, 0.4090909090909091, 'X[6] <= 0.344\\nentropy = 0.353\\nsamples = 45\\nvalue = [42, 3]'),\n",
       " Text(0.23147208121827412, 0.3181818181818182, 'X[3] <= 32.355\\nentropy = 0.297\\nsamples = 38\\nvalue = [36, 2]'),\n",
       " Text(0.22944162436548224, 0.22727272727272727, 'entropy = 0.0\\nsamples = 21\\nvalue = [21, 0]'),\n",
       " Text(0.233502538071066, 0.22727272727272727, 'X[4] <= 25.968\\nentropy = 0.523\\nsamples = 17\\nvalue = [15, 2]'),\n",
       " Text(0.23147208121827412, 0.13636363636363635, 'X[2] <= 11.965\\nentropy = 0.353\\nsamples = 15\\nvalue = [14, 1]'),\n",
       " Text(0.22944162436548224, 0.045454545454545456, 'entropy = 0.0\\nsamples = 4\\nvalue = [4, 0]'),\n",
       " Text(0.233502538071066, 0.045454545454545456, 'entropy = 0.439\\nsamples = 11\\nvalue = [10, 1]'),\n",
       " Text(0.23553299492385787, 0.13636363636363635, 'entropy = 1.0\\nsamples = 2\\nvalue = [1, 1]'),\n",
       " Text(0.23959390862944163, 0.3181818181818182, 'X[3] <= 20.907\\nentropy = 0.592\\nsamples = 7\\nvalue = [6, 1]'),\n",
       " Text(0.23756345177664975, 0.22727272727272727, 'entropy = 1.0\\nsamples = 2\\nvalue = [1, 1]'),\n",
       " Text(0.2416243654822335, 0.22727272727272727, 'entropy = 0.0\\nsamples = 5\\nvalue = [5, 0]'),\n",
       " Text(0.3513959390862944, 0.7727272727272727, 'X[7] <= 0.306\\nentropy = 0.637\\nsamples = 1379\\nvalue = [1157, 222]'),\n",
       " Text(0.29911167512690356, 0.6818181818181818, 'X[7] <= 0.246\\nentropy = 0.928\\nsamples = 396\\nvalue = [260, 136]'),\n",
       " Text(0.2730964467005076, 0.5909090909090909, 'X[0] <= 10.558\\nentropy = 0.797\\nsamples = 261\\nvalue = [198, 63]'),\n",
       " Text(0.26192893401015227, 0.5, 'X[3] <= 53.478\\nentropy = 0.864\\nsamples = 206\\nvalue = [147, 59]'),\n",
       " Text(0.2517766497461929, 0.4090909090909091, 'X[1] <= 3.972\\nentropy = 0.891\\nsamples = 185\\nvalue = [128, 57]'),\n",
       " Text(0.24974619289340103, 0.3181818181818182, 'entropy = 0.0\\nsamples = 7\\nvalue = [7, 0]'),\n",
       " Text(0.25380710659898476, 0.3181818181818182, 'X[0] <= 5.329\\nentropy = 0.905\\nsamples = 178\\nvalue = [121, 57]'),\n",
       " Text(0.24568527918781727, 0.22727272727272727, 'X[4] <= 17.527\\nentropy = 0.806\\nsamples = 77\\nvalue = [58, 19]'),\n",
       " Text(0.2416243654822335, 0.13636363636363635, 'X[7] <= 0.052\\nentropy = 0.918\\nsamples = 45\\nvalue = [30, 15]'),\n",
       " Text(0.23959390862944163, 0.045454545454545456, 'entropy = 0.811\\nsamples = 4\\nvalue = [1, 3]'),\n",
       " Text(0.2436548223350254, 0.045454545454545456, 'entropy = 0.872\\nsamples = 41\\nvalue = [29, 12]'),\n",
       " Text(0.24974619289340103, 0.13636363636363635, 'X[2] <= 18.303\\nentropy = 0.544\\nsamples = 32\\nvalue = [28, 4]'),\n",
       " Text(0.24771573604060915, 0.045454545454545456, 'entropy = 0.362\\nsamples = 29\\nvalue = [27, 2]'),\n",
       " Text(0.2517766497461929, 0.045454545454545456, 'entropy = 0.918\\nsamples = 3\\nvalue = [1, 2]'),\n",
       " Text(0.26192893401015227, 0.22727272727272727, 'X[7] <= 0.115\\nentropy = 0.955\\nsamples = 101\\nvalue = [63, 38]'),\n",
       " Text(0.2578680203045685, 0.13636363636363635, 'X[7] <= 0.034\\nentropy = 0.883\\nsamples = 73\\nvalue = [51, 22]'),\n",
       " Text(0.25583756345177666, 0.045454545454545456, 'entropy = 0.985\\nsamples = 14\\nvalue = [6, 8]'),\n",
       " Text(0.2598984771573604, 0.045454545454545456, 'entropy = 0.791\\nsamples = 59\\nvalue = [45, 14]'),\n",
       " Text(0.265989847715736, 0.13636363636363635, 'X[0] <= 9.32\\nentropy = 0.985\\nsamples = 28\\nvalue = [12, 16]'),\n",
       " Text(0.2639593908629442, 0.045454545454545456, 'entropy = 0.954\\nsamples = 24\\nvalue = [9, 15]'),\n",
       " Text(0.26802030456852793, 0.045454545454545456, 'entropy = 0.811\\nsamples = 4\\nvalue = [3, 1]'),\n",
       " Text(0.2720812182741117, 0.4090909090909091, 'X[6] <= 0.272\\nentropy = 0.454\\nsamples = 21\\nvalue = [19, 2]'),\n",
       " Text(0.2700507614213198, 0.3181818181818182, 'entropy = 0.0\\nsamples = 1\\nvalue = [0, 1]'),\n",
       " Text(0.27411167512690354, 0.3181818181818182, 'X[5] <= 6.061\\nentropy = 0.286\\nsamples = 20\\nvalue = [19, 1]'),\n",
       " Text(0.2720812182741117, 0.22727272727272727, 'X[2] <= 12.893\\nentropy = 0.722\\nsamples = 5\\nvalue = [4, 1]'),\n",
       " Text(0.2700507614213198, 0.13636363636363635, 'entropy = 0.0\\nsamples = 3\\nvalue = [3, 0]'),\n",
       " Text(0.27411167512690354, 0.13636363636363635, 'entropy = 1.0\\nsamples = 2\\nvalue = [1, 1]'),\n",
       " Text(0.27614213197969545, 0.22727272727272727, 'entropy = 0.0\\nsamples = 15\\nvalue = [15, 0]'),\n",
       " Text(0.28426395939086296, 0.5, 'X[1] <= 6.094\\nentropy = 0.376\\nsamples = 55\\nvalue = [51, 4]'),\n",
       " Text(0.28223350253807106, 0.4090909090909091, 'entropy = 0.0\\nsamples = 20\\nvalue = [20, 0]'),\n",
       " Text(0.2862944162436548, 0.4090909090909091, 'X[4] <= 22.74\\nentropy = 0.513\\nsamples = 35\\nvalue = [31, 4]'),\n",
       " Text(0.28223350253807106, 0.3181818181818182, 'X[1] <= 8.716\\nentropy = 0.258\\nsamples = 23\\nvalue = [22, 1]'),\n",
       " Text(0.2802030456852792, 0.22727272727272727, 'X[2] <= 8.73\\nentropy = 0.918\\nsamples = 3\\nvalue = [2, 1]'),\n",
       " Text(0.2781725888324873, 0.13636363636363635, 'entropy = 0.0\\nsamples = 1\\nvalue = [0, 1]'),\n",
       " Text(0.28223350253807106, 0.13636363636363635, 'entropy = 0.0\\nsamples = 2\\nvalue = [2, 0]'),\n",
       " Text(0.28426395939086296, 0.22727272727272727, 'entropy = 0.0\\nsamples = 20\\nvalue = [20, 0]'),\n",
       " Text(0.29035532994923857, 0.3181818181818182, 'X[1] <= 9.652\\nentropy = 0.811\\nsamples = 12\\nvalue = [9, 3]'),\n",
       " Text(0.2883248730964467, 0.22727272727272727, 'entropy = 0.0\\nsamples = 1\\nvalue = [0, 1]'),\n",
       " Text(0.2923857868020305, 0.22727272727272727, 'X[4] <= 30.249\\nentropy = 0.684\\nsamples = 11\\nvalue = [9, 2]'),\n",
       " Text(0.29035532994923857, 0.13636363636363635, 'X[2] <= 17.664\\nentropy = 0.469\\nsamples = 10\\nvalue = [9, 1]'),\n",
       " Text(0.2883248730964467, 0.045454545454545456, 'entropy = 0.722\\nsamples = 5\\nvalue = [4, 1]'),\n",
       " Text(0.2923857868020305, 0.045454545454545456, 'entropy = 0.0\\nsamples = 5\\nvalue = [5, 0]'),\n",
       " Text(0.29441624365482233, 0.13636363636363635, 'entropy = 0.0\\nsamples = 1\\nvalue = [0, 1]'),\n",
       " Text(0.3251269035532995, 0.5909090909090909, 'X[0] <= 14.842\\nentropy = 0.995\\nsamples = 135\\nvalue = [62, 73]'),\n",
       " Text(0.316243654822335, 0.5, 'X[0] <= 6.278\\nentropy = 0.974\\nsamples = 121\\nvalue = [49, 72]'),\n",
       " Text(0.30456852791878175, 0.4090909090909091, 'X[5] <= 5.57\\nentropy = 1.0\\nsamples = 63\\nvalue = [32, 31]'),\n",
       " Text(0.2984771573604061, 0.3181818181818182, 'X[6] <= 0.181\\nentropy = 0.779\\nsamples = 13\\nvalue = [3, 10]'),\n",
       " Text(0.29644670050761424, 0.22727272727272727, 'entropy = 0.0\\nsamples = 2\\nvalue = [2, 0]'),\n",
       " Text(0.300507614213198, 0.22727272727272727, 'X[4] <= 21.963\\nentropy = 0.439\\nsamples = 11\\nvalue = [1, 10]'),\n",
       " Text(0.2984771573604061, 0.13636363636363635, 'entropy = 0.0\\nsamples = 8\\nvalue = [0, 8]'),\n",
       " Text(0.30253807106598984, 0.13636363636363635, 'X[2] <= 10.731\\nentropy = 0.918\\nsamples = 3\\nvalue = [1, 2]'),\n",
       " Text(0.300507614213198, 0.045454545454545456, 'entropy = 1.0\\nsamples = 2\\nvalue = [1, 1]'),\n",
       " Text(0.30456852791878175, 0.045454545454545456, 'entropy = 0.0\\nsamples = 1\\nvalue = [0, 1]'),\n",
       " Text(0.31065989847715736, 0.3181818181818182, 'X[2] <= 6.389\\nentropy = 0.981\\nsamples = 50\\nvalue = [29, 21]'),\n",
       " Text(0.3086294416243655, 0.22727272727272727, 'entropy = 0.0\\nsamples = 2\\nvalue = [2, 0]'),\n",
       " Text(0.31269035532994927, 0.22727272727272727, 'X[1] <= 11.514\\nentropy = 0.989\\nsamples = 48\\nvalue = [27, 21]'),\n",
       " Text(0.31065989847715736, 0.13636363636363635, 'X[4] <= 5.784\\nentropy = 1.0\\nsamples = 42\\nvalue = [21, 21]'),\n",
       " Text(0.3086294416243655, 0.045454545454545456, 'entropy = 0.0\\nsamples = 5\\nvalue = [5, 0]'),\n",
       " Text(0.31269035532994927, 0.045454545454545456, 'entropy = 0.987\\nsamples = 37\\nvalue = [16, 21]'),\n",
       " Text(0.3147208121827411, 0.13636363636363635, 'entropy = 0.0\\nsamples = 6\\nvalue = [6, 0]'),\n",
       " Text(0.32791878172588834, 0.4090909090909091, 'X[4] <= 17.842\\nentropy = 0.873\\nsamples = 58\\nvalue = [17, 41]'),\n",
       " Text(0.3208121827411167, 0.3181818181818182, 'X[6] <= 0.292\\nentropy = 0.732\\nsamples = 39\\nvalue = [8, 31]'),\n",
       " Text(0.3187817258883249, 0.22727272727272727, 'entropy = 0.0\\nsamples = 6\\nvalue = [0, 6]'),\n",
       " Text(0.32284263959390863, 0.22727272727272727, 'X[5] <= 8.315\\nentropy = 0.799\\nsamples = 33\\nvalue = [8, 25]'),\n",
       " Text(0.3187817258883249, 0.13636363636363635, 'X[3] <= 18.701\\nentropy = 0.934\\nsamples = 20\\nvalue = [7, 13]'),\n",
       " Text(0.31675126903553297, 0.045454545454545456, 'entropy = 0.971\\nsamples = 5\\nvalue = [3, 2]'),\n",
       " Text(0.3208121827411167, 0.045454545454545456, 'entropy = 0.837\\nsamples = 15\\nvalue = [4, 11]'),\n",
       " Text(0.3269035532994924, 0.13636363636363635, 'X[1] <= 3.294\\nentropy = 0.391\\nsamples = 13\\nvalue = [1, 12]'),\n",
       " Text(0.3248730964467005, 0.045454545454545456, 'entropy = 0.811\\nsamples = 4\\nvalue = [1, 3]'),\n",
       " Text(0.32893401015228424, 0.045454545454545456, 'entropy = 0.0\\nsamples = 9\\nvalue = [0, 9]'),\n",
       " Text(0.3350253807106599, 0.3181818181818182, 'X[4] <= 21.291\\nentropy = 0.998\\nsamples = 19\\nvalue = [9, 10]'),\n",
       " Text(0.332994923857868, 0.22727272727272727, 'entropy = 0.0\\nsamples = 3\\nvalue = [3, 0]'),\n",
       " Text(0.33705583756345175, 0.22727272727272727, 'X[2] <= 17.971\\nentropy = 0.954\\nsamples = 16\\nvalue = [6, 10]'),\n",
       " Text(0.3350253807106599, 0.13636363636363635, 'X[6] <= 0.345\\nentropy = 0.918\\nsamples = 15\\nvalue = [5, 10]'),\n",
       " Text(0.332994923857868, 0.045454545454545456, 'entropy = 0.0\\nsamples = 3\\nvalue = [0, 3]'),\n",
       " Text(0.33705583756345175, 0.045454545454545456, 'entropy = 0.98\\nsamples = 12\\nvalue = [5, 7]'),\n",
       " Text(0.33908629441624366, 0.13636363636363635, 'entropy = 0.0\\nsamples = 1\\nvalue = [1, 0]'),\n",
       " Text(0.33401015228426395, 0.5, 'X[3] <= 55.295\\nentropy = 0.371\\nsamples = 14\\nvalue = [13, 1]'),\n",
       " Text(0.3319796954314721, 0.4090909090909091, 'entropy = 0.0\\nsamples = 13\\nvalue = [13, 0]'),\n",
       " Text(0.33604060913705586, 0.4090909090909091, 'entropy = 0.0\\nsamples = 1\\nvalue = [0, 1]'),\n",
       " Text(0.4036802030456853, 0.6818181818181818, 'X[1] <= 9.582\\nentropy = 0.428\\nsamples = 983\\nvalue = [897, 86]'),\n",
       " Text(0.3738578680203046, 0.5909090909090909, 'X[0] <= 14.536\\nentropy = 0.323\\nsamples = 696\\nvalue = [655, 41]'),\n",
       " Text(0.35431472081218274, 0.5, 'X[1] <= 8.507\\nentropy = 0.706\\nsamples = 104\\nvalue = [84, 20]'),\n",
       " Text(0.350253807106599, 0.4090909090909091, 'X[3] <= 13.73\\nentropy = 0.617\\nsamples = 98\\nvalue = [83, 15]'),\n",
       " Text(0.34822335025380713, 0.3181818181818182, 'entropy = 0.0\\nsamples = 30\\nvalue = [30, 0]'),\n",
       " Text(0.3522842639593909, 0.3181818181818182, 'X[0] <= 9.608\\nentropy = 0.761\\nsamples = 68\\nvalue = [53, 15]'),\n",
       " Text(0.3472081218274112, 0.22727272727272727, 'X[0] <= 5.874\\nentropy = 0.668\\nsamples = 63\\nvalue = [52, 11]'),\n",
       " Text(0.3431472081218274, 0.13636363636363635, 'X[3] <= 18.68\\nentropy = 0.503\\nsamples = 36\\nvalue = [32, 4]'),\n",
       " Text(0.3411167512690355, 0.045454545454545456, 'entropy = 0.918\\nsamples = 6\\nvalue = [4, 2]'),\n",
       " Text(0.34517766497461927, 0.045454545454545456, 'entropy = 0.353\\nsamples = 30\\nvalue = [28, 2]'),\n",
       " Text(0.35126903553299493, 0.13636363636363635, 'X[3] <= 56.668\\nentropy = 0.826\\nsamples = 27\\nvalue = [20, 7]'),\n",
       " Text(0.349238578680203, 0.045454545454545456, 'entropy = 0.722\\nsamples = 25\\nvalue = [20, 5]'),\n",
       " Text(0.3532994923857868, 0.045454545454545456, 'entropy = 0.0\\nsamples = 2\\nvalue = [0, 2]'),\n",
       " Text(0.35736040609137054, 0.22727272727272727, 'X[2] <= 10.882\\nentropy = 0.722\\nsamples = 5\\nvalue = [1, 4]'),\n",
       " Text(0.3553299492385787, 0.13636363636363635, 'entropy = 0.0\\nsamples = 1\\nvalue = [0, 1]'),\n",
       " Text(0.35939086294416245, 0.13636363636363635, 'X[2] <= 20.287\\nentropy = 0.811\\nsamples = 4\\nvalue = [1, 3]'),\n",
       " Text(0.35736040609137054, 0.045454545454545456, 'entropy = 0.0\\nsamples = 3\\nvalue = [0, 3]'),\n",
       " Text(0.3614213197969543, 0.045454545454545456, 'entropy = 0.0\\nsamples = 1\\nvalue = [1, 0]'),\n",
       " Text(0.3583756345177665, 0.4090909090909091, 'X[4] <= 23.93\\nentropy = 0.65\\nsamples = 6\\nvalue = [1, 5]'),\n",
       " Text(0.35634517766497464, 0.3181818181818182, 'entropy = 0.0\\nsamples = 5\\nvalue = [0, 5]'),\n",
       " Text(0.3604060913705584, 0.3181818181818182, 'entropy = 0.0\\nsamples = 1\\nvalue = [1, 0]'),\n",
       " Text(0.3934010152284264, 0.5, 'X[1] <= 8.19\\nentropy = 0.221\\nsamples = 592\\nvalue = [571, 21]'),\n",
       " Text(0.3786802030456853, 0.4090909090909091, 'X[4] <= 13.282\\nentropy = 0.186\\nsamples = 529\\nvalue = [514, 15]'),\n",
       " Text(0.3695431472081218, 0.3181818181818182, 'X[1] <= 7.686\\nentropy = 0.124\\nsamples = 235\\nvalue = [231, 4]'),\n",
       " Text(0.36548223350253806, 0.22727272727272727, 'X[5] <= 10.355\\nentropy = 0.1\\nsamples = 231\\nvalue = [228, 3]'),\n",
       " Text(0.3634517766497462, 0.13636363636363635, 'entropy = 0.0\\nsamples = 195\\nvalue = [195, 0]'),\n",
       " Text(0.36751269035532996, 0.13636363636363635, 'X[3] <= 45.181\\nentropy = 0.414\\nsamples = 36\\nvalue = [33, 3]'),\n",
       " Text(0.36548223350253806, 0.045454545454545456, 'entropy = 0.48\\nsamples = 29\\nvalue = [26, 3]'),\n",
       " Text(0.3695431472081218, 0.045454545454545456, 'entropy = 0.0\\nsamples = 7\\nvalue = [7, 0]'),\n",
       " Text(0.37360406091370557, 0.22727272727272727, 'X[5] <= 7.861\\nentropy = 0.811\\nsamples = 4\\nvalue = [3, 1]'),\n",
       " Text(0.3715736040609137, 0.13636363636363635, 'entropy = 0.0\\nsamples = 1\\nvalue = [0, 1]'),\n",
       " Text(0.3756345177664975, 0.13636363636363635, 'entropy = 0.0\\nsamples = 3\\nvalue = [3, 0]'),\n",
       " Text(0.38781725888324875, 0.3181818181818182, 'X[1] <= 4.211\\nentropy = 0.23\\nsamples = 294\\nvalue = [283, 11]'),\n",
       " Text(0.3817258883248731, 0.22727272727272727, 'X[6] <= 0.243\\nentropy = 0.164\\nsamples = 166\\nvalue = [162, 4]'),\n",
       " Text(0.37969543147208124, 0.13636363636363635, 'entropy = 0.0\\nsamples = 19\\nvalue = [19, 0]'),\n",
       " Text(0.383756345177665, 0.13636363636363635, 'X[5] <= 7.786\\nentropy = 0.18\\nsamples = 147\\nvalue = [143, 4]'),\n",
       " Text(0.3817258883248731, 0.045454545454545456, 'entropy = 0.0\\nsamples = 71\\nvalue = [71, 0]'),\n",
       " Text(0.38578680203045684, 0.045454545454545456, 'entropy = 0.297\\nsamples = 76\\nvalue = [72, 4]'),\n",
       " Text(0.39390862944162436, 0.22727272727272727, 'X[1] <= 7.953\\nentropy = 0.306\\nsamples = 128\\nvalue = [121, 7]'),\n",
       " Text(0.3918781725888325, 0.13636363636363635, 'X[1] <= 6.525\\nentropy = 0.12\\nsamples = 123\\nvalue = [121, 2]'),\n",
       " Text(0.3898477157360406, 0.045454545454545456, 'entropy = 0.0\\nsamples = 93\\nvalue = [93, 0]'),\n",
       " Text(0.39390862944162436, 0.045454545454545456, 'entropy = 0.353\\nsamples = 30\\nvalue = [28, 2]'),\n",
       " Text(0.39593908629441626, 0.13636363636363635, 'entropy = 0.0\\nsamples = 5\\nvalue = [0, 5]'),\n",
       " Text(0.40812182741116754, 0.4090909090909091, 'X[2] <= 14.227\\nentropy = 0.454\\nsamples = 63\\nvalue = [57, 6]'),\n",
       " Text(0.40609137055837563, 0.3181818181818182, 'X[4] <= 22.073\\nentropy = 0.474\\nsamples = 59\\nvalue = [53, 6]'),\n",
       " Text(0.4040609137055838, 0.22727272727272727, 'X[3] <= 27.046\\nentropy = 0.619\\nsamples = 39\\nvalue = [33, 6]'),\n",
       " Text(0.4, 0.13636363636363635, 'X[3] <= 21.046\\nentropy = 0.742\\nsamples = 19\\nvalue = [15, 4]'),\n",
       " Text(0.3979695431472081, 0.045454545454545456, 'entropy = 0.544\\nsamples = 16\\nvalue = [14, 2]'),\n",
       " Text(0.4020304568527919, 0.045454545454545456, 'entropy = 0.918\\nsamples = 3\\nvalue = [1, 2]'),\n",
       " Text(0.40812182741116754, 0.13636363636363635, 'X[5] <= 5.699\\nentropy = 0.469\\nsamples = 20\\nvalue = [18, 2]'),\n",
       " Text(0.40609137055837563, 0.045454545454545456, 'entropy = 0.0\\nsamples = 9\\nvalue = [9, 0]'),\n",
       " Text(0.4101522842639594, 0.045454545454545456, 'entropy = 0.684\\nsamples = 11\\nvalue = [9, 2]'),\n",
       " Text(0.40812182741116754, 0.22727272727272727, 'entropy = 0.0\\nsamples = 20\\nvalue = [20, 0]'),\n",
       " Text(0.4101522842639594, 0.3181818181818182, 'entropy = 0.0\\nsamples = 4\\nvalue = [4, 0]'),\n",
       " Text(0.433502538071066, 0.5909090909090909, 'X[1] <= 11.039\\nentropy = 0.627\\nsamples = 287\\nvalue = [242, 45]'),\n",
       " Text(0.43147208121827413, 0.5, 'X[6] <= 0.343\\nentropy = 0.657\\nsamples = 265\\nvalue = [220, 45]'),\n",
       " Text(0.41624365482233505, 0.4090909090909091, 'X[0] <= 14.875\\nentropy = 0.387\\nsamples = 66\\nvalue = [61, 5]'),\n",
       " Text(0.41421319796954315, 0.3181818181818182, 'X[0] <= 4.215\\nentropy = 0.831\\nsamples = 19\\nvalue = [14, 5]'),\n",
       " Text(0.4121827411167513, 0.22727272727272727, 'entropy = 0.0\\nsamples = 7\\nvalue = [7, 0]'),\n",
       " Text(0.41624365482233505, 0.22727272727272727, 'X[4] <= 7.833\\nentropy = 0.98\\nsamples = 12\\nvalue = [7, 5]'),\n",
       " Text(0.41421319796954315, 0.13636363636363635, 'entropy = 0.0\\nsamples = 2\\nvalue = [2, 0]'),\n",
       " Text(0.4182741116751269, 0.13636363636363635, 'X[3] <= 0.378\\nentropy = 1.0\\nsamples = 10\\nvalue = [5, 5]'),\n",
       " Text(0.41624365482233505, 0.045454545454545456, 'entropy = 0.0\\nsamples = 1\\nvalue = [0, 1]'),\n",
       " Text(0.4203045685279188, 0.045454545454545456, 'entropy = 0.991\\nsamples = 9\\nvalue = [5, 4]'),\n",
       " Text(0.4182741116751269, 0.3181818181818182, 'entropy = 0.0\\nsamples = 47\\nvalue = [47, 0]'),\n",
       " Text(0.4467005076142132, 0.4090909090909091, 'X[5] <= 6.636\\nentropy = 0.724\\nsamples = 199\\nvalue = [159, 40]'),\n",
       " Text(0.433502538071066, 0.3181818181818182, 'X[0] <= 14.259\\nentropy = 0.497\\nsamples = 55\\nvalue = [49, 6]'),\n",
       " Text(0.42842639593908627, 0.22727272727272727, 'X[0] <= 4.49\\nentropy = 0.985\\nsamples = 7\\nvalue = [3, 4]'),\n",
       " Text(0.4263959390862944, 0.13636363636363635, 'X[3] <= 34.482\\nentropy = 0.811\\nsamples = 4\\nvalue = [3, 1]'),\n",
       " Text(0.4243654822335025, 0.045454545454545456, 'entropy = 0.0\\nsamples = 3\\nvalue = [3, 0]'),\n",
       " Text(0.42842639593908627, 0.045454545454545456, 'entropy = 0.0\\nsamples = 1\\nvalue = [0, 1]'),\n",
       " Text(0.4304568527918782, 0.13636363636363635, 'entropy = 0.0\\nsamples = 3\\nvalue = [0, 3]'),\n",
       " Text(0.4385786802030457, 0.22727272727272727, 'X[6] <= 0.359\\nentropy = 0.25\\nsamples = 48\\nvalue = [46, 2]'),\n",
       " Text(0.43451776649746193, 0.13636363636363635, 'X[2] <= 14.68\\nentropy = 0.154\\nsamples = 45\\nvalue = [44, 1]'),\n",
       " Text(0.43248730964467, 0.045454545454545456, 'entropy = 0.0\\nsamples = 42\\nvalue = [42, 0]'),\n",
       " Text(0.4365482233502538, 0.045454545454545456, 'entropy = 0.918\\nsamples = 3\\nvalue = [2, 1]'),\n",
       " Text(0.44263959390862945, 0.13636363636363635, 'X[4] <= 23.23\\nentropy = 0.918\\nsamples = 3\\nvalue = [2, 1]'),\n",
       " Text(0.44060913705583754, 0.045454545454545456, 'entropy = 0.0\\nsamples = 1\\nvalue = [1, 0]'),\n",
       " Text(0.4446700507614213, 0.045454545454545456, 'entropy = 1.0\\nsamples = 2\\nvalue = [1, 1]'),\n",
       " Text(0.45989847715736043, 0.3181818181818182, 'X[6] <= 0.355\\nentropy = 0.789\\nsamples = 144\\nvalue = [110, 34]'),\n",
       " Text(0.4548223350253807, 0.22727272727272727, 'X[0] <= 9.183\\nentropy = 0.817\\nsamples = 130\\nvalue = [97, 33]'),\n",
       " Text(0.45076142131979696, 0.13636363636363635, 'X[0] <= 1.483\\nentropy = 0.991\\nsamples = 9\\nvalue = [4, 5]'),\n",
       " Text(0.44873096446700506, 0.045454545454545456, 'entropy = 0.0\\nsamples = 2\\nvalue = [2, 0]'),\n",
       " Text(0.4527918781725888, 0.045454545454545456, 'entropy = 0.863\\nsamples = 7\\nvalue = [2, 5]'),\n",
       " Text(0.4588832487309645, 0.13636363636363635, 'X[4] <= 13.691\\nentropy = 0.78\\nsamples = 121\\nvalue = [93, 28]'),\n",
       " Text(0.45685279187817257, 0.045454545454545456, 'entropy = 0.893\\nsamples = 42\\nvalue = [29, 13]'),\n",
       " Text(0.46091370558375633, 0.045454545454545456, 'entropy = 0.701\\nsamples = 79\\nvalue = [64, 15]'),\n",
       " Text(0.4649746192893401, 0.22727272727272727, 'X[0] <= 7.061\\nentropy = 0.371\\nsamples = 14\\nvalue = [13, 1]'),\n",
       " Text(0.46294416243654823, 0.13636363636363635, 'entropy = 0.0\\nsamples = 9\\nvalue = [9, 0]'),\n",
       " Text(0.467005076142132, 0.13636363636363635, 'X[3] <= 34.738\\nentropy = 0.722\\nsamples = 5\\nvalue = [4, 1]'),\n",
       " Text(0.4649746192893401, 0.045454545454545456, 'entropy = 1.0\\nsamples = 2\\nvalue = [1, 1]'),\n",
       " Text(0.46903553299492384, 0.045454545454545456, 'entropy = 0.0\\nsamples = 3\\nvalue = [3, 0]'),\n",
       " Text(0.4355329949238579, 0.5, 'entropy = 0.0\\nsamples = 22\\nvalue = [22, 0]'),\n",
       " Text(0.6458439086294416, 0.8636363636363636, 'X[6] <= 0.094\\nentropy = 1.0\\nsamples = 2784\\nvalue = [1407, 1377]'),\n",
       " Text(0.5078680203045686, 0.7727272727272727, 'X[12] <= 0.853\\nentropy = 0.568\\nsamples = 157\\nvalue = [21, 136]'),\n",
       " Text(0.49898477157360405, 0.6818181818181818, 'X[5] <= 8.622\\nentropy = 0.489\\nsamples = 141\\nvalue = [15, 126]'),\n",
       " Text(0.4969543147208122, 0.5909090909090909, 'X[5] <= 5.68\\nentropy = 0.552\\nsamples = 117\\nvalue = [15, 102]'),\n",
       " Text(0.4873096446700508, 0.5, 'X[4] <= 23.29\\nentropy = 0.73\\nsamples = 49\\nvalue = [10, 39]'),\n",
       " Text(0.483248730964467, 0.4090909090909091, 'X[2] <= 19.914\\nentropy = 0.881\\nsamples = 30\\nvalue = [9, 21]'),\n",
       " Text(0.4812182741116751, 0.3181818181818182, 'X[2] <= 17.776\\nentropy = 0.894\\nsamples = 29\\nvalue = [9, 20]'),\n",
       " Text(0.47918781725888326, 0.22727272727272727, 'X[2] <= 14.735\\nentropy = 0.826\\nsamples = 27\\nvalue = [7, 20]'),\n",
       " Text(0.4751269035532995, 0.13636363636363635, 'X[3] <= 51.621\\nentropy = 0.954\\nsamples = 16\\nvalue = [6, 10]'),\n",
       " Text(0.4730964467005076, 0.045454545454545456, 'entropy = 0.985\\nsamples = 14\\nvalue = [6, 8]'),\n",
       " Text(0.47715736040609136, 0.045454545454545456, 'entropy = 0.0\\nsamples = 2\\nvalue = [0, 2]'),\n",
       " Text(0.483248730964467, 0.13636363636363635, 'X[4] <= 4.129\\nentropy = 0.439\\nsamples = 11\\nvalue = [1, 10]'),\n",
       " Text(0.4812182741116751, 0.045454545454545456, 'entropy = 0.918\\nsamples = 3\\nvalue = [1, 2]'),\n",
       " Text(0.4852791878172589, 0.045454545454545456, 'entropy = 0.0\\nsamples = 8\\nvalue = [0, 8]'),\n",
       " Text(0.483248730964467, 0.22727272727272727, 'entropy = 0.0\\nsamples = 2\\nvalue = [2, 0]'),\n",
       " Text(0.4852791878172589, 0.3181818181818182, 'entropy = 0.0\\nsamples = 1\\nvalue = [0, 1]'),\n",
       " Text(0.49137055837563454, 0.4090909090909091, 'X[10] <= 0.976\\nentropy = 0.297\\nsamples = 19\\nvalue = [1, 18]'),\n",
       " Text(0.48934010152284263, 0.3181818181818182, 'entropy = 0.0\\nsamples = 14\\nvalue = [0, 14]'),\n",
       " Text(0.4934010152284264, 0.3181818181818182, 'X[4] <= 28.26\\nentropy = 0.722\\nsamples = 5\\nvalue = [1, 4]'),\n",
       " Text(0.49137055837563454, 0.22727272727272727, 'entropy = 0.0\\nsamples = 3\\nvalue = [0, 3]'),\n",
       " Text(0.4954314720812183, 0.22727272727272727, 'entropy = 1.0\\nsamples = 2\\nvalue = [1, 1]'),\n",
       " Text(0.5065989847715736, 0.5, 'X[6] <= 0.007\\nentropy = 0.379\\nsamples = 68\\nvalue = [5, 63]'),\n",
       " Text(0.49949238578680205, 0.4090909090909091, 'X[3] <= 19.621\\nentropy = 0.971\\nsamples = 5\\nvalue = [2, 3]'),\n",
       " Text(0.49746192893401014, 0.3181818181818182, 'entropy = 0.0\\nsamples = 2\\nvalue = [0, 2]'),\n",
       " Text(0.5015228426395939, 0.3181818181818182, 'X[2] <= 15.046\\nentropy = 0.918\\nsamples = 3\\nvalue = [2, 1]'),\n",
       " Text(0.49949238578680205, 0.22727272727272727, 'entropy = 0.0\\nsamples = 2\\nvalue = [2, 0]'),\n",
       " Text(0.5035532994923858, 0.22727272727272727, 'entropy = 0.0\\nsamples = 1\\nvalue = [0, 1]'),\n",
       " Text(0.5137055837563452, 0.4090909090909091, 'X[1] <= 5.697\\nentropy = 0.276\\nsamples = 63\\nvalue = [3, 60]'),\n",
       " Text(0.5116751269035533, 0.3181818181818182, 'X[1] <= 2.753\\nentropy = 0.491\\nsamples = 28\\nvalue = [3, 25]'),\n",
       " Text(0.5076142131979695, 0.22727272727272727, 'X[4] <= 2.634\\nentropy = 0.971\\nsamples = 5\\nvalue = [2, 3]'),\n",
       " Text(0.5055837563451777, 0.13636363636363635, 'entropy = 0.0\\nsamples = 1\\nvalue = [1, 0]'),\n",
       " Text(0.5096446700507614, 0.13636363636363635, 'X[7] <= 0.319\\nentropy = 0.811\\nsamples = 4\\nvalue = [1, 3]'),\n",
       " Text(0.5076142131979695, 0.045454545454545456, 'entropy = 0.0\\nsamples = 3\\nvalue = [0, 3]'),\n",
       " Text(0.5116751269035533, 0.045454545454545456, 'entropy = 0.0\\nsamples = 1\\nvalue = [1, 0]'),\n",
       " Text(0.515736040609137, 0.22727272727272727, 'X[2] <= 11.096\\nentropy = 0.258\\nsamples = 23\\nvalue = [1, 22]'),\n",
       " Text(0.5137055837563452, 0.13636363636363635, 'entropy = 1.0\\nsamples = 2\\nvalue = [1, 1]'),\n",
       " Text(0.5177664974619289, 0.13636363636363635, 'entropy = 0.0\\nsamples = 21\\nvalue = [0, 21]'),\n",
       " Text(0.515736040609137, 0.3181818181818182, 'entropy = 0.0\\nsamples = 35\\nvalue = [0, 35]'),\n",
       " Text(0.5010152284263959, 0.5909090909090909, 'entropy = 0.0\\nsamples = 24\\nvalue = [0, 24]'),\n",
       " Text(0.516751269035533, 0.6818181818181818, 'X[6] <= 0.023\\nentropy = 0.954\\nsamples = 16\\nvalue = [6, 10]'),\n",
       " Text(0.5126903553299492, 0.5909090909090909, 'X[2] <= 19.531\\nentropy = 0.722\\nsamples = 5\\nvalue = [4, 1]'),\n",
       " Text(0.5106598984771573, 0.5, 'entropy = 0.0\\nsamples = 4\\nvalue = [4, 0]'),\n",
       " Text(0.5147208121827411, 0.5, 'entropy = 0.0\\nsamples = 1\\nvalue = [0, 1]'),\n",
       " Text(0.5208121827411167, 0.5909090909090909, 'X[7] <= 0.158\\nentropy = 0.684\\nsamples = 11\\nvalue = [2, 9]'),\n",
       " Text(0.5187817258883248, 0.5, 'entropy = 0.0\\nsamples = 6\\nvalue = [0, 6]'),\n",
       " Text(0.5228426395939086, 0.5, 'X[1] <= 2.498\\nentropy = 0.971\\nsamples = 5\\nvalue = [2, 3]'),\n",
       " Text(0.5208121827411167, 0.4090909090909091, 'entropy = 0.0\\nsamples = 1\\nvalue = [0, 1]'),\n",
       " Text(0.5248730964467005, 0.4090909090909091, 'X[1] <= 11.709\\nentropy = 1.0\\nsamples = 4\\nvalue = [2, 2]'),\n",
       " Text(0.5228426395939086, 0.3181818181818182, 'entropy = 0.0\\nsamples = 1\\nvalue = [0, 1]'),\n",
       " Text(0.5269035532994923, 0.3181818181818182, 'X[0] <= 19.961\\nentropy = 0.918\\nsamples = 3\\nvalue = [2, 1]'),\n",
       " Text(0.5248730964467005, 0.22727272727272727, 'entropy = 0.0\\nsamples = 2\\nvalue = [2, 0]'),\n",
       " Text(0.5289340101522843, 0.22727272727272727, 'entropy = 0.0\\nsamples = 1\\nvalue = [0, 1]'),\n",
       " Text(0.7838197969543147, 0.7727272727272727, 'X[5] <= 8.42\\nentropy = 0.998\\nsamples = 2627\\nvalue = [1386, 1241]'),\n",
       " Text(0.6737309644670051, 0.6818181818181818, 'X[7] <= 0.332\\nentropy = 0.984\\nsamples = 1693\\nvalue = [974, 719]'),\n",
       " Text(0.6078680203045685, 0.5909090909090909, 'X[1] <= 7.409\\nentropy = 0.994\\nsamples = 1367\\nvalue = [747, 620]'),\n",
       " Text(0.5626903553299493, 0.5, 'X[7] <= 0.247\\nentropy = 0.981\\nsamples = 891\\nvalue = [517, 374]'),\n",
       " Text(0.5390862944162437, 0.4090909090909091, 'X[5] <= 4.781\\nentropy = 0.947\\nsamples = 545\\nvalue = [346, 199]'),\n",
       " Text(0.5370558375634518, 0.3181818181818182, 'entropy = 0.0\\nsamples = 7\\nvalue = [7, 0]'),\n",
       " Text(0.5411167512690356, 0.3181818181818182, 'X[0] <= 19.742\\nentropy = 0.951\\nsamples = 538\\nvalue = [339, 199]'),\n",
       " Text(0.5329949238578681, 0.22727272727272727, 'X[12] <= 0.683\\nentropy = 0.918\\nsamples = 408\\nvalue = [272, 136]'),\n",
       " Text(0.5289340101522843, 0.13636363636363635, 'X[3] <= 46.922\\nentropy = 0.965\\nsamples = 249\\nvalue = [152, 97]'),\n",
       " Text(0.5269035532994923, 0.045454545454545456, 'entropy = 0.977\\nsamples = 202\\nvalue = [119, 83]'),\n",
       " Text(0.5309644670050762, 0.045454545454545456, 'entropy = 0.879\\nsamples = 47\\nvalue = [33, 14]'),\n",
       " Text(0.5370558375634518, 0.13636363636363635, 'X[5] <= 7.88\\nentropy = 0.804\\nsamples = 159\\nvalue = [120, 39]'),\n",
       " Text(0.5350253807106599, 0.045454545454545456, 'entropy = 0.643\\nsamples = 110\\nvalue = [92, 18]'),\n",
       " Text(0.5390862944162437, 0.045454545454545456, 'entropy = 0.985\\nsamples = 49\\nvalue = [28, 21]'),\n",
       " Text(0.5492385786802031, 0.22727272727272727, 'X[0] <= 22.655\\nentropy = 0.999\\nsamples = 130\\nvalue = [67, 63]'),\n",
       " Text(0.5451776649746193, 0.13636363636363635, 'X[4] <= 20.027\\nentropy = 0.722\\nsamples = 10\\nvalue = [2, 8]'),\n",
       " Text(0.5431472081218274, 0.045454545454545456, 'entropy = 0.863\\nsamples = 7\\nvalue = [2, 5]'),\n",
       " Text(0.5472081218274112, 0.045454545454545456, 'entropy = 0.0\\nsamples = 3\\nvalue = [0, 3]'),\n",
       " Text(0.5532994923857868, 0.13636363636363635, 'X[6] <= 0.242\\nentropy = 0.995\\nsamples = 120\\nvalue = [65, 55]'),\n",
       " Text(0.5512690355329949, 0.045454545454545456, 'entropy = 0.937\\nsamples = 34\\nvalue = [22, 12]'),\n",
       " Text(0.5553299492385787, 0.045454545454545456, 'entropy = 1.0\\nsamples = 86\\nvalue = [43, 43]'),\n",
       " Text(0.5862944162436549, 0.4090909090909091, 'X[1] <= 2.809\\nentropy = 1.0\\nsamples = 346\\nvalue = [171, 175]'),\n",
       " Text(0.5736040609137056, 0.3181818181818182, 'X[5] <= 6.118\\nentropy = 0.961\\nsamples = 91\\nvalue = [35, 56]'),\n",
       " Text(0.5654822335025381, 0.22727272727272727, 'X[5] <= 5.1\\nentropy = 1.0\\nsamples = 54\\nvalue = [27, 27]'),\n",
       " Text(0.5614213197969543, 0.13636363636363635, 'X[8] <= 0.459\\nentropy = 0.944\\nsamples = 36\\nvalue = [23, 13]'),\n",
       " Text(0.5593908629441624, 0.045454545454545456, 'entropy = 0.0\\nsamples = 2\\nvalue = [2, 0]'),\n",
       " Text(0.5634517766497462, 0.045454545454545456, 'entropy = 0.96\\nsamples = 34\\nvalue = [21, 13]'),\n",
       " Text(0.5695431472081218, 0.13636363636363635, 'X[6] <= 0.247\\nentropy = 0.764\\nsamples = 18\\nvalue = [4, 14]'),\n",
       " Text(0.5675126903553299, 0.045454545454545456, 'entropy = 0.811\\nsamples = 4\\nvalue = [3, 1]'),\n",
       " Text(0.5715736040609137, 0.045454545454545456, 'entropy = 0.371\\nsamples = 14\\nvalue = [1, 13]'),\n",
       " Text(0.581725888324873, 0.22727272727272727, 'X[5] <= 7.38\\nentropy = 0.753\\nsamples = 37\\nvalue = [8, 29]'),\n",
       " Text(0.5776649746192893, 0.13636363636363635, 'X[6] <= 0.352\\nentropy = 0.881\\nsamples = 20\\nvalue = [6, 14]'),\n",
       " Text(0.5756345177664974, 0.045454545454545456, 'entropy = 0.592\\nsamples = 7\\nvalue = [1, 6]'),\n",
       " Text(0.5796954314720812, 0.045454545454545456, 'entropy = 0.961\\nsamples = 13\\nvalue = [5, 8]'),\n",
       " Text(0.5857868020304569, 0.13636363636363635, 'X[3] <= 9.971\\nentropy = 0.523\\nsamples = 17\\nvalue = [2, 15]'),\n",
       " Text(0.583756345177665, 0.045454545454545456, 'entropy = 0.918\\nsamples = 3\\nvalue = [1, 2]'),\n",
       " Text(0.5878172588832488, 0.045454545454545456, 'entropy = 0.371\\nsamples = 14\\nvalue = [1, 13]'),\n",
       " Text(0.5989847715736041, 0.3181818181818182, 'X[1] <= 3.004\\nentropy = 0.997\\nsamples = 255\\nvalue = [136, 119]'),\n",
       " Text(0.5918781725888325, 0.22727272727272727, 'X[2] <= 7.312\\nentropy = 0.955\\nsamples = 101\\nvalue = [63, 38]'),\n",
       " Text(0.5898477157360406, 0.13636363636363635, 'entropy = 0.0\\nsamples = 4\\nvalue = [4, 0]'),\n",
       " Text(0.5939086294416244, 0.13636363636363635, 'X[5] <= 5.311\\nentropy = 0.966\\nsamples = 97\\nvalue = [59, 38]'),\n",
       " Text(0.5918781725888325, 0.045454545454545456, 'entropy = 0.868\\nsamples = 38\\nvalue = [27, 11]'),\n",
       " Text(0.5959390862944163, 0.045454545454545456, 'entropy = 0.995\\nsamples = 59\\nvalue = [32, 27]'),\n",
       " Text(0.6060913705583756, 0.22727272727272727, 'X[1] <= 4.474\\nentropy = 0.998\\nsamples = 154\\nvalue = [73, 81]'),\n",
       " Text(0.6020304568527919, 0.13636363636363635, 'X[12] <= 0.467\\nentropy = 0.918\\nsamples = 36\\nvalue = [12, 24]'),\n",
       " Text(0.6, 0.045454545454545456, 'entropy = 0.855\\nsamples = 25\\nvalue = [7, 18]'),\n",
       " Text(0.6040609137055838, 0.045454545454545456, 'entropy = 0.994\\nsamples = 11\\nvalue = [5, 6]'),\n",
       " Text(0.6101522842639594, 0.13636363636363635, 'X[5] <= 5.067\\nentropy = 0.999\\nsamples = 118\\nvalue = [61, 57]'),\n",
       " Text(0.6081218274111675, 0.045454545454545456, 'entropy = 0.902\\nsamples = 22\\nvalue = [15, 7]'),\n",
       " Text(0.6121827411167513, 0.045454545454545456, 'entropy = 0.999\\nsamples = 96\\nvalue = [46, 50]'),\n",
       " Text(0.6530456852791878, 0.5, 'X[1] <= 9.174\\nentropy = 0.999\\nsamples = 476\\nvalue = [230, 246]'),\n",
       " Text(0.6294416243654822, 0.4090909090909091, 'X[7] <= 0.084\\nentropy = 0.92\\nsamples = 155\\nvalue = [52, 103]'),\n",
       " Text(0.6203045685279188, 0.3181818181818182, 'X[7] <= 0.051\\nentropy = 1.0\\nsamples = 30\\nvalue = [15, 15]'),\n",
       " Text(0.6182741116751269, 0.22727272727272727, 'entropy = 0.0\\nsamples = 2\\nvalue = [2, 0]'),\n",
       " Text(0.6223350253807106, 0.22727272727272727, 'X[7] <= 0.064\\nentropy = 0.996\\nsamples = 28\\nvalue = [13, 15]'),\n",
       " Text(0.6182741116751269, 0.13636363636363635, 'X[5] <= 4.06\\nentropy = 0.722\\nsamples = 5\\nvalue = [4, 1]'),\n",
       " Text(0.616243654822335, 0.045454545454545456, 'entropy = 1.0\\nsamples = 2\\nvalue = [1, 1]'),\n",
       " Text(0.6203045685279188, 0.045454545454545456, 'entropy = 0.0\\nsamples = 3\\nvalue = [3, 0]'),\n",
       " Text(0.6263959390862944, 0.13636363636363635, 'X[4] <= 2.533\\nentropy = 0.966\\nsamples = 23\\nvalue = [9, 14]'),\n",
       " Text(0.6243654822335025, 0.045454545454545456, 'entropy = 0.0\\nsamples = 3\\nvalue = [0, 3]'),\n",
       " Text(0.6284263959390863, 0.045454545454545456, 'entropy = 0.993\\nsamples = 20\\nvalue = [9, 11]'),\n",
       " Text(0.6385786802030456, 0.3181818181818182, 'X[6] <= 0.334\\nentropy = 0.876\\nsamples = 125\\nvalue = [37, 88]'),\n",
       " Text(0.63248730964467, 0.22727272727272727, 'X[2] <= 8.36\\nentropy = 0.567\\nsamples = 30\\nvalue = [4, 26]'),\n",
       " Text(0.6304568527918781, 0.13636363636363635, 'entropy = 1.0\\nsamples = 2\\nvalue = [1, 1]'),\n",
       " Text(0.6345177664974619, 0.13636363636363635, 'X[5] <= 6.377\\nentropy = 0.491\\nsamples = 28\\nvalue = [3, 25]'),\n",
       " Text(0.63248730964467, 0.045454545454545456, 'entropy = 0.722\\nsamples = 15\\nvalue = [3, 12]'),\n",
       " Text(0.6365482233502539, 0.045454545454545456, 'entropy = 0.0\\nsamples = 13\\nvalue = [0, 13]'),\n",
       " Text(0.6446700507614214, 0.22727272727272727, 'X[4] <= 30.901\\nentropy = 0.932\\nsamples = 95\\nvalue = [33, 62]'),\n",
       " Text(0.6426395939086295, 0.13636363636363635, 'X[7] <= 0.171\\nentropy = 0.938\\nsamples = 93\\nvalue = [33, 60]'),\n",
       " Text(0.6406091370558376, 0.045454545454545456, 'entropy = 0.684\\nsamples = 11\\nvalue = [2, 9]'),\n",
       " Text(0.6446700507614214, 0.045454545454545456, 'entropy = 0.957\\nsamples = 82\\nvalue = [31, 51]'),\n",
       " Text(0.6467005076142132, 0.13636363636363635, 'entropy = 0.0\\nsamples = 2\\nvalue = [0, 2]'),\n",
       " Text(0.6766497461928934, 0.4090909090909091, 'X[7] <= 0.271\\nentropy = 0.991\\nsamples = 321\\nvalue = [178, 143]'),\n",
       " Text(0.6629441624365482, 0.3181818181818182, 'X[8] <= 0.163\\nentropy = 0.982\\nsamples = 254\\nvalue = [147, 107]'),\n",
       " Text(0.6548223350253807, 0.22727272727272727, 'X[0] <= 20.995\\nentropy = 0.995\\nsamples = 216\\nvalue = [117, 99]'),\n",
       " Text(0.650761421319797, 0.13636363636363635, 'X[7] <= 0.087\\nentropy = 1.0\\nsamples = 167\\nvalue = [84, 83]'),\n",
       " Text(0.6487309644670051, 0.045454545454545456, 'entropy = 0.973\\nsamples = 109\\nvalue = [65, 44]'),\n",
       " Text(0.6527918781725889, 0.045454545454545456, 'entropy = 0.912\\nsamples = 58\\nvalue = [19, 39]'),\n",
       " Text(0.6588832487309645, 0.13636363636363635, 'X[7] <= 0.115\\nentropy = 0.911\\nsamples = 49\\nvalue = [33, 16]'),\n",
       " Text(0.6568527918781726, 0.045454545454545456, 'entropy = 0.779\\nsamples = 26\\nvalue = [20, 6]'),\n",
       " Text(0.6609137055837564, 0.045454545454545456, 'entropy = 0.988\\nsamples = 23\\nvalue = [13, 10]'),\n",
       " Text(0.6710659898477157, 0.22727272727272727, 'X[5] <= 5.523\\nentropy = 0.742\\nsamples = 38\\nvalue = [30, 8]'),\n",
       " Text(0.667005076142132, 0.13636363636363635, 'X[6] <= 0.343\\nentropy = 0.391\\nsamples = 26\\nvalue = [24, 2]'),\n",
       " Text(0.6649746192893401, 0.045454545454545456, 'entropy = 0.0\\nsamples = 8\\nvalue = [8, 0]'),\n",
       " Text(0.6690355329949239, 0.045454545454545456, 'entropy = 0.503\\nsamples = 18\\nvalue = [16, 2]'),\n",
       " Text(0.6751269035532995, 0.13636363636363635, 'X[2] <= 1.408\\nentropy = 1.0\\nsamples = 12\\nvalue = [6, 6]'),\n",
       " Text(0.6730964467005076, 0.045454545454545456, 'entropy = 0.0\\nsamples = 1\\nvalue = [1, 0]'),\n",
       " Text(0.6771573604060914, 0.045454545454545456, 'entropy = 0.994\\nsamples = 11\\nvalue = [5, 6]'),\n",
       " Text(0.6903553299492385, 0.3181818181818182, 'X[4] <= 17.242\\nentropy = 0.996\\nsamples = 67\\nvalue = [31, 36]'),\n",
       " Text(0.6852791878172588, 0.22727272727272727, 'X[0] <= 23.891\\nentropy = 0.928\\nsamples = 35\\nvalue = [12, 23]'),\n",
       " Text(0.683248730964467, 0.13636363636363635, 'X[6] <= 0.353\\nentropy = 0.963\\nsamples = 31\\nvalue = [12, 19]'),\n",
       " Text(0.6812182741116751, 0.045454545454545456, 'entropy = 0.831\\nsamples = 19\\nvalue = [5, 14]'),\n",
       " Text(0.6852791878172588, 0.045454545454545456, 'entropy = 0.98\\nsamples = 12\\nvalue = [7, 5]'),\n",
       " Text(0.6873096446700507, 0.13636363636363635, 'entropy = 0.0\\nsamples = 4\\nvalue = [0, 4]'),\n",
       " Text(0.6954314720812182, 0.22727272727272727, 'X[1] <= 11.921\\nentropy = 0.974\\nsamples = 32\\nvalue = [19, 13]'),\n",
       " Text(0.6913705583756345, 0.13636363636363635, 'X[2] <= 7.225\\nentropy = 0.592\\nsamples = 7\\nvalue = [1, 6]'),\n",
       " Text(0.6893401015228426, 0.045454545454545456, 'entropy = 0.0\\nsamples = 1\\nvalue = [1, 0]'),\n",
       " Text(0.6934010152284263, 0.045454545454545456, 'entropy = 0.0\\nsamples = 6\\nvalue = [0, 6]'),\n",
       " Text(0.6994923857868021, 0.13636363636363635, 'X[6] <= 0.332\\nentropy = 0.855\\nsamples = 25\\nvalue = [18, 7]'),\n",
       " Text(0.6974619289340102, 0.045454545454545456, 'entropy = 1.0\\nsamples = 6\\nvalue = [3, 3]'),\n",
       " Text(0.7015228426395939, 0.045454545454545456, 'entropy = 0.742\\nsamples = 19\\nvalue = [15, 4]'),\n",
       " Text(0.7395939086294416, 0.5909090909090909, 'X[10] <= 0.922\\nentropy = 0.886\\nsamples = 326\\nvalue = [227, 99]'),\n",
       " Text(0.7243654822335025, 0.5, 'X[11] <= 0.126\\nentropy = 0.846\\nsamples = 249\\nvalue = [181, 68]'),\n",
       " Text(0.7223350253807107, 0.4090909090909091, 'X[3] <= 12.251\\nentropy = 0.842\\nsamples = 248\\nvalue = [181, 67]'),\n",
       " Text(0.7137055837563452, 0.3181818181818182, 'X[4] <= 29.395\\nentropy = 0.736\\nsamples = 58\\nvalue = [46, 12]'),\n",
       " Text(0.7116751269035533, 0.22727272727272727, 'X[4] <= 3.798\\nentropy = 0.779\\nsamples = 52\\nvalue = [40, 12]'),\n",
       " Text(0.7076142131979696, 0.13636363636363635, 'X[3] <= 2.854\\nentropy = 0.985\\nsamples = 7\\nvalue = [3, 4]'),\n",
       " Text(0.7055837563451777, 0.045454545454545456, 'entropy = 0.0\\nsamples = 2\\nvalue = [2, 0]'),\n",
       " Text(0.7096446700507614, 0.045454545454545456, 'entropy = 0.722\\nsamples = 5\\nvalue = [1, 4]'),\n",
       " Text(0.7157360406091371, 0.13636363636363635, 'X[2] <= 2.366\\nentropy = 0.675\\nsamples = 45\\nvalue = [37, 8]'),\n",
       " Text(0.7137055837563452, 0.045454545454545456, 'entropy = 0.0\\nsamples = 1\\nvalue = [1, 0]'),\n",
       " Text(0.7177664974619289, 0.045454545454545456, 'entropy = 0.684\\nsamples = 44\\nvalue = [36, 8]'),\n",
       " Text(0.7157360406091371, 0.22727272727272727, 'entropy = 0.0\\nsamples = 6\\nvalue = [6, 0]'),\n",
       " Text(0.7309644670050761, 0.3181818181818182, 'X[0] <= 20.62\\nentropy = 0.868\\nsamples = 190\\nvalue = [135, 55]'),\n",
       " Text(0.7258883248730964, 0.22727272727272727, 'X[0] <= 19.542\\nentropy = 0.833\\nsamples = 155\\nvalue = [114, 41]'),\n",
       " Text(0.7238578680203046, 0.13636363636363635, 'X[5] <= 5.181\\nentropy = 0.841\\nsamples = 152\\nvalue = [111, 41]'),\n",
       " Text(0.7218274111675127, 0.045454545454545456, 'entropy = 0.667\\nsamples = 46\\nvalue = [38, 8]'),\n",
       " Text(0.7258883248730964, 0.045454545454545456, 'entropy = 0.895\\nsamples = 106\\nvalue = [73, 33]'),\n",
       " Text(0.7279187817258883, 0.13636363636363635, 'entropy = 0.0\\nsamples = 3\\nvalue = [3, 0]'),\n",
       " Text(0.7360406091370558, 0.22727272727272727, 'X[12] <= 0.602\\nentropy = 0.971\\nsamples = 35\\nvalue = [21, 14]'),\n",
       " Text(0.7319796954314721, 0.13636363636363635, 'X[6] <= 0.281\\nentropy = 0.881\\nsamples = 10\\nvalue = [3, 7]'),\n",
       " Text(0.7299492385786802, 0.045454545454545456, 'entropy = 0.0\\nsamples = 5\\nvalue = [0, 5]'),\n",
       " Text(0.7340101522842639, 0.045454545454545456, 'entropy = 0.971\\nsamples = 5\\nvalue = [3, 2]'),\n",
       " Text(0.7401015228426396, 0.13636363636363635, 'X[1] <= 10.258\\nentropy = 0.855\\nsamples = 25\\nvalue = [18, 7]'),\n",
       " Text(0.7380710659898477, 0.045454545454545456, 'entropy = 0.75\\nsamples = 14\\nvalue = [11, 3]'),\n",
       " Text(0.7421319796954314, 0.045454545454545456, 'entropy = 0.946\\nsamples = 11\\nvalue = [7, 4]'),\n",
       " Text(0.7263959390862944, 0.4090909090909091, 'entropy = 0.0\\nsamples = 1\\nvalue = [0, 1]'),\n",
       " Text(0.7548223350253808, 0.5, 'X[2] <= 5.82\\nentropy = 0.972\\nsamples = 77\\nvalue = [46, 31]'),\n",
       " Text(0.7527918781725889, 0.4090909090909091, 'entropy = 0.0\\nsamples = 2\\nvalue = [0, 2]'),\n",
       " Text(0.7568527918781726, 0.4090909090909091, 'X[1] <= 4.622\\nentropy = 0.963\\nsamples = 75\\nvalue = [46, 29]'),\n",
       " Text(0.7482233502538072, 0.3181818181818182, 'X[3] <= 7.896\\nentropy = 0.959\\nsamples = 21\\nvalue = [8, 13]'),\n",
       " Text(0.7461928934010152, 0.22727272727272727, 'entropy = 0.0\\nsamples = 4\\nvalue = [0, 4]'),\n",
       " Text(0.750253807106599, 0.22727272727272727, 'X[4] <= 26.613\\nentropy = 0.998\\nsamples = 17\\nvalue = [8, 9]'),\n",
       " Text(0.7482233502538072, 0.13636363636363635, 'X[0] <= 25.143\\nentropy = 0.985\\nsamples = 14\\nvalue = [8, 6]'),\n",
       " Text(0.7461928934010152, 0.045454545454545456, 'entropy = 1.0\\nsamples = 12\\nvalue = [6, 6]'),\n",
       " Text(0.750253807106599, 0.045454545454545456, 'entropy = 0.0\\nsamples = 2\\nvalue = [2, 0]'),\n",
       " Text(0.7522842639593909, 0.13636363636363635, 'entropy = 0.0\\nsamples = 3\\nvalue = [0, 3]'),\n",
       " Text(0.7654822335025381, 0.3181818181818182, 'X[4] <= 13.626\\nentropy = 0.877\\nsamples = 54\\nvalue = [38, 16]'),\n",
       " Text(0.7583756345177665, 0.22727272727272727, 'X[6] <= 0.339\\nentropy = 0.755\\nsamples = 23\\nvalue = [18, 5]'),\n",
       " Text(0.7563451776649747, 0.13636363636363635, 'entropy = 0.0\\nsamples = 5\\nvalue = [5, 0]'),\n",
       " Text(0.7604060913705584, 0.13636363636363635, 'X[5] <= 5.437\\nentropy = 0.852\\nsamples = 18\\nvalue = [13, 5]'),\n",
       " Text(0.7583756345177665, 0.045454545454545456, 'entropy = 0.0\\nsamples = 1\\nvalue = [0, 1]'),\n",
       " Text(0.7624365482233503, 0.045454545454545456, 'entropy = 0.787\\nsamples = 17\\nvalue = [13, 4]'),\n",
       " Text(0.7725888324873097, 0.22727272727272727, 'X[4] <= 23.719\\nentropy = 0.938\\nsamples = 31\\nvalue = [20, 11]'),\n",
       " Text(0.7685279187817259, 0.13636363636363635, 'X[6] <= 0.249\\nentropy = 0.998\\nsamples = 19\\nvalue = [9, 10]'),\n",
       " Text(0.766497461928934, 0.045454545454545456, 'entropy = 0.0\\nsamples = 2\\nvalue = [0, 2]'),\n",
       " Text(0.7705583756345178, 0.045454545454545456, 'entropy = 0.998\\nsamples = 17\\nvalue = [9, 8]'),\n",
       " Text(0.7766497461928934, 0.13636363636363635, 'X[4] <= 28.791\\nentropy = 0.414\\nsamples = 12\\nvalue = [11, 1]'),\n",
       " Text(0.7746192893401015, 0.045454545454545456, 'entropy = 0.0\\nsamples = 7\\nvalue = [7, 0]'),\n",
       " Text(0.7786802030456853, 0.045454545454545456, 'entropy = 0.722\\nsamples = 5\\nvalue = [4, 1]'),\n",
       " Text(0.8939086294416244, 0.6818181818181818, 'X[7] <= 0.3\\nentropy = 0.99\\nsamples = 934\\nvalue = [412, 522]'),\n",
       " Text(0.833756345177665, 0.5909090909090909, 'X[7] <= 0.067\\nentropy = 0.958\\nsamples = 704\\nvalue = [267, 437]'),\n",
       " Text(0.801522842639594, 0.5, 'X[12] <= 0.445\\nentropy = 0.997\\nsamples = 186\\nvalue = [99, 87]'),\n",
       " Text(0.7898477157360406, 0.4090909090909091, 'X[2] <= 1.528\\nentropy = 1.0\\nsamples = 158\\nvalue = [78, 80]'),\n",
       " Text(0.7878172588832487, 0.3181818181818182, 'entropy = 0.0\\nsamples = 4\\nvalue = [0, 4]'),\n",
       " Text(0.7918781725888325, 0.3181818181818182, 'X[7] <= 0.038\\nentropy = 1.0\\nsamples = 154\\nvalue = [78, 76]'),\n",
       " Text(0.7868020304568528, 0.22727272727272727, 'X[8] <= 0.998\\nentropy = 0.971\\nsamples = 45\\nvalue = [18, 27]'),\n",
       " Text(0.7847715736040609, 0.13636363636363635, 'X[1] <= 3.87\\nentropy = 0.981\\nsamples = 43\\nvalue = [18, 25]'),\n",
       " Text(0.782741116751269, 0.045454545454545456, 'entropy = 0.65\\nsamples = 6\\nvalue = [5, 1]'),\n",
       " Text(0.7868020304568528, 0.045454545454545456, 'entropy = 0.935\\nsamples = 37\\nvalue = [13, 24]'),\n",
       " Text(0.7888324873096447, 0.13636363636363635, 'entropy = 0.0\\nsamples = 2\\nvalue = [0, 2]'),\n",
       " Text(0.7969543147208121, 0.22727272727272727, 'X[7] <= 0.06\\nentropy = 0.993\\nsamples = 109\\nvalue = [60, 49]'),\n",
       " Text(0.7928934010152284, 0.13636363636363635, 'X[1] <= 7.117\\nentropy = 0.997\\nsamples = 62\\nvalue = [29, 33]'),\n",
       " Text(0.7908629441624365, 0.045454545454545456, 'entropy = 0.991\\nsamples = 36\\nvalue = [20, 16]'),\n",
       " Text(0.7949238578680203, 0.045454545454545456, 'entropy = 0.931\\nsamples = 26\\nvalue = [9, 17]'),\n",
       " Text(0.8010152284263959, 0.13636363636363635, 'X[2] <= 20.634\\nentropy = 0.925\\nsamples = 47\\nvalue = [31, 16]'),\n",
       " Text(0.798984771573604, 0.045454545454545456, 'entropy = 0.876\\nsamples = 44\\nvalue = [31, 13]'),\n",
       " Text(0.8030456852791878, 0.045454545454545456, 'entropy = 0.0\\nsamples = 3\\nvalue = [0, 3]'),\n",
       " Text(0.8131979695431472, 0.4090909090909091, 'X[0] <= 25.835\\nentropy = 0.811\\nsamples = 28\\nvalue = [21, 7]'),\n",
       " Text(0.8111675126903554, 0.3181818181818182, 'X[0] <= 19.199\\nentropy = 0.871\\nsamples = 24\\nvalue = [17, 7]'),\n",
       " Text(0.8071065989847716, 0.22727272727272727, 'X[7] <= 0.04\\nentropy = 0.792\\nsamples = 21\\nvalue = [16, 5]'),\n",
       " Text(0.8050761421319796, 0.13636363636363635, 'entropy = 0.0\\nsamples = 6\\nvalue = [6, 0]'),\n",
       " Text(0.8091370558375635, 0.13636363636363635, 'X[5] <= 9.686\\nentropy = 0.918\\nsamples = 15\\nvalue = [10, 5]'),\n",
       " Text(0.8071065989847716, 0.045454545454545456, 'entropy = 0.971\\nsamples = 5\\nvalue = [2, 3]'),\n",
       " Text(0.8111675126903554, 0.045454545454545456, 'entropy = 0.722\\nsamples = 10\\nvalue = [8, 2]'),\n",
       " Text(0.8152284263959391, 0.22727272727272727, 'X[7] <= 0.055\\nentropy = 0.918\\nsamples = 3\\nvalue = [1, 2]'),\n",
       " Text(0.8131979695431472, 0.13636363636363635, 'entropy = 0.0\\nsamples = 2\\nvalue = [0, 2]'),\n",
       " Text(0.817258883248731, 0.13636363636363635, 'entropy = 0.0\\nsamples = 1\\nvalue = [1, 0]'),\n",
       " Text(0.8152284263959391, 0.3181818181818182, 'entropy = 0.0\\nsamples = 4\\nvalue = [4, 0]'),\n",
       " Text(0.8659898477157361, 0.5, 'X[10] <= 0.913\\nentropy = 0.909\\nsamples = 518\\nvalue = [168, 350]'),\n",
       " Text(0.8426395939086294, 0.4090909090909091, 'X[0] <= 26.138\\nentropy = 0.865\\nsamples = 401\\nvalue = [115, 286]'),\n",
       " Text(0.8284263959390863, 0.3181818181818182, 'X[2] <= 5.861\\nentropy = 0.799\\nsamples = 326\\nvalue = [79, 247]'),\n",
       " Text(0.8233502538071066, 0.22727272727272727, 'X[2] <= 3.627\\nentropy = 0.971\\nsamples = 5\\nvalue = [3, 2]'),\n",
       " Text(0.8213197969543147, 0.13636363636363635, 'X[12] <= 0.228\\nentropy = 0.918\\nsamples = 3\\nvalue = [1, 2]'),\n",
       " Text(0.8192893401015229, 0.045454545454545456, 'entropy = 0.0\\nsamples = 2\\nvalue = [0, 2]'),\n",
       " Text(0.8233502538071066, 0.045454545454545456, 'entropy = 0.0\\nsamples = 1\\nvalue = [1, 0]'),\n",
       " Text(0.8253807106598985, 0.13636363636363635, 'entropy = 0.0\\nsamples = 2\\nvalue = [2, 0]'),\n",
       " Text(0.833502538071066, 0.22727272727272727, 'X[1] <= 8.958\\nentropy = 0.79\\nsamples = 321\\nvalue = [76, 245]'),\n",
       " Text(0.8294416243654822, 0.13636363636363635, 'X[6] <= 0.361\\nentropy = 0.869\\nsamples = 186\\nvalue = [54, 132]'),\n",
       " Text(0.8274111675126904, 0.045454545454545456, 'entropy = 0.789\\nsamples = 110\\nvalue = [26, 84]'),\n",
       " Text(0.8314720812182741, 0.045454545454545456, 'entropy = 0.949\\nsamples = 76\\nvalue = [28, 48]'),\n",
       " Text(0.8375634517766497, 0.13636363636363635, 'X[4] <= 20.77\\nentropy = 0.641\\nsamples = 135\\nvalue = [22, 113]'),\n",
       " Text(0.8355329949238579, 0.045454545454545456, 'entropy = 0.7\\nsamples = 95\\nvalue = [18, 77]'),\n",
       " Text(0.8395939086294416, 0.045454545454545456, 'entropy = 0.469\\nsamples = 40\\nvalue = [4, 36]'),\n",
       " Text(0.8568527918781725, 0.3181818181818182, 'X[7] <= 0.148\\nentropy = 0.999\\nsamples = 75\\nvalue = [36, 39]'),\n",
       " Text(0.849746192893401, 0.22727272727272727, 'X[5] <= 10.329\\nentropy = 0.967\\nsamples = 28\\nvalue = [17, 11]'),\n",
       " Text(0.8456852791878172, 0.13636363636363635, 'X[5] <= 9.245\\nentropy = 0.887\\nsamples = 23\\nvalue = [16, 7]'),\n",
       " Text(0.8436548223350254, 0.045454545454545456, 'entropy = 0.0\\nsamples = 4\\nvalue = [4, 0]'),\n",
       " Text(0.8477157360406091, 0.045454545454545456, 'entropy = 0.949\\nsamples = 19\\nvalue = [12, 7]'),\n",
       " Text(0.8538071065989847, 0.13636363636363635, 'X[1] <= 5.336\\nentropy = 0.722\\nsamples = 5\\nvalue = [1, 4]'),\n",
       " Text(0.8517766497461929, 0.045454545454545456, 'entropy = 1.0\\nsamples = 2\\nvalue = [1, 1]'),\n",
       " Text(0.8558375634517766, 0.045454545454545456, 'entropy = 0.0\\nsamples = 3\\nvalue = [0, 3]'),\n",
       " Text(0.8639593908629442, 0.22727272727272727, 'X[2] <= 22.9\\nentropy = 0.973\\nsamples = 47\\nvalue = [19, 28]'),\n",
       " Text(0.8619289340101522, 0.13636363636363635, 'X[2] <= 15.218\\nentropy = 0.978\\nsamples = 46\\nvalue = [19, 27]'),\n",
       " Text(0.8598984771573605, 0.045454545454545456, 'entropy = 0.954\\nsamples = 32\\nvalue = [12, 20]'),\n",
       " Text(0.8639593908629442, 0.045454545454545456, 'entropy = 1.0\\nsamples = 14\\nvalue = [7, 7]'),\n",
       " Text(0.8659898477157361, 0.13636363636363635, 'entropy = 0.0\\nsamples = 1\\nvalue = [0, 1]'),\n",
       " Text(0.8893401015228426, 0.4090909090909091, 'X[0] <= 21.225\\nentropy = 0.994\\nsamples = 117\\nvalue = [53, 64]'),\n",
       " Text(0.8791878172588833, 0.3181818181818182, 'X[2] <= 21.936\\nentropy = 0.947\\nsamples = 74\\nvalue = [27, 47]'),\n",
       " Text(0.8741116751269036, 0.22727272727272727, 'X[5] <= 10.234\\nentropy = 0.928\\nsamples = 70\\nvalue = [24, 46]'),\n",
       " Text(0.8700507614213198, 0.13636363636363635, 'X[7] <= 0.191\\nentropy = 0.902\\nsamples = 66\\nvalue = [21, 45]'),\n",
       " Text(0.868020304568528, 0.045454545454545456, 'entropy = 0.94\\nsamples = 42\\nvalue = [15, 27]'),\n",
       " Text(0.8720812182741117, 0.045454545454545456, 'entropy = 0.811\\nsamples = 24\\nvalue = [6, 18]'),\n",
       " Text(0.8781725888324873, 0.13636363636363635, 'X[2] <= 15.845\\nentropy = 0.811\\nsamples = 4\\nvalue = [3, 1]'),\n",
       " Text(0.8761421319796955, 0.045454545454545456, 'entropy = 0.0\\nsamples = 2\\nvalue = [2, 0]'),\n",
       " Text(0.8802030456852792, 0.045454545454545456, 'entropy = 1.0\\nsamples = 2\\nvalue = [1, 1]'),\n",
       " Text(0.884263959390863, 0.22727272727272727, 'X[7] <= 0.083\\nentropy = 0.811\\nsamples = 4\\nvalue = [3, 1]'),\n",
       " Text(0.8822335025380711, 0.13636363636363635, 'entropy = 0.0\\nsamples = 3\\nvalue = [3, 0]'),\n",
       " Text(0.8862944162436548, 0.13636363636363635, 'entropy = 0.0\\nsamples = 1\\nvalue = [0, 1]'),\n",
       " Text(0.899492385786802, 0.3181818181818182, 'X[3] <= 42.368\\nentropy = 0.968\\nsamples = 43\\nvalue = [26, 17]'),\n",
       " Text(0.8944162436548223, 0.22727272727272727, 'X[3] <= 14.706\\nentropy = 0.995\\nsamples = 35\\nvalue = [19, 16]'),\n",
       " Text(0.8903553299492386, 0.13636363636363635, 'X[5] <= 9.833\\nentropy = 0.764\\nsamples = 9\\nvalue = [7, 2]'),\n",
       " Text(0.8883248730964467, 0.045454545454545456, 'entropy = 0.863\\nsamples = 7\\nvalue = [5, 2]'),\n",
       " Text(0.8923857868020305, 0.045454545454545456, 'entropy = 0.0\\nsamples = 2\\nvalue = [2, 0]'),\n",
       " Text(0.8984771573604061, 0.13636363636363635, 'X[2] <= 15.97\\nentropy = 0.996\\nsamples = 26\\nvalue = [12, 14]'),\n",
       " Text(0.8964467005076142, 0.045454545454545456, 'entropy = 0.971\\nsamples = 15\\nvalue = [6, 9]'),\n",
       " Text(0.9005076142131979, 0.045454545454545456, 'entropy = 0.994\\nsamples = 11\\nvalue = [6, 5]'),\n",
       " Text(0.9045685279187817, 0.22727272727272727, 'X[2] <= 17.621\\nentropy = 0.544\\nsamples = 8\\nvalue = [7, 1]'),\n",
       " Text(0.9025380710659898, 0.13636363636363635, 'entropy = 0.0\\nsamples = 6\\nvalue = [6, 0]'),\n",
       " Text(0.9065989847715736, 0.13636363636363635, 'entropy = 1.0\\nsamples = 2\\nvalue = [1, 1]'),\n",
       " Text(0.9540609137055838, 0.5909090909090909, 'X[6] <= 0.282\\nentropy = 0.95\\nsamples = 230\\nvalue = [145, 85]'),\n",
       " Text(0.9243654822335026, 0.5, 'X[9] <= 0.055\\nentropy = 0.857\\nsamples = 89\\nvalue = [64, 25]'),\n",
       " Text(0.9223350253807107, 0.4090909090909091, 'X[1] <= 4.079\\nentropy = 0.845\\nsamples = 88\\nvalue = [64, 24]'),\n",
       " Text(0.9106598984771573, 0.3181818181818182, 'X[2] <= 7.029\\nentropy = 0.977\\nsamples = 34\\nvalue = [20, 14]'),\n",
       " Text(0.9086294416243654, 0.22727272727272727, 'entropy = 0.0\\nsamples = 5\\nvalue = [5, 0]'),\n",
       " Text(0.9126903553299492, 0.22727272727272727, 'X[1] <= 2.458\\nentropy = 0.999\\nsamples = 29\\nvalue = [15, 14]'),\n",
       " Text(0.9106598984771573, 0.13636363636363635, 'entropy = 0.0\\nsamples = 2\\nvalue = [2, 0]'),\n",
       " Text(0.9147208121827411, 0.13636363636363635, 'X[10] <= 0.544\\nentropy = 0.999\\nsamples = 27\\nvalue = [13, 14]'),\n",
       " Text(0.9126903553299492, 0.045454545454545456, 'entropy = 0.918\\nsamples = 12\\nvalue = [8, 4]'),\n",
       " Text(0.916751269035533, 0.045454545454545456, 'entropy = 0.918\\nsamples = 15\\nvalue = [5, 10]'),\n",
       " Text(0.934010152284264, 0.3181818181818182, 'X[8] <= 0.722\\nentropy = 0.691\\nsamples = 54\\nvalue = [44, 10]'),\n",
       " Text(0.9269035532994924, 0.22727272727272727, 'X[0] <= 21.751\\nentropy = 0.519\\nsamples = 43\\nvalue = [38, 5]'),\n",
       " Text(0.9228426395939087, 0.13636363636363635, 'X[0] <= 18.842\\nentropy = 0.33\\nsamples = 33\\nvalue = [31, 2]'),\n",
       " Text(0.9208121827411168, 0.045454545454545456, 'entropy = 0.0\\nsamples = 24\\nvalue = [24, 0]'),\n",
       " Text(0.9248730964467005, 0.045454545454545456, 'entropy = 0.764\\nsamples = 9\\nvalue = [7, 2]'),\n",
       " Text(0.9309644670050762, 0.13636363636363635, 'X[3] <= 25.608\\nentropy = 0.881\\nsamples = 10\\nvalue = [7, 3]'),\n",
       " Text(0.9289340101522843, 0.045454545454545456, 'entropy = 0.0\\nsamples = 2\\nvalue = [2, 0]'),\n",
       " Text(0.932994923857868, 0.045454545454545456, 'entropy = 0.954\\nsamples = 8\\nvalue = [5, 3]'),\n",
       " Text(0.9411167512690355, 0.22727272727272727, 'X[0] <= 26.978\\nentropy = 0.994\\nsamples = 11\\nvalue = [6, 5]'),\n",
       " Text(0.9390862944162437, 0.13636363636363635, 'X[4] <= 9.627\\nentropy = 1.0\\nsamples = 10\\nvalue = [5, 5]'),\n",
       " Text(0.9370558375634518, 0.045454545454545456, 'entropy = 0.918\\nsamples = 3\\nvalue = [2, 1]'),\n",
       " Text(0.9411167512690355, 0.045454545454545456, 'entropy = 0.985\\nsamples = 7\\nvalue = [3, 4]'),\n",
       " Text(0.9431472081218274, 0.13636363636363635, 'entropy = 0.0\\nsamples = 1\\nvalue = [1, 0]'),\n",
       " Text(0.9263959390862944, 0.4090909090909091, 'entropy = 0.0\\nsamples = 1\\nvalue = [0, 1]'),\n",
       " Text(0.983756345177665, 0.5, 'X[3] <= 43.59\\nentropy = 0.984\\nsamples = 141\\nvalue = [81, 60]'),\n",
       " Text(0.9715736040609138, 0.4090909090909091, 'X[0] <= 21.7\\nentropy = 0.996\\nsamples = 104\\nvalue = [56, 48]'),\n",
       " Text(0.9593908629441624, 0.3181818181818182, 'X[12] <= 0.911\\nentropy = 1.0\\nsamples = 89\\nvalue = [45, 44]'),\n",
       " Text(0.9512690355329949, 0.22727272727272727, 'X[6] <= 0.363\\nentropy = 0.994\\nsamples = 66\\nvalue = [30, 36]'),\n",
       " Text(0.9472081218274112, 0.13636363636363635, 'X[10] <= 0.471\\nentropy = 0.811\\nsamples = 8\\nvalue = [2, 6]'),\n",
       " Text(0.9451776649746193, 0.045454545454545456, 'entropy = 0.0\\nsamples = 1\\nvalue = [1, 0]'),\n",
       " Text(0.949238578680203, 0.045454545454545456, 'entropy = 0.592\\nsamples = 7\\nvalue = [1, 6]'),\n",
       " Text(0.9553299492385787, 0.13636363636363635, 'X[4] <= 4.548\\nentropy = 0.999\\nsamples = 58\\nvalue = [28, 30]'),\n",
       " Text(0.9532994923857868, 0.045454545454545456, 'entropy = 0.764\\nsamples = 9\\nvalue = [2, 7]'),\n",
       " Text(0.9573604060913705, 0.045454545454545456, 'entropy = 0.997\\nsamples = 49\\nvalue = [26, 23]'),\n",
       " Text(0.9675126903553299, 0.22727272727272727, 'X[2] <= 14.274\\nentropy = 0.932\\nsamples = 23\\nvalue = [15, 8]'),\n",
       " Text(0.9634517766497462, 0.13636363636363635, 'X[0] <= 19.569\\nentropy = 0.985\\nsamples = 14\\nvalue = [8, 6]'),\n",
       " Text(0.9614213197969543, 0.045454545454545456, 'entropy = 0.918\\nsamples = 12\\nvalue = [8, 4]'),\n",
       " Text(0.965482233502538, 0.045454545454545456, 'entropy = 0.0\\nsamples = 2\\nvalue = [0, 2]'),\n",
       " Text(0.9715736040609138, 0.13636363636363635, 'X[2] <= 17.514\\nentropy = 0.764\\nsamples = 9\\nvalue = [7, 2]'),\n",
       " Text(0.9695431472081218, 0.045454545454545456, 'entropy = 0.544\\nsamples = 8\\nvalue = [7, 1]'),\n",
       " Text(0.9736040609137055, 0.045454545454545456, 'entropy = 0.0\\nsamples = 1\\nvalue = [0, 1]'),\n",
       " Text(0.983756345177665, 0.3181818181818182, 'X[5] <= 10.979\\nentropy = 0.837\\nsamples = 15\\nvalue = [11, 4]'),\n",
       " Text(0.9817258883248731, 0.22727272727272727, 'X[8] <= 0.221\\nentropy = 0.918\\nsamples = 12\\nvalue = [8, 4]'),\n",
       " Text(0.9796954314720813, 0.13636363636363635, 'X[10] <= 0.846\\nentropy = 0.991\\nsamples = 9\\nvalue = [5, 4]'),\n",
       " Text(0.9776649746192894, 0.045454545454545456, 'entropy = 0.0\\nsamples = 1\\nvalue = [0, 1]'),\n",
       " Text(0.9817258883248731, 0.045454545454545456, 'entropy = 0.954\\nsamples = 8\\nvalue = [5, 3]'),\n",
       " Text(0.983756345177665, 0.13636363636363635, 'entropy = 0.0\\nsamples = 3\\nvalue = [3, 0]'),\n",
       " Text(0.9857868020304569, 0.22727272727272727, 'entropy = 0.0\\nsamples = 3\\nvalue = [3, 0]'),\n",
       " Text(0.9959390862944163, 0.4090909090909091, 'X[12] <= 0.087\\nentropy = 0.909\\nsamples = 37\\nvalue = [25, 12]'),\n",
       " Text(0.9939086294416244, 0.3181818181818182, 'X[5] <= 10.627\\nentropy = 0.834\\nsamples = 34\\nvalue = [25, 9]'),\n",
       " Text(0.9918781725888325, 0.22727272727272727, 'X[4] <= 15.506\\nentropy = 0.799\\nsamples = 33\\nvalue = [25, 8]'),\n",
       " Text(0.9878172588832488, 0.13636363636363635, 'X[5] <= 9.686\\nentropy = 0.503\\nsamples = 18\\nvalue = [16, 2]'),\n",
       " Text(0.9857868020304569, 0.045454545454545456, 'entropy = 0.811\\nsamples = 8\\nvalue = [6, 2]'),\n",
       " Text(0.9898477157360406, 0.045454545454545456, 'entropy = 0.0\\nsamples = 10\\nvalue = [10, 0]'),\n",
       " Text(0.9959390862944163, 0.13636363636363635, 'X[4] <= 17.586\\nentropy = 0.971\\nsamples = 15\\nvalue = [9, 6]'),\n",
       " Text(0.9939086294416244, 0.045454545454545456, 'entropy = 0.0\\nsamples = 4\\nvalue = [4, 0]'),\n",
       " Text(0.9979695431472081, 0.045454545454545456, 'entropy = 0.994\\nsamples = 11\\nvalue = [5, 6]'),\n",
       " Text(0.9959390862944163, 0.22727272727272727, 'entropy = 0.0\\nsamples = 1\\nvalue = [0, 1]'),\n",
       " Text(0.9979695431472081, 0.3181818181818182, 'entropy = 0.0\\nsamples = 3\\nvalue = [0, 3]')]"
      ]
     },
     "execution_count": 96,
     "metadata": {},
     "output_type": "execute_result"
    },
    {
     "data": {
      "image/png": "[encoded data removed]",
      "text/plain": [
       "<Figure size 1728x1008 with 1 Axes>"
      ]
     },
     "metadata": {
      "needs_background": "light"
     },
     "output_type": "display_data"
    }
   ],
   "source": [
    "import matplotlib.pyplot as plt\n",
    "%matplotlib inline\n",
    "from sklearn.tree import plot_tree\n",
    "\n",
    "plt.figure(figsize=(24,14))\n",
    "plot_tree(dt, filled=True)"
   ]
  },
  {
   "cell_type": "markdown",
   "id": "9d3c5984",
   "metadata": {},
   "source": [
    "## Using Random Forest Classifier"
   ]
  },
  {
   "cell_type": "code",
   "execution_count": 97,
   "id": "1f383f80",
   "metadata": {},
   "outputs": [
    {
     "data": {
      "text/plain": [
       "RandomForestClassifier()"
      ]
     },
     "execution_count": 97,
     "metadata": {},
     "output_type": "execute_result"
    }
   ],
   "source": [
    "from sklearn.ensemble import RandomForestClassifier\n",
    "rf_clf = RandomForestClassifier(n_estimators=100)\n",
    "rf_clf.fit(x_train,y_train)"
   ]
  },
  {
   "cell_type": "code",
   "execution_count": 98,
   "id": "0b5f25e1",
   "metadata": {},
   "outputs": [],
   "source": [
    "y_pred3=rf_clf.predict(x_test)"
   ]
  },
  {
   "cell_type": "code",
   "execution_count": 99,
   "id": "4d8589c5",
   "metadata": {},
   "outputs": [
    {
     "name": "stdout",
     "output_type": "stream",
     "text": [
      "              precision    recall  f1-score   support\n",
      "\n",
      "           0       0.71      0.82      0.76      1081\n",
      "           1       0.66      0.51      0.58       751\n",
      "\n",
      "    accuracy                           0.69      1832\n",
      "   macro avg       0.68      0.66      0.67      1832\n",
      "weighted avg       0.69      0.69      0.68      1832\n",
      "\n"
     ]
    }
   ],
   "source": [
    "print(classification_report(y_test,y_pred3))"
   ]
  },
  {
   "cell_type": "code",
   "execution_count": 100,
   "id": "93a7f0d3",
   "metadata": {},
   "outputs": [
    {
     "data": {
      "text/plain": [
       "0.6645958333692604"
      ]
     },
     "execution_count": 100,
     "metadata": {},
     "output_type": "execute_result"
    }
   ],
   "source": [
    "score=roc_auc_score(y_test,y_pred3)\n",
    "score"
   ]
  },
  {
   "cell_type": "code",
   "execution_count": 101,
   "id": "26202a97",
   "metadata": {},
   "outputs": [
    {
     "name": "stdout",
     "output_type": "stream",
     "text": [
      "[0.69588363 0.43953261 0.51784723 0.64889995 0.67698259]\n",
      "Cross validation Score: 0.5958292017499958\n",
      "Std : 0.09992305102146058\n"
     ]
    }
   ],
   "source": [
    "scores = cross_val_score(rf_clf,x,y,cv=5,scoring='roc_auc')\n",
    "print(scores)\n",
    "print(\"Cross validation Score:\",scores.mean())\n",
    "print(\"Std :\",scores.std())"
   ]
  },
  {
   "cell_type": "markdown",
   "id": "561234e1",
   "metadata": {},
   "source": [
    "### Hyperparameter Tuning for Random Forest Classifier"
   ]
  },
  {
   "cell_type": "code",
   "execution_count": 102,
   "id": "d0e1e917",
   "metadata": {},
   "outputs": [
    {
     "name": "stdout",
     "output_type": "stream",
     "text": [
      "Fitting 3 folds for each of 100 candidates, totalling 300 fits\n",
      "Best paramters: {'n_estimators': 1600, 'min_samples_split': 5, 'min_samples_leaf': 2, 'max_features': 'sqrt', 'max_depth': 10, 'bootstrap': False})\n"
     ]
    }
   ],
   "source": [
    "from sklearn.model_selection import RandomizedSearchCV\n",
    "\n",
    "n_estimators = [int(x) for x in np.linspace(start=200, stop=2000, num=10)]\n",
    "max_features = ['auto', 'sqrt']\n",
    "max_depth = [int(x) for x in np.linspace(10, 110, num=11)]\n",
    "max_depth.append(None)\n",
    "min_samples_split = [2, 5, 10]\n",
    "min_samples_leaf = [1, 2, 4]\n",
    "bootstrap = [True, False]\n",
    "\n",
    "random_grid = {'n_estimators': n_estimators, 'max_features': max_features,\n",
    "               'max_depth': max_depth, 'min_samples_split': min_samples_split,\n",
    "               'min_samples_leaf': min_samples_leaf, 'bootstrap': bootstrap}\n",
    "\n",
    "rf_clf1 = RandomForestClassifier(random_state=42)\n",
    "\n",
    "rf_cv = RandomizedSearchCV(estimator=rf_clf1, scoring='f1',param_distributions=random_grid, n_iter=100, cv=3, \n",
    "                               verbose=2, random_state=42, n_jobs=-1)\n",
    "\n",
    "rf_cv.fit(x_train, y_train)\n",
    "rf_best_params = rf_cv.best_params_\n",
    "print(f\"Best paramters: {rf_best_params})\")\n"
   ]
  },
  {
   "cell_type": "code",
   "execution_count": 103,
   "id": "1602765f",
   "metadata": {},
   "outputs": [],
   "source": [
    "rf_clf2 = RandomForestClassifier(**rf_best_params)\n",
    "rf_clf2.fit(x_train, y_train)\n",
    "y_predict=rf_clf2.predict(x_test)"
   ]
  },
  {
   "cell_type": "code",
   "execution_count": 104,
   "id": "8c48afa6",
   "metadata": {},
   "outputs": [
    {
     "name": "stdout",
     "output_type": "stream",
     "text": [
      "              precision    recall  f1-score   support\n",
      "\n",
      "           0       0.71      0.85      0.77      1081\n",
      "           1       0.69      0.50      0.58       751\n",
      "\n",
      "    accuracy                           0.71      1832\n",
      "   macro avg       0.70      0.67      0.68      1832\n",
      "weighted avg       0.70      0.71      0.70      1832\n",
      "\n"
     ]
    }
   ],
   "source": [
    "print(classification_report(y_test,y_predict))"
   ]
  },
  {
   "cell_type": "code",
   "execution_count": 105,
   "id": "af72fcd1",
   "metadata": {},
   "outputs": [
    {
     "data": {
      "text/plain": [
       "0.6748836888465704"
      ]
     },
     "execution_count": 105,
     "metadata": {},
     "output_type": "execute_result"
    }
   ],
   "source": [
    "score=roc_auc_score(y_test,y_predict)\n",
    "score"
   ]
  },
  {
   "cell_type": "code",
   "execution_count": 106,
   "id": "3c440f4e",
   "metadata": {},
   "outputs": [
    {
     "name": "stdout",
     "output_type": "stream",
     "text": [
      "[0.74172984 0.51812527 0.53727257 0.66216259 0.69717069]\n",
      "Cross validation Score: 0.6312921908075494\n",
      "Std : 0.08847132164677658\n"
     ]
    }
   ],
   "source": [
    "scores = cross_val_score(rf_clf2,x,y,cv=5,scoring='roc_auc')\n",
    "print(scores)\n",
    "print(\"Cross validation Score:\",scores.mean())\n",
    "print(\"Std :\",scores.std())"
   ]
  },
  {
   "cell_type": "markdown",
   "id": "99fc4af0",
   "metadata": {},
   "source": [
    "## Using Support  Vector Machine"
   ]
  },
  {
   "cell_type": "code",
   "execution_count": 107,
   "id": "a014c04a",
   "metadata": {},
   "outputs": [],
   "source": [
    "from sklearn.svm import SVC\n",
    "svc= SVC()\n",
    "svc.fit(x_train,y_train)\n",
    "y_pred2 = svc.predict(x_test)"
   ]
  },
  {
   "cell_type": "code",
   "execution_count": 108,
   "id": "634ba776",
   "metadata": {},
   "outputs": [
    {
     "name": "stdout",
     "output_type": "stream",
     "text": [
      "              precision    recall  f1-score   support\n",
      "\n",
      "           0       0.59      1.00      0.74      1081\n",
      "           1       0.00      0.00      0.00       751\n",
      "\n",
      "    accuracy                           0.59      1832\n",
      "   macro avg       0.30      0.50      0.37      1832\n",
      "weighted avg       0.35      0.59      0.44      1832\n",
      "\n"
     ]
    }
   ],
   "source": [
    "print(classification_report(y_test,y_pred2))"
   ]
  },
  {
   "cell_type": "code",
   "execution_count": 109,
   "id": "7d99654d",
   "metadata": {},
   "outputs": [
    {
     "data": {
      "text/plain": [
       "0.5"
      ]
     },
     "execution_count": 109,
     "metadata": {},
     "output_type": "execute_result"
    }
   ],
   "source": [
    "score=roc_auc_score(y_test,y_pred2)\n",
    "score"
   ]
  },
  {
   "cell_type": "code",
   "execution_count": 110,
   "id": "270b7ae8",
   "metadata": {},
   "outputs": [
    {
     "name": "stdout",
     "output_type": "stream",
     "text": [
      "[0.63898384 0.6874371  0.65523263 0.65112491 0.54605753]\n",
      "Cross validation Score: 0.6357671998384191\n",
      "Std : 0.047629219535246105\n"
     ]
    }
   ],
   "source": [
    "scores = cross_val_score(svc,x,y,cv=5,scoring='roc_auc')\n",
    "print(scores)\n",
    "print(\"Cross validation Score:\",scores.mean())\n",
    "print(\"Std :\",scores.std())"
   ]
  },
  {
   "cell_type": "markdown",
   "id": "ac7a1f91",
   "metadata": {},
   "source": [
    "## Artificial Neural Network (ANN)"
   ]
  },
  {
   "cell_type": "code",
   "execution_count": 111,
   "id": "c4dc3a92",
   "metadata": {},
   "outputs": [
    {
     "data": {
      "text/plain": [
       "array([[0.62919177, 0.37080823],\n",
       "       [0.59222187, 0.40777813],\n",
       "       [0.7207892 , 0.2792108 ],\n",
       "       ...,\n",
       "       [0.67000952, 0.32999048],\n",
       "       [0.61051108, 0.38948892],\n",
       "       [0.74823157, 0.25176843]])"
      ]
     },
     "execution_count": 111,
     "metadata": {},
     "output_type": "execute_result"
    }
   ],
   "source": [
    "from sklearn.neural_network import MLPClassifier\n",
    "model = MLPClassifier( hidden_layer_sizes=(50,3), # 1st hidden layer with 50units and 2nd hidden layer will have 3unitslearning_rate_init=0.1, # The initial learning rate used. It controls the step-size in updating the weights.  \n",
    "                       max_iter=100, # Maximum number of iterations. default=200. This is called as stopping criteria.\n",
    "                       random_state=2) \n",
    "\n",
    "model.fit(x_train,y_train) ## training the data\n",
    "\n",
    "y_predict_proba = model.predict_proba(x_test) ## predicting the probability of class\n",
    "y_predict_proba"
   ]
  },
  {
   "cell_type": "code",
   "execution_count": 119,
   "id": "2a287508",
   "metadata": {},
   "outputs": [],
   "source": [
    "y_predict = model.predict(x_test) # Predicting for X_test\n",
    "\n",
    "y_train_predict = model.predict(x_train) # predicting for X_train"
   ]
  },
  {
   "cell_type": "code",
   "execution_count": 120,
   "id": "f378f8ca",
   "metadata": {},
   "outputs": [
    {
     "name": "stdout",
     "output_type": "stream",
     "text": [
      "Train accuracy : 0.6761280931586608\n",
      "Test accuracy : 0.6468340611353712\n"
     ]
    }
   ],
   "source": [
    "## Evaluating the model created\n",
    "from sklearn.metrics import accuracy_score,confusion_matrix\n",
    "\n",
    "print(\"Train accuracy :\",accuracy_score(y_train,y_train_predict))\n",
    "print(\"Test accuracy :\",accuracy_score(y_test,y_predict))"
   ]
  },
  {
   "cell_type": "code",
   "execution_count": 121,
   "id": "c10e6be2",
   "metadata": {},
   "outputs": [
    {
     "name": "stdout",
     "output_type": "stream",
     "text": [
      "              precision    recall  f1-score   support\n",
      "\n",
      "           0       0.67      0.80      0.73      1081\n",
      "           1       0.60      0.42      0.49       751\n",
      "\n",
      "    accuracy                           0.65      1832\n",
      "   macro avg       0.63      0.61      0.61      1832\n",
      "weighted avg       0.64      0.65      0.63      1832\n",
      "\n"
     ]
    }
   ],
   "source": [
    "## getting classification report\n",
    "from sklearn.metrics import classification_report\n",
    "print(classification_report(y_test,y_predict))"
   ]
  },
  {
   "cell_type": "code",
   "execution_count": 122,
   "id": "aaca32d7",
   "metadata": {},
   "outputs": [],
   "source": [
    "## Model creation\n",
    "from sklearn.naive_bayes import BernoulliNB\n",
    "\n",
    "## model object creation\n",
    "nb=BernoulliNB(alpha=0.01) #alpha is a regularization parameter # Avoid overfitting.\n",
    "\n",
    "## fitting the model\n",
    "nb.fit(x_train,y_train)\n",
    "\n",
    "## getting the prediction\n",
    "y_hat=nb.predict(x_test) "
   ]
  },
  {
   "cell_type": "code",
   "execution_count": 123,
   "id": "69ead4bc",
   "metadata": {},
   "outputs": [
    {
     "data": {
      "text/plain": [
       "array([0, 0, 0, ..., 1, 0, 0], dtype=int64)"
      ]
     },
     "execution_count": 123,
     "metadata": {},
     "output_type": "execute_result"
    }
   ],
   "source": [
    "y_hat"
   ]
  },
  {
   "cell_type": "code",
   "execution_count": 124,
   "id": "6cf8a514",
   "metadata": {},
   "outputs": [],
   "source": [
    "## Evaluating the model\n",
    "from sklearn.metrics import classification_report,confusion_matrix"
   ]
  },
  {
   "cell_type": "code",
   "execution_count": 125,
   "id": "71ebc45c",
   "metadata": {},
   "outputs": [
    {
     "name": "stdout",
     "output_type": "stream",
     "text": [
      "              precision    recall  f1-score   support\n",
      "\n",
      "           0       0.67      0.72      0.70      1081\n",
      "           1       0.55      0.50      0.53       751\n",
      "\n",
      "    accuracy                           0.63      1832\n",
      "   macro avg       0.61      0.61      0.61      1832\n",
      "weighted avg       0.62      0.63      0.63      1832\n",
      "\n"
     ]
    }
   ],
   "source": [
    "print(classification_report(y_test,y_hat))"
   ]
  },
  {
   "cell_type": "markdown",
   "id": "e38543b9",
   "metadata": {},
   "source": [
    "## CONCLUSION"
   ]
  },
  {
   "cell_type": "markdown",
   "id": "3a9f108a",
   "metadata": {},
   "source": [
    "### Analysis"
   ]
  },
  {
   "cell_type": "markdown",
   "id": "60c3a997",
   "metadata": {},
   "source": [
    "The data is supervised and categorical. The predictor variables are nominal. The target variable 'Status' is nominal as well.\n",
    "\n",
    "Most of the columns had a lot of different labels, so we compressed and merged the labels such that only the main ones were included and then used Label Encoding. The predictor variable was categorized into two types 'Good Lead' and 'Bad Lead'.\n",
    "\n",
    "SMOTE is used ajdusting the sampling data. For training the data and predicting the target, algorithms used are Logistic .Regression, Support Vector Machine, Decision Tree, Random Forest, Naive Bayes and Artificial Neural Network"
   ]
  },
  {
   "cell_type": "markdown",
   "id": "710eec7a",
   "metadata": {},
   "source": [
    "### SUMMARY"
   ]
  },
  {
   "cell_type": "markdown",
   "id": "12818c7c",
   "metadata": {},
   "source": [
    "The project is done with the purpose of finding out the Lead Quality, whether the lead should be followed or not. The company motive is to invest in the right prospects. So therefore we divided the Lead as 'Good' or 'Bad'. This resulted in increase of accuracy drastically.\n",
    "\n",
    "After considering the performance of all the models on the basis of Accuracy, f1 Score, ruc score and cross-validation it is concluded that Random Forest should be selected as our final model."
   ]
  },
  {
   "cell_type": "code",
   "execution_count": null,
   "id": "8c2fa469",
   "metadata": {},
   "outputs": [],
   "source": []
  }
 ],
 "metadata": {
  "kernelspec": {
   "display_name": "Python 3 (ipykernel)",
   "language": "python",
   "name": "python3"
  },
  "language_info": {
   "codemirror_mode": {
    "name": "ipython",
    "version": 3
   },
   "file_extension": ".py",
   "mimetype": "text/x-python",
   "name": "python",
   "nbconvert_exporter": "python",
   "pygments_lexer": "ipython3",
   "version": "3.9.12"
  }
 },
 "nbformat": 4,
 "nbformat_minor": 5
}
